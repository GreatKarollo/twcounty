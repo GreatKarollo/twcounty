{
 "metadata": {
  "name": "",
  "signature": "sha256:0d197ecc423ef71a2d12c99a416ece341892bfab75b9e434150f3df7cad331e9"
 },
 "nbformat": 3,
 "nbformat_minor": 0,
 "worksheets": [
  {
   "cells": [
    {
     "cell_type": "markdown",
     "metadata": {},
     "source": [
      "# Addressing selection bias in social media data for estimating county health statistics\n",
      "\n",
      "In [prior work](http://tapilab.github.io/public%20health/2014/04/26/twcounty/), we estimated many county health statistics from Twitter activity.\n",
      "\n",
      "In this work, we adjust for the sample bias of Twitter by stratifying data by gender and race. We show improvements in held-out prediction accuracy using this approach."
     ]
    },
    {
     "cell_type": "code",
     "collapsed": false,
     "input": [
      "# Classify users as male or female based on first names based on Census name frequency.\n",
      "from collections import defaultdict\n",
      "import re\n",
      "import requests\n",
      "\n",
      "def names2dict(url):\n",
      "    \"\"\" Fetch data from census and parse into dict mapping name to frequency. \"\"\"\n",
      "    names = defaultdict(lambda: 0)\n",
      "    for line in requests.get(url).text.split('\\n'):\n",
      "        parts = line.lower().split()\n",
      "        if len(parts) >= 2:\n",
      "            names[parts[0]] = float(parts[1])\n",
      "    return names\n",
      "\n",
      "def getCensusNames():\n",
      "    \"\"\" Fetch census name data and remove ambiguous names. \"\"\"\n",
      "    males = names2dict('http://www.census.gov/genealogy/www/data/1990surnames/dist.male.first')\n",
      "    females = names2dict('http://www.census.gov/genealogy/www/data/1990surnames/dist.female.first')\n",
      "    print len(set(males.keys() + females.keys())), 'total names'\n",
      "    eps = 10.  # keep names that are eps times more frequent in one gender than the other.\n",
      "    tokeep = []\n",
      "    for name in set(males.keys() + females.keys()):\n",
      "        mscore = males[name]\n",
      "        fscore = females[name]\n",
      "        if mscore == 0 or fscore == 0 or mscore / fscore > eps or fscore / mscore > eps:\n",
      "            tokeep.append(name)\n",
      "    print 'keeping', len(tokeep)\n",
      "    m = set([n for n in tokeep if males[n] > females[n]])\n",
      "    f = set([n for n in tokeep if females[n] > males[n]])\n",
      "    return m, f\n",
      "\n",
      "males, females = getCensusNames()\n",
      "print 'found', len(males), 'males and', len(females), 'females'\n",
      "\n",
      "def labelGender(tweet, males, females):\n",
      "    \"\"\" Classify a tweet as male (m) female (f) or neutral (n) based on first token in name field. \"\"\"\n",
      "    name = tweet['user']['name'].lower().split()\n",
      "    if len(name) == 0:\n",
      "        name = ['']\n",
      "    name = re.findall('\\w+', name[0])\n",
      "    if len(name) == 0:\n",
      "        name = ''\n",
      "    else:\n",
      "        name = name[0]\n",
      "    if name in males:\n",
      "        tweet['user']['gender'] = 'm'\n",
      "    elif name in females:\n",
      "        tweet['user']['gender'] = 'f'\n",
      "    else:\n",
      "        tweet['user']['gender'] = 'n'\n",
      "    return tweet\n",
      "\n",
      "print 'John is', labelGender({'user':{'name':'John smith'}}, males, females)['user']['gender']\n",
      "print 'Jane is', labelGender({'user':{'name':'jane doe'}}, males, females)['user']['gender']\n",
      "print 'kris is', labelGender({'user':{'name':'Kris doe'}}, males, females)['user']['gender']"
     ],
     "language": "python",
     "metadata": {},
     "outputs": [
      {
       "output_type": "stream",
       "stream": "stdout",
       "text": [
        "5163 total names\n",
        "keeping 5008\n",
        "found 1048 males and 3960 females\n",
        "John is m\n",
        "Jane is f\n",
        "kris is n\n"
       ]
      }
     ],
     "prompt_number": 17
    },
    {
     "cell_type": "code",
     "collapsed": false,
     "input": [
      "def labelRace(tweet):\n",
      "    \n",
      "    desc = tweet['user']['description']\n",
      "    if not desc:\n",
      "        desc = ''\n",
      "    toks = set(re.findall('\\w+', desc.lower()))\n",
      "    \n",
      "    if len(set(['african', 'black', 'aa', 'sbm', 'sbf']) & toks) > 0:\n",
      "        tweet['user']['race'] = 'b'\n",
      "        print 'black:', desc\n",
      "    elif len(set(['latin', 'latino', 'latina', 'hispanic']) & toks) > 0:\n",
      "        tweet['user']['race'] = 'l'\n",
      "        print 'latino:', desc\n",
      "    else:\n",
      "        tweet['user']['race'] = 'n'\n",
      "    return tweet\n",
      "\n",
      "print 'John is', labelRace({'user':{'description':'african-american'}})['user']['race']\n",
      "print 'Jane is', labelRace({'user':{'description':'black man'}})['user']['race']\n",
      "print 'kris is', labelRace({'user':{'description':'a latino'}})['user']['race']\n",
      "print 'foo is', labelRace({'user':{'description':'blah'}})['user']['race']"
     ],
     "language": "python",
     "metadata": {},
     "outputs": [
      {
       "output_type": "stream",
       "stream": "stdout",
       "text": [
        "John is black: african-american\n",
        "b\n",
        "Jane is black: black man\n",
        "b\n",
        "kris is latino: a latino\n",
        "l\n",
        "foo is n\n"
       ]
      }
     ],
     "prompt_number": 18
    },
    {
     "cell_type": "code",
     "collapsed": false,
     "input": [
      "%pylab inline\n",
      "# Train a race classifier based on description field.\n",
      "import glob\n",
      "import io\n",
      "import json\n",
      "import os\n",
      "import re\n",
      "\n",
      "import numpy as np\n",
      "\n",
      "from sklearn.cross_validation import KFold\n",
      "from sklearn.feature_extraction.text import CountVectorizer, TfidfVectorizer\n",
      "from sklearn.linear_model import LogisticRegression\n",
      "from sklearn.metrics import classification_report, precision_recall_curve\n",
      "from sklearn.preprocessing import label_binarize, scale\n",
      "\n",
      "from twutil import preprocess\n",
      "\n",
      "def print_top_feats(m, feature_names, labels, n=10):\n",
      "    for i, coef in enumerate(m.coef_):\n",
      "        srted = np.argsort(coef)\n",
      "        topi = srted[::-1][:n]\n",
      "        boti = srted[:n]\n",
      "        print 'label=', labels[i]\n",
      "        print 'pos:' + ' '.join('%s (%.2g)' % (n, c) for n, c in zip(feature_names[topi], coef[topi]))\n",
      "        print 'neg:' + ' '.join('%s (%.2g)' % (n, c) for n, c in zip(feature_names[boti], coef[boti]))\n",
      "\n",
      "def prec_rec(truths_bin, probs, races):\n",
      "    truths_bin = np.array(truths_bin)\n",
      "    probs = np.array(probs)\n",
      "    precision = dict()\n",
      "    recall = dict()\n",
      "    for i in range(len(races)):\n",
      "        precision[i], recall[i], _ = precision_recall_curve(truths_bin[:, i],\n",
      "                                                            probs[:, i])\n",
      "    # Plot Precision-Recall curve for each class\n",
      "    for i in range(len(races)):\n",
      "        plot(recall[i], precision[i], label=races[i])\n",
      "    xlabel('Recall')\n",
      "    ylabel('Precision')\n",
      "    legend(loc=\"lower right\")\n",
      "\n",
      "def read_race_data(race_path, tzer, races):\n",
      "    tokens = []\n",
      "    labels = []\n",
      "    for fname in glob.glob(race_path + '/*.*'):\n",
      "        label = os.path.splitext(os.path.basename(fname))[0]\n",
      "        for line in io.open(fname, encoding='utf8'):\n",
      "            js = json.loads(line)\n",
      "            toks = tzer.do_tokenize(js['description'])\n",
      "            if len(toks) > 0:\n",
      "                labels.append(races.index(label))\n",
      "                tokens.append(' '.join(toks))\n",
      "    return tokens, labels\n",
      "\n",
      "races = ['black', 'latin', 'white']\n",
      "\n",
      "def train_race_clf():\n",
      "    print 'training race classifier'\n",
      "    tzer = preprocess.Tokenizer(fields='description', retain_punc_toks=False, collapse_digits=True)\n",
      "    tokens, labels = read_race_data('/data/twcounty/labeled_users/race', tzer, races)\n",
      "    vec = TfidfVectorizer(token_pattern='\\S+', min_df=2, binary=True)\n",
      "    X = vec.fit_transform(tokens)    \n",
      "    y = np.array(labels)\n",
      "\n",
      "    cv = KFold(len(y), 10, shuffle=True, random_state=123456)\n",
      "    m = LogisticRegression(class_weight='auto')\n",
      "    preds = []\n",
      "    truths = []\n",
      "    probs = [] \n",
      "    y_bin = label_binarize(y, classes=range(len(races)))\n",
      "    truths_bin = []\n",
      "    for train, test in cv:\n",
      "        m.fit(X[train], y[train])\n",
      "        preds.extend(m.predict(X[test]))\n",
      "        truths.extend(y[test])\n",
      "        probs.extend(m.predict_proba(X[test]))\n",
      "        truths_bin.extend(y_bin[test])\n",
      "        \n",
      "    print classification_report(truths, preds, target_names=races)\n",
      "    m.fit(X, y)\n",
      "    m.tzer = tzer\n",
      "    m.vec = vec\n",
      "    print_top_feats(m, np.array(vec.get_feature_names()), races, 5)\n",
      "    # What is precision of classifications with probability > .5?\n",
      "    threshold = 0.5\n",
      "    y_filtered = [i for i, pred in enumerate(preds) if probs[i][pred] > threshold]\n",
      "    print len(y_filtered), 'retained of', len(preds), 'total using threshold', threshold\n",
      "    print classification_report(np.array(truths)[y_filtered], np.array(preds)[y_filtered], target_names=races)\n",
      "    prec_rec(truths_bin, probs, races)\n",
      "    return m\n",
      "    \n",
      "    \n",
      "def label_race_clf(tweet, clf):\n",
      "    desc = tweet['user']['description']\n",
      "    if not desc:\n",
      "        desc = ''\n",
      "    preds = clf.predict_proba(clf.vec.transform([' '.join(clf.tzer.do_tokenize(desc))]))[0]\n",
      "    if max(preds) > 0.5:\n",
      "        # print 'predicting', races[np.argmax(preds)], 'for', tweet['user']['screen_name'], desc\n",
      "        tweet['user']['race'] = races[np.argmax(preds)]\n",
      "    else:\n",
      "        tweet['user']['race'] = 'n'\n",
      "    return tweet\n",
      "\n",
      "race_clf = train_race_clf()\n",
      "print 'John is', label_race_clf({'user':{'description':'r.i.p.', 'screen_name':'john'}}, race_clf)['user']['race']\n",
      "print 'Jane is', label_race_clf({'user':{'description':'que', 'screen_name':'jane'}}, race_clf)['user']['race']\n",
      "print 'Joe is', label_race_clf({'user':{'description':'like', 'screen_name':'joe'}}, race_clf)['user']['race']\n",
      "print 'Jesse is', label_race_clf({'user':{'description':'asdf', 'screen_name':'jesse'}}, race_clf)['user']['race']"
     ],
     "language": "python",
     "metadata": {},
     "outputs": [
      {
       "output_type": "stream",
       "stream": "stdout",
       "text": [
        "Populating the interactive namespace from numpy and matplotlib\n",
        "training race classifier\n",
        "             precision    recall  f1-score   support\n",
        "\n",
        "      black       0.53      0.47      0.50       263\n",
        "      latin       0.81      0.51      0.62       157\n",
        "      white       0.56      0.72      0.63       324\n",
        "\n",
        "avg / total       0.60      0.59      0.58       744\n"
       ]
      },
      {
       "output_type": "stream",
       "stream": "stdout",
       "text": [
        "\n",
        "label= black\n",
        "pos:for (1.5) r.i.p (1.3) money (1.2) live (1.2) team (1.1)\n",
        "neg:de (-1.4) y (-1.1) la (-0.89) like (-0.86) and (-0.81)\n",
        "label= latin\n",
        "pos:de (3.1) y (2.5) que (1.6) un (1.5) en (1.5)\n",
        "neg:for (-1.5) of (-1.3) the (-1.1) and (-1) you (-1)\n",
        "label= white\n",
        "pos:and (1.4) like (1.2) 9/9 (0.95) not (0.94) am (0.83)\n",
        "neg:de (-1.8) y (-1.3) live (-1) me (-1) instagram (-0.98)\n",
        "245 retained of 744 total using threshold 0.5\n",
        "             precision    recall  f1-score   support\n",
        "\n",
        "      black       0.52      0.48      0.50        71\n",
        "      latin       0.96      0.76      0.84        86\n",
        "      white       0.60      0.76      0.67        88\n",
        "\n",
        "avg / total       0.70      0.68      0.68       245\n",
        "\n",
        "John is"
       ]
      },
      {
       "output_type": "stream",
       "stream": "stdout",
       "text": [
        " black\n",
        "Jane is latin\n",
        "Joe is white\n",
        "Jesse is n\n"
       ]
      },
      {
       "metadata": {},
       "output_type": "display_data",
       "png": "[encoded data removed]",
       "text": [
        "<matplotlib.figure.Figure at 0x11403e110>"
       ]
      }
     ],
     "prompt_number": 19
    },
    {
     "cell_type": "code",
     "collapsed": false,
     "input": [
      "# Read in Twitter json files, classifying each by gender and/or race.\n",
      "from collections import Counter\n",
      "import io\n",
      "import glob\n",
      "import json\n",
      "import os\n",
      "import re\n",
      "import sys\n",
      "import tok.unicode_props\n",
      "\n",
      "import tweet\n",
      "import json2tsv\n",
      "\n",
      "JSON_D='/data/twcounty/json/'  # Directory containing one json file per county, named according to FIPS.\n",
      "    \n",
      "def iter_jsons(f):\n",
      "    \"\"\" Iterate tweet json objects from a file, appending county information from file name.\"\"\"\n",
      "    fp = io.open(f, mode='rt', encoding='utf8')\n",
      "    county = os.path.basename(f)\n",
      "    count = 0    \n",
      "    for line in fp:\n",
      "        try:\n",
      "            line = re.sub('\\t', '     ', line)\n",
      "            js = json.loads(line)\n",
      "            if json2tsv.valid_line(js):\n",
      "                js['county'] = county\n",
      "                yield js\n",
      "                count += 1\n",
      "                if count >= 10000:  # FIXME: limiting to first 1000 users per county for testing.\n",
      "                    return\n",
      "        except:\n",
      "            pass\n",
      "\n",
      "def iter_files(path):\n",
      "    \"\"\" Iterate tweets in directory of json files. \"\"\"\n",
      "    fcount = 1\n",
      "    for fname in glob.glob(path + '/*'):\n",
      "        print 'parsing', fname, '(#', fcount, ')'\n",
      "        fcount += 1\n",
      "        for js in iter_jsons(fname):\n",
      "            yield js\n",
      "\n",
      "def iter_gender(jss):\n",
      "    for js in jss:\n",
      "        labelGender(js, males, females)\n",
      "        yield js\n",
      "\n",
      "def iter_race(jss, race_clf):\n",
      "    for js in jss:\n",
      "        label_race_clf(js, race_clf)\n",
      "        yield js\n",
      "\n",
      "def iter_tokenize(jss):\n",
      "    all_users = set()\n",
      "    for js in jss:\n",
      "        if not js['user']['description']:\n",
      "            js['user']['description'] = ' '\n",
      "        tw = tweet.Tweet(js['county'], js['id'], js['user']['screen_name'],\n",
      "                            json2tsv.tokenize(js['text'], tokenizer),\n",
      "                            json2tsv.tokenize(js['user']['description'], tokenizer))\n",
      "        tw.gender = js['user']['gender']\n",
      "        tw.race = js['user']['race']\n",
      "        if tw.screen_name not in all_users:\n",
      "            # county2demo[js['county']][tw.gender] += 1\n",
      "            county2demo[js['county']][tw.race] += 1\n",
      "            all_users.add(tw.screen_name)\n",
      "        gender_counts.update([tw.gender])\n",
      "        race_counts.update([tw.race])\n",
      "        yield tw\n"
     ],
     "language": "python",
     "metadata": {},
     "outputs": [],
     "prompt_number": 20
    },
    {
     "cell_type": "code",
     "collapsed": false,
     "input": [
      "def do_featurize(feats, words, prefix, alpha, unigrams=True, liwc=False, perma=False):\n",
      "    lexi = tsv2feats.lexicons(words, liwc, perma)\n",
      "    if unigrams:\n",
      "        lexi.extend(words)\n",
      "    for t in lexi:\n",
      "        feats[alpha[prefix + t]] += 1\n",
      "    return feats\n",
      "\n",
      "\n",
      "# def featurize(tw, alpha, unigrams, liwc, perma):\n",
      "#     feats = defaultdict(lambda: 0)\n",
      "#    if tw.text:\n",
      "#        do_featurize(feats, tw.text.split(' '), '', alpha, unigrams, liwc, perma)\n",
      "#        if tw.gender != 'n':\n",
      "#            do_featurize(feats, tw.text.split(' '), tw.gender + \"_\", alpha, unigrams, liwc, perma)\n",
      "#    if tw.description:\n",
      "#        do_featurize(feats, tw.description.split(' '), 'd=', alpha, unigrams, liwc, perma)\n",
      "#        if tw.gender != 'n':\n",
      "#            do_featurize(feats, tw.description.split(' '), tw.gender + '_d=', alpha, unigrams, liwc, perma)\n",
      "#    return feats\n",
      "\n",
      "def featurize_race(tw, alpha, unigrams, liwc, perma):\n",
      "    \"\"\"\n",
      "    >>> alpha = defaultdict(lambda: len(alpha))\n",
      "    >>> feats = featurize(tweet.Tweet('cty1', '123', 'joe', 'i', 'abject'), alpha, True, True, True)\n",
      "    >>> all(feats[alpha[word]] == 1 for word in [u'd=P-', u'Pronoun', u'I', u'Self', 'i', 'd=abject'])\n",
      "    True\n",
      "    \"\"\"\n",
      "    feats = defaultdict(lambda: 0)\n",
      "    if tw.text:\n",
      "        do_featurize(feats, tw.text.split(' '), '', alpha, unigrams, liwc, perma)\n",
      "        if tw.race != 'n':\n",
      "            do_featurize(feats, tw.text.split(' '), tw.race + \"_\", alpha, unigrams, liwc, perma)\n",
      "    if tw.description:\n",
      "        do_featurize(feats, tw.description.split(' '), 'd=', alpha, unigrams, liwc, perma)\n",
      "        if tw.race != 'n':\n",
      "            do_featurize(feats, tw.description.split(' '), tw.race + '_d=', alpha, unigrams, liwc, perma)\n",
      "    return feats\n",
      "\n",
      "def read_tweets_race(tweets, user_norm=False, unigrams=True, liwc=False, perma=False):\n",
      "    alpha = defaultdict(lambda: len(alpha))\n",
      "    # county -> tweets\n",
      "    tweets_by_county = defaultdict(lambda: defaultdict(lambda: 0))\n",
      "    users_by_county = defaultdict(lambda: set())\n",
      "    tweets_by_user = defaultdict(lambda: defaultdict(lambda: set()))\n",
      "    i = 0\n",
      "    for tw in tweets:\n",
      "        users_by_county[tw.county].add(tw.screen_name)\n",
      "        feats = featurize_race(tw, alpha, unigrams, liwc, perma)\n",
      "        for k, v in feats.iteritems():\n",
      "            if user_norm:\n",
      "                if k not in tweets_by_user[tw.county][tw.screen_name]:\n",
      "                    tweets_by_county[tw.county][k] += 1\n",
      "                    tweets_by_user[tw.county][tw.screen_name].add(k)\n",
      "            else:\n",
      "                tweets_by_county[tw.county][k] += v\n",
      "        i += 1\n",
      "    return tsv2feats.default_dict_to_dict(tweets_by_county), users_by_county, alpha"
     ],
     "language": "python",
     "metadata": {},
     "outputs": []
    },
    {
     "cell_type": "code",
     "collapsed": false,
     "input": [
      "# READ DATA\n",
      "# Parse all json files. This takes a while.\n",
      "import data\n",
      "import expt\n",
      "import tsv2feats\n",
      "\n",
      "tokenizer = tok.unicode_props.UP_Tiny(1)\n",
      "\n",
      "gender_counts = Counter()\n",
      "race_counts = Counter()\n",
      "county2demo = defaultdict(lambda: {'black': 0., 'latin': 0., 'white':0., 'n': 0.})\n",
      "# county2demo = defaultdict(lambda: {'m': 0., 'f': 0., 'n':0.})\n",
      "race_clf = train_race_clf()\n",
      "\n",
      "features_og, users_by_county_og, alpha_og = tsv2feats.read_tweets(iter_tokenize(iter_race(iter_gender(iter_files(JSON_D)), race_clf)),\n",
      "                                                                               user_norm=True, unigrams=False, liwc=True, perma=True)\n",
      "features_og_gender, users_by_county_og_gender, alpha_og_gender = read_tweets_gender(iter_tokenize(iter_race(iter_gender(iter_files(JSON_D)), race_clf)), user_norm=True, unigrams=False, liwc=True, perma=True)\n",
      "print 'genders:', gender_counts\n",
      "print 'races:', race_counts\n"
     ],
     "language": "python",
     "metadata": {},
     "outputs": [
      {
       "output_type": "stream",
       "stream": "stdout",
       "text": [
        "training race classifier\n",
        "             precision    recall  f1-score   support\n",
        "\n",
        "      black       0.53      0.47      0.50       263\n",
        "      latin       0.81      0.51      0.62       157\n",
        "      white       0.56      0.72      0.63       324\n",
        "\n",
        "avg / total       0.60      0.59      0.58       744\n"
       ]
      },
      {
       "output_type": "stream",
       "stream": "stdout",
       "text": [
        "\n",
        "label= black\n",
        "pos:for (1.5) r.i.p (1.3) money (1.2) live (1.2) team (1.1)\n",
        "neg:de (-1.4) y (-1.1) la (-0.89) like (-0.86) and (-0.81)\n",
        "label= latin\n",
        "pos:de (3.1) y (2.5) que (1.6) un (1.5) en (1.5)\n",
        "neg:for (-1.5) of (-1.3) the (-1.1) and (-1) you (-1)\n",
        "label= white\n",
        "pos:and (1.4) like (1.2) 9/9 (0.95) not (0.94) am (0.83)\n",
        "neg:de (-1.8) y (-1.3) live (-1) me (-1) instagram (-0.98)\n",
        "245 retained of 744 total using threshold 0.5\n",
        "             precision    recall  f1-score   support\n",
        "\n",
        "      black       0.52      0.48      0.50        71\n",
        "      latin       0.96      0.76      0.84        86\n",
        "      white       0.60      0.76      0.67        88\n",
        "\n",
        "avg / total       0.70      0.68      0.68       245\n",
        "\n",
        "parsing"
       ]
      },
      {
       "output_type": "stream",
       "stream": "stdout",
       "text": [
        " /data/twcounty/json/01073 (# 1 )\n",
        "parsing"
       ]
      },
      {
       "output_type": "stream",
       "stream": "stdout",
       "text": [
        " /data/twcounty/json/04013 (# 2 )\n",
        "parsing"
       ]
      },
      {
       "output_type": "stream",
       "stream": "stdout",
       "text": [
        " /data/twcounty/json/04019 (# 3 )\n",
        "parsing"
       ]
      },
      {
       "output_type": "stream",
       "stream": "stdout",
       "text": [
        " /data/twcounty/json/06001 (# 4 )\n",
        "parsing"
       ]
      },
      {
       "output_type": "stream",
       "stream": "stdout",
       "text": [
        " /data/twcounty/json/06013 (# 5 )\n",
        "parsing"
       ]
      },
      {
       "output_type": "stream",
       "stream": "stdout",
       "text": [
        " /data/twcounty/json/06019 (# 6 )\n",
        "parsing"
       ]
      },
      {
       "output_type": "stream",
       "stream": "stdout",
       "text": [
        " /data/twcounty/json/06029 (# 7 )\n",
        "parsing"
       ]
      },
      {
       "output_type": "stream",
       "stream": "stdout",
       "text": [
        " /data/twcounty/json/06037 (# 8 )\n",
        "parsing"
       ]
      },
      {
       "output_type": "stream",
       "stream": "stdout",
       "text": [
        " /data/twcounty/json/06059 (# 9 )\n",
        "parsing"
       ]
      },
      {
       "output_type": "stream",
       "stream": "stdout",
       "text": [
        " /data/twcounty/json/06065 (# 10 )\n",
        "parsing"
       ]
      },
      {
       "output_type": "stream",
       "stream": "stdout",
       "text": [
        " /data/twcounty/json/06067 (# 11 )\n",
        "parsing"
       ]
      },
      {
       "output_type": "stream",
       "stream": "stdout",
       "text": [
        " /data/twcounty/json/06071 (# 12 )\n",
        "parsing"
       ]
      },
      {
       "output_type": "stream",
       "stream": "stdout",
       "text": [
        " /data/twcounty/json/06073 (# 13 )\n",
        "parsing"
       ]
      },
      {
       "output_type": "stream",
       "stream": "stdout",
       "text": [
        " /data/twcounty/json/06075 (# 14 )\n",
        "parsing"
       ]
      },
      {
       "output_type": "stream",
       "stream": "stdout",
       "text": [
        " /data/twcounty/json/06077 (# 15 )\n",
        "parsing"
       ]
      },
      {
       "output_type": "stream",
       "stream": "stdout",
       "text": [
        " /data/twcounty/json/06081 (# 16 )\n",
        "parsing"
       ]
      },
      {
       "output_type": "stream",
       "stream": "stdout",
       "text": [
        " /data/twcounty/json/06085 (# 17 )\n",
        "parsing"
       ]
      },
      {
       "output_type": "stream",
       "stream": "stdout",
       "text": [
        " /data/twcounty/json/06111 (# 18 )\n",
        "parsing"
       ]
      },
      {
       "output_type": "stream",
       "stream": "stdout",
       "text": [
        " /data/twcounty/json/08041 (# 19 )\n",
        "parsing"
       ]
      },
      {
       "output_type": "stream",
       "stream": "stdout",
       "text": [
        " /data/twcounty/json/09001 (# 20 )\n",
        "parsing"
       ]
      },
      {
       "output_type": "stream",
       "stream": "stdout",
       "text": [
        " /data/twcounty/json/09003 (# 21 )\n",
        "parsing"
       ]
      },
      {
       "output_type": "stream",
       "stream": "stdout",
       "text": [
        " /data/twcounty/json/09009 (# 22 )\n",
        "parsing"
       ]
      },
      {
       "output_type": "stream",
       "stream": "stdout",
       "text": [
        " /data/twcounty/json/12011 (# 23 )\n",
        "parsing"
       ]
      },
      {
       "output_type": "stream",
       "stream": "stdout",
       "text": [
        " /data/twcounty/json/12031 (# 24 )\n",
        "parsing"
       ]
      },
      {
       "output_type": "stream",
       "stream": "stdout",
       "text": [
        " /data/twcounty/json/12057 (# 25 )\n",
        "parsing"
       ]
      },
      {
       "output_type": "stream",
       "stream": "stdout",
       "text": [
        " /data/twcounty/json/12086 (# 26 )\n",
        "parsing"
       ]
      },
      {
       "output_type": "stream",
       "stream": "stdout",
       "text": [
        " /data/twcounty/json/12095 (# 27 )\n",
        "parsing"
       ]
      },
      {
       "output_type": "stream",
       "stream": "stdout",
       "text": [
        " /data/twcounty/json/12099 (# 28 )\n",
        "parsing"
       ]
      },
      {
       "output_type": "stream",
       "stream": "stdout",
       "text": [
        " /data/twcounty/json/12103 (# 29 )\n",
        "parsing"
       ]
      },
      {
       "output_type": "stream",
       "stream": "stdout",
       "text": [
        " /data/twcounty/json/13067 (# 30 )\n",
        "parsing"
       ]
      },
      {
       "output_type": "stream",
       "stream": "stdout",
       "text": [
        " /data/twcounty/json/13089 (# 31 )\n",
        "parsing"
       ]
      },
      {
       "output_type": "stream",
       "stream": "stdout",
       "text": [
        " /data/twcounty/json/13121 (# 32 )\n",
        "parsing"
       ]
      },
      {
       "output_type": "stream",
       "stream": "stdout",
       "text": [
        " /data/twcounty/json/13135 (# 33 )\n",
        "parsing"
       ]
      },
      {
       "output_type": "stream",
       "stream": "stdout",
       "text": [
        " /data/twcounty/json/15003 (# 34 )\n",
        "parsing"
       ]
      },
      {
       "output_type": "stream",
       "stream": "stdout",
       "text": [
        " /data/twcounty/json/17031 (# 35 )\n",
        "parsing"
       ]
      },
      {
       "output_type": "stream",
       "stream": "stdout",
       "text": [
        " /data/twcounty/json/17043 (# 36 )\n",
        "parsing"
       ]
      },
      {
       "output_type": "stream",
       "stream": "stdout",
       "text": [
        " /data/twcounty/json/17097 (# 37 )\n",
        "parsing"
       ]
      },
      {
       "output_type": "stream",
       "stream": "stdout",
       "text": [
        " /data/twcounty/json/17197 (# 38 )\n",
        "parsing"
       ]
      },
      {
       "output_type": "stream",
       "stream": "stdout",
       "text": [
        " /data/twcounty/json/18097 (# 39 )\n",
        "parsing"
       ]
      },
      {
       "output_type": "stream",
       "stream": "stdout",
       "text": [
        " /data/twcounty/json/21111 (# 40 )\n",
        "parsing"
       ]
      }
     ]
    },
    {
     "cell_type": "code",
     "collapsed": false,
     "input": [
      "def norm_by_gender(tweets_by_county, users_by_county, alpha, include_og_feature):\n",
      "    \"\"\" Each county is represented by the fraction of users who use a particular word\n",
      "    >>> alpha = {'dog': 0, 'cat': 1}\n",
      "    >>> counties = {'cty1': {0: 2, 1: 1}}\n",
      "    >>> norm_by_user(counties, {'cty1': set(['u1', 'u2'])}, alpha)\n",
      "    >>> counties['cty1']\n",
      "    {0: 1.0, 1: 0.5}\n",
      "    \"\"\"\n",
      "    alpha = defaultdict(lambda: len(alpha), alpha)\n",
      "    rev_alpha = tsv2feats.reverse_dict(alpha)\n",
      "    for cty_id in tweets_by_county:\n",
      "        nusers = len(users_by_county[cty_id])\n",
      "        features = tweets_by_county[cty_id]\n",
      "        for feature, value in features.items():\n",
      "            feat_name = rev_alpha[feature]\n",
      "            # if include_og_feature:\n",
      "            #     features[feature] = 1. * value / nusers            \n",
      "            # Divide by the number of that gender (m,f,n), which prefixes the feature\n",
      "            if feat_name[0:2] == 'm_' or feat_name == 'f_':\n",
      "                features[feature] = 1. * value / county2demo[cty_id][feat_name[0]]\n",
      "            else:\n",
      "                features[feature] = 1. * value / nusers\n",
      "                # features[feature] = 1.\n",
      "    return alpha\n",
      "\n",
      "def norm_by_race(tweets_by_county, users_by_county, alpha, include_og_feature):\n",
      "    alpha = defaultdict(lambda: len(alpha), alpha)\n",
      "    rev_alpha = tsv2feats.reverse_dict(alpha)\n",
      "    for cty_id in tweets_by_county:\n",
      "        nusers = len(users_by_county[cty_id])\n",
      "        features = tweets_by_county[cty_id]\n",
      "        for feature, value in features.items():\n",
      "            feat_name = rev_alpha[feature]\n",
      "            # Divide by the number of that race (m,f,n), which prefixes the feature\n",
      "            if feat_name[0:6] == 'black_' or feat_name[0:6] == 'white_' or feat_name[0:6] == 'latin_':\n",
      "                if county2demo[cty_id][feat_name[0:5]] == 0:\n",
      "                    county2demo[cty_id][feat_name[0:5]] = 1.\n",
      "                features[feature] = 1. * value / county2demo[cty_id][feat_name[0:5]]\n",
      "            else:\n",
      "                features[feature] = 1. * value / nusers\n",
      "                # features[feature] = 1.\n",
      "    return alpha"
     ],
     "language": "python",
     "metadata": {},
     "outputs": []
    },
    {
     "cell_type": "code",
     "collapsed": false,
     "input": [
      "def get_results(train_folds, test_folds, m, vocab, target_name, coords):\n",
      "    \"\"\" Write prediction results to disk. \"\"\"\n",
      "    target_name = expt.fmt_target(target_name)\n",
      "    train_results = expt.evaluate(train_folds, coords)\n",
      "    test_results = expt.evaluate(test_folds, coords)\n",
      "    # print('%20s:\\ttrain\\t%s' % (target_name[:20], expt.fmt_eval(train_results, ['smape_m', 'correl', 'correl_a'])))\n",
      "    # print('%20s:\\ttest\\t%s' % (target_name[:20], expt.fmt_eval(test_results, ['smape_m', 'correl', 'correl_a'])))\n",
      "    return test_results"
     ],
     "language": "python",
     "metadata": {},
     "outputs": []
    },
    {
     "cell_type": "code",
     "collapsed": false,
     "input": [
      "import copy\n",
      "import numpy as np\n",
      "\n",
      "from scipy.stats import pearsonr\n",
      "from sklearn import linear_model\n",
      "\n",
      "def avg_results(all_results):\n",
      "    \"\"\" Average all_results. \"\"\"\n",
      "    result = {}\n",
      "    for key in all_results[0].keys():\n",
      "        result[key] = np.mean([d[key] for d in all_results])\n",
      "    return result\n",
      "\n",
      "def myridge(x, y, train, test, alpha=1):\n",
      "    m = linear_model.Ridge(alpha)\n",
      "    m.fit(x[train], y[train])\n",
      "    return (m, m.predict(x[train]), m.predict(x[test]))\n",
      "\n",
      "def run_expt(features_og, users_by_county_og, alpha_og, use_gender, use_og_feature, ridge_alpha):\n",
      "    features = copy.copy(features_og)\n",
      "    users_by_county = copy.copy(users_by_county_og)\n",
      "    alpha = copy.copy(alpha_og)\n",
      "    features, alpha = tsv2feats.filter_by_count(features, alpha, min_df=20)\n",
      "    if use_gender:\n",
      "        alpha = norm_by_race(features, users_by_county, alpha, use_og_feature)\n",
      "    else:\n",
      "        tsv2feats.norm_by_user(features, users_by_county, alpha)\n",
      "    features = tsv2feats.densify(features, alpha)  # default_dict_to_dict(features)\n",
      "    print('last 10 features from first county: %s' % features.values()[0][-10:])\n",
      "    print('last 10 words from alpha: %s' % alpha.keys()[-10:])\n",
      "    county_data = data.Data(None, features, alpha)\n",
      "    coords = expt.read_coords('/data/twcounty/stats2/counties/counties.top100.bounding.txt')\n",
      "    counties = county_data.features\n",
      "    data_alpha = sorted(county_data.alpha.keys(), key=lambda k: county_data.alpha[k])\n",
      "    targets, target_alpha = expt.read_targets('/data/twcounty/targets.tsv', counties.keys())\n",
      "    states = expt.read_states('/data/twcounty/states.tsv', counties.keys())\n",
      " \n",
      "    \n",
      "    cv = expt.make_state_cv(counties, states, 5)\n",
      "    X, Y = expt.to_matrices(counties, targets)\n",
      "    county_ids = np.array(sorted(counties))\n",
      "    all_results = []\n",
      "    all_smapes = []\n",
      "    for yi, ylabel in enumerate(target_alpha):\n",
      "        y = Y[:, yi]\n",
      "        train_folds = []\n",
      "        test_folds = []\n",
      "        for train, test in cv:\n",
      "            m, train_pred, test_pred = myridge(X, y, train, test, alpha=ridge_alpha)\n",
      "            train_folds.append((y[train], train_pred, county_ids[train]))\n",
      "            test_folds.append((y[test], test_pred, county_ids[test]))\n",
      "        m, train_pred, test_pred = myridge(X, y, range(len(y)), range(len(y)), alpha=ridge_alpha)\n",
      "        #fvals, pvals = expt.feature_correls(X, y, [coords[cty] for cty in county_ids])\n",
      "        all_results.append(get_results(train_folds, test_folds, m, data_alpha, ylabel, coords))\n",
      "        smapes = [expt.smape(t[0], t[1]) for t in test_folds]\n",
      "        all_smapes.append(smapes)\n",
      "        # smapes = [pearsonr(t[0], t[1])[0] for t in test_folds]\n",
      "        # all_smapes.append(smapes)\n",
      "    summary = avg_results(all_results)\n",
      "    print(u'\\t'.join(str(k) for k in sorted(summary.keys())) + '\\n')\n",
      "    print(u'\\t'.join(str(summary[k]) for k in sorted(summary.keys())) + '\\n')\n",
      "    return target_alpha, np.array(all_smapes)"
     ],
     "language": "python",
     "metadata": {},
     "outputs": []
    },
    {
     "cell_type": "code",
     "collapsed": false,
     "input": [
      "rev_alpha = tsv2feats.reverse_dict(alpha_og_gender)\n",
      "print [rev_alpha[k] for k in features_og_gender.values()[0].keys()[-10:]]\n",
      "print features_og_gender.values()[0].items()[-10:]\n",
      "rev_alpha = tsv2feats.reverse_dict(alpha_og)\n",
      "print [rev_alpha[k] for k in features_og.values()[0].keys()[-10:]]\n",
      "print features_og.values()[0].items()[-10:]"
     ],
     "language": "python",
     "metadata": {},
     "outputs": []
    },
    {
     "cell_type": "code",
     "collapsed": false,
     "input": [
      "targets, gender_results = run_expt(features_og_gender, users_by_county_og_gender, alpha_og_gender, use_gender=True, use_og_feature=True, ridge_alpha=3.9)"
     ],
     "language": "python",
     "metadata": {},
     "outputs": []
    },
    {
     "cell_type": "code",
     "collapsed": false,
     "input": [
      "targets, og_results = run_expt(features_og, users_by_county_og, alpha_og, use_gender=False, use_og_feature=True, ridge_alpha=.1)"
     ],
     "language": "python",
     "metadata": {},
     "outputs": []
    },
    {
     "cell_type": "code",
     "collapsed": false,
     "input": [
      "# Search for best alpha\n",
      "results = []\n",
      "for my_alpha in [3.5, 3.6, 3.7, 3.8, 3.9, 4., 4.1, 4.2, 4.3, 4.4, 4.5]:\n",
      "    targets, my_results = run_expt(features_og_gender, users_by_county_og_gender, alpha_og_gender, use_gender=True, use_og_feature=True, ridge_alpha=my_alpha)\n",
      "    results.append((my_alpha, np.mean([np.mean(r) for r in my_results])))\n",
      "print results"
     ],
     "language": "python",
     "metadata": {},
     "outputs": []
    },
    {
     "cell_type": "code",
     "collapsed": false,
     "input": [
      "def pct_impr(old, new):\n",
      "    return 100. * (old - new) / old\n",
      "\n",
      "improvements = []\n",
      "impr_err = []\n",
      "target_pr = []\n",
      "for target, gender_r, og_r in sorted(zip(targets, gender_results, og_results),\n",
      "                                     key=lambda x:np.mean(pct_impr(x[2], x[1]))):\n",
      "    imprs = pct_impr(og_r, gender_r)\n",
      "    print target, np.mean(imprs), np.std(imprs)\n",
      "    improvements.append(np.mean(imprs))\n",
      "    impr_err.append(np.std(imprs) / sqrt(len(imprs)) / 2)\n",
      "    target_pr.append(target)\n",
      "    \n",
      "y_pos = np.arange(len(targets))\n",
      "\n",
      "plt.barh(y_pos, improvements, xerr=impr_err, align='center', alpha=0.8)\n",
      "plt.yticks(y_pos, target_pr)\n",
      "plt.xlabel('% change')\n",
      "print 'mean improvement=', np.mean(improvements)"
     ],
     "language": "python",
     "metadata": {},
     "outputs": []
    },
    {
     "cell_type": "code",
     "collapsed": false,
     "input": [
      "%pylab inline --no-import-all\n",
      "\n",
      "import spatial\n",
      "# Plot discrepancy between estimated %female and census\n",
      "# Print gender by county.\n",
      "targets, target_alpha = expt.read_targets('/data/twcounty/targets.tsv', county2demo.keys())\n",
      "female_idx = target_alpha.index('Female')\n",
      "female_true = dict((fips, target[female_idx]) for fips, target in targets.iteritems())\n",
      "female_pred = dict((fips, 100. * v['f'] / (v['m'] + v['f'])) for fips, v in county2demo.iteritems())\n",
      "\n",
      "coords = expt.read_coords('/data/twcounty/stats2/counties/counties.top100.bounding.txt')\n",
      "\n",
      "truths = []\n",
      "errs = []\n",
      "preds = []\n",
      "coords_fips = []\n",
      "for fips, f_true in sorted(female_true.items(), key=lambda x: x[1]):\n",
      "    truths.append(f_true)\n",
      "    errs.append(female_pred[fips] - f_true)\n",
      "    preds.append(female_pred[fips])\n",
      "    coords_fips = coords[fips]\n",
      "\n",
      "# Plot truth vs error.\n",
      "scatter(truths, errs)\n",
      "axhline(y=0)\n",
      "xlabel(\"% Female (truth)\")\n",
      "ylabel(\"Error (Predicted - Truth)\")\n",
      "\n",
      "# Plot truth vs predicted.\n",
      "figure()\n",
      "scatter(truths,preds)\n",
      "ylabel(\"% Female (predicted)\")\n",
      "xlabel(\"% Female (truth)\")\n",
      "\n",
      "from scipy.stats import pearsonr\n",
      "print 'correlation is', pearsonr(truths, preds)\n"
     ],
     "language": "python",
     "metadata": {},
     "outputs": []
    }
   ],
   "metadata": {}
  }
 ]
}