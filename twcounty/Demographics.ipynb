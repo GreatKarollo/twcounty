{
 "metadata": {
  "name": "",
  "signature": "sha256:8e8e658bf44aad4ee51ee38c2cf3bdbbe0d349474b257d94915f65f9fe1677a1"
 },
 "nbformat": 3,
 "nbformat_minor": 0,
 "worksheets": [
  {
   "cells": [
    {
     "cell_type": "markdown",
     "metadata": {},
     "source": [
      "# Addressing selection bias in social media data for estimating county health statistics\n",
      "\n",
      "In [prior work](http://tapilab.github.io/public%20health/2014/04/26/twcounty/), we estimated many county health statistics from Twitter activity.\n",
      "\n",
      "In this work, we adjust for the sample bias of Twitter by stratifying data by gender and race. We show improvements in held-out prediction accuracy using this approach."
     ]
    },
    {
     "cell_type": "code",
     "collapsed": false,
     "input": [
      "# Classify users as male or female based on first names based on Census name frequency.\n",
      "from collections import defaultdict\n",
      "import re\n",
      "import requests\n",
      "\n",
      "def names2dict(url):\n",
      "    \"\"\" Fetch data from census and parse into dict mapping name to frequency. \"\"\"\n",
      "    names = defaultdict(lambda: 0)\n",
      "    for line in requests.get(url).text.split('\\n'):\n",
      "        parts = line.lower().split()\n",
      "        if len(parts) >= 2:\n",
      "            names[parts[0]] = float(parts[1])\n",
      "    return names\n",
      "\n",
      "def getCensusNames():\n",
      "    \"\"\" Fetch census name data and remove ambiguous names. \"\"\"\n",
      "    males = names2dict('http://www.census.gov/genealogy/www/data/1990surnames/dist.male.first')\n",
      "    females = names2dict('http://www.census.gov/genealogy/www/data/1990surnames/dist.female.first')\n",
      "    print len(set(males.keys() + females.keys())), 'total names'\n",
      "    eps = 10.  # keep names that are eps times more frequent in one gender than the other.\n",
      "    tokeep = []\n",
      "    for name in set(males.keys() + females.keys()):\n",
      "        mscore = males[name]\n",
      "        fscore = females[name]\n",
      "        if mscore == 0 or fscore == 0 or mscore / fscore > eps or fscore / mscore > eps:\n",
      "            tokeep.append(name)\n",
      "    print 'keeping', len(tokeep)\n",
      "    m = set([n for n in tokeep if males[n] > females[n]])\n",
      "    f = set([n for n in tokeep if females[n] > males[n]])\n",
      "    return m, f\n",
      "\n",
      "males, females = getCensusNames()\n",
      "print 'found', len(males), 'males and', len(females), 'females'\n",
      "\n",
      "def labelGender(tweet, males, females):\n",
      "    \"\"\" Classify a tweet as male (m) female (f) or neutral (n) based on first token in name field. \"\"\"\n",
      "    name = tweet['user']['name'].lower().split()\n",
      "    if len(name) == 0:\n",
      "        name = ['']\n",
      "    name = re.findall('\\w+', name[0])\n",
      "    if len(name) == 0:\n",
      "        name = ''\n",
      "    else:\n",
      "        name = name[0]\n",
      "    if name in males:\n",
      "        tweet['user']['gender'] = 'm'\n",
      "    elif name in females:\n",
      "        tweet['user']['gender'] = 'f'\n",
      "    else:\n",
      "        tweet['user']['gender'] = 'n'\n",
      "    return tweet\n",
      "\n",
      "print 'John is', labelGender({'user':{'name':'John smith'}}, males, females)['user']['gender']\n",
      "print 'Jane is', labelGender({'user':{'name':'jane doe'}}, males, females)['user']['gender']\n",
      "print 'kris is', labelGender({'user':{'name':'Kris doe'}}, males, females)['user']['gender']"
     ],
     "language": "python",
     "metadata": {},
     "outputs": [
      {
       "output_type": "stream",
       "stream": "stdout",
       "text": [
        "5163 total names\n",
        "keeping 5008\n",
        "found 1048 males and 3960 females\n",
        "John is m\n",
        "Jane is f\n",
        "kris is n\n"
       ]
      }
     ],
     "prompt_number": 34
    },
    {
     "cell_type": "code",
     "collapsed": false,
     "input": [
      "def labelRace(tweet):\n",
      "    \n",
      "    desc = tweet['user']['description']\n",
      "    if not desc:\n",
      "        desc = ''\n",
      "    toks = set(re.findall('\\w+', desc.lower()))\n",
      "    \n",
      "    if len(set(['african', 'black', 'aa', 'sbm', 'sbf']) & toks) > 0:\n",
      "        tweet['user']['race'] = 'b'\n",
      "        print 'black:', desc\n",
      "    elif len(set(['latin', 'latino', 'latina', 'hispanic']) & toks) > 0:\n",
      "        tweet['user']['race'] = 'l'\n",
      "        print 'latino:', desc\n",
      "    else:\n",
      "        tweet['user']['race'] = 'n'\n",
      "    return tweet\n",
      "\n",
      "print 'John is', labelRace({'user':{'description':'african-american'}})['user']['race']\n",
      "print 'Jane is', labelRace({'user':{'description':'black man'}})['user']['race']\n",
      "print 'kris is', labelRace({'user':{'description':'a latino'}})['user']['race']\n",
      "print 'foo is', labelRace({'user':{'description':'blah'}})['user']['race']"
     ],
     "language": "python",
     "metadata": {},
     "outputs": [
      {
       "output_type": "stream",
       "stream": "stdout",
       "text": [
        "John is black: african-american\n",
        "b\n",
        "Jane is black: black man\n",
        "b\n",
        "kris is latino: a latino\n",
        "l\n",
        "foo is n\n"
       ]
      }
     ],
     "prompt_number": 35
    },
    {
     "cell_type": "code",
     "collapsed": false,
     "input": [
      "%pylab inline\n",
      "# Train a race classifier based on description field.\n",
      "import glob\n",
      "import io\n",
      "import json\n",
      "import os\n",
      "import re\n",
      "\n",
      "import numpy as np\n",
      "\n",
      "from sklearn.cross_validation import KFold\n",
      "from sklearn.feature_extraction.text import CountVectorizer, TfidfVectorizer\n",
      "from sklearn.linear_model import LogisticRegression\n",
      "from sklearn.metrics import classification_report, precision_recall_curve\n",
      "from sklearn.preprocessing import label_binarize, scale\n",
      "\n",
      "from twutil import preprocess\n",
      "\n",
      "def print_top_feats_cl(m, feature_names, labels, n=10):\n",
      "    for i, coef in enumerate(m.coef_):\n",
      "        srted = np.argsort(coef)\n",
      "        topi = srted[::-1][:n]\n",
      "        boti = srted[:n]\n",
      "        print 'label=', labels[i]\n",
      "        print 'pos:' + ' '.join('%s (%.2g)' % (n, c) for n, c in zip(feature_names[topi], coef[topi]))\n",
      "        print 'neg:' + ' '.join('%s (%.2g)' % (n, c) for n, c in zip(feature_names[boti], coef[boti]))\n",
      "\n",
      "def prec_rec(truths_bin, probs, races):\n",
      "    truths_bin = np.array(truths_bin)\n",
      "    probs = np.array(probs)\n",
      "    precision = dict()\n",
      "    recall = dict()\n",
      "    for i in range(len(races)):\n",
      "        precision[i], recall[i], _ = precision_recall_curve(truths_bin[:, i],\n",
      "                                                            probs[:, i])\n",
      "    # Plot Precision-Recall curve for each class\n",
      "    for i in range(len(races)):\n",
      "        plot(recall[i], precision[i], label=races[i])\n",
      "    xlabel('Recall')\n",
      "    ylabel('Precision')\n",
      "    legend(loc=\"lower right\")\n",
      "\n",
      "def read_race_data(race_path, tzer, races):\n",
      "    tokens = []\n",
      "    labels = []\n",
      "    for fname in glob.glob(race_path + '/*.*'):\n",
      "        label = os.path.splitext(os.path.basename(fname))[0]\n",
      "        for line in io.open(fname, encoding='utf8'):\n",
      "            js = json.loads(line)\n",
      "            toks = tzer.do_tokenize(js['description'])\n",
      "            if len(toks) > 0:\n",
      "                labels.append(races.index(label))\n",
      "                tokens.append(' '.join(toks))\n",
      "    return tokens, labels\n",
      "\n",
      "races = ['black', 'latin', 'white']\n",
      "\n",
      "def train_race_clf():\n",
      "    print 'training race classifier'\n",
      "    tzer = preprocess.Tokenizer(fields='description', retain_punc_toks=False, collapse_digits=True)\n",
      "    tokens, labels = read_race_data('/data/twcounty/labeled_users/race', tzer, races)\n",
      "    vec = TfidfVectorizer(token_pattern='\\S+', min_df=2, binary=True)\n",
      "    X = vec.fit_transform(tokens)    \n",
      "    y = np.array(labels)\n",
      "\n",
      "    cv = KFold(len(y), 10, shuffle=True, random_state=123456)\n",
      "    m = LogisticRegression(class_weight='auto')\n",
      "    preds = []\n",
      "    truths = []\n",
      "    probs = [] \n",
      "    y_bin = label_binarize(y, classes=range(len(races)))\n",
      "    truths_bin = []\n",
      "    for train, test in cv:\n",
      "        m.fit(X[train], y[train])\n",
      "        preds.extend(m.predict(X[test]))\n",
      "        truths.extend(y[test])\n",
      "        probs.extend(m.predict_proba(X[test]))\n",
      "        truths_bin.extend(y_bin[test])\n",
      "        \n",
      "    print classification_report(truths, preds, target_names=races)\n",
      "    m.fit(X, y)\n",
      "    m.tzer = tzer\n",
      "    m.vec = vec\n",
      "    print_top_feats_cl(m, np.array(vec.get_feature_names()), races, 5)\n",
      "    # What is precision of classifications with probability > .5?\n",
      "    threshold = 0.5\n",
      "    y_filtered = [i for i, pred in enumerate(preds) if probs[i][pred] > threshold]\n",
      "    print len(y_filtered), 'retained of', len(preds), 'total using threshold', threshold\n",
      "    print classification_report(np.array(truths)[y_filtered], np.array(preds)[y_filtered], target_names=races)\n",
      "    prec_rec(truths_bin, probs, races)\n",
      "    return m\n",
      "    \n",
      "    \n",
      "def label_race_clf(tweet, clf):\n",
      "    desc = tweet['user']['description']\n",
      "    if not desc:\n",
      "        desc = ''\n",
      "    preds = clf.predict_proba(clf.vec.transform([' '.join(clf.tzer.do_tokenize(desc))]))[0]\n",
      "    if max(preds) > 0.5:\n",
      "        # print 'predicting', races[np.argmax(preds)], 'for', tweet['user']['screen_name'], desc\n",
      "        tweet['user']['race'] = races[np.argmax(preds)]\n",
      "    else:\n",
      "        tweet['user']['race'] = 'n'\n",
      "    return tweet\n",
      "\n",
      "race_clf = train_race_clf()\n",
      "print 'John is', label_race_clf({'user':{'description':'r.i.p.', 'screen_name':'john'}}, race_clf)['user']['race']\n",
      "print 'Jane is', label_race_clf({'user':{'description':'que', 'screen_name':'jane'}}, race_clf)['user']['race']\n",
      "print 'Joe is', label_race_clf({'user':{'description':'like', 'screen_name':'joe'}}, race_clf)['user']['race']\n",
      "print 'Jesse is', label_race_clf({'user':{'description':'asdf', 'screen_name':'jesse'}}, race_clf)['user']['race']"
     ],
     "language": "python",
     "metadata": {},
     "outputs": [
      {
       "output_type": "stream",
       "stream": "stdout",
       "text": [
        "Populating the interactive namespace from numpy and matplotlib\n",
        "training race classifier\n",
        "             precision    recall  f1-score   support\n",
        "\n",
        "      black       0.53      0.47      0.50       263\n",
        "      latin       0.81      0.51      0.62       157\n",
        "      white       0.56      0.72      0.63       324\n",
        "\n",
        "avg / total       0.60      0.59      0.58       744\n"
       ]
      },
      {
       "output_type": "stream",
       "stream": "stdout",
       "text": [
        "\n",
        "label= black\n",
        "pos:for (1.5) r.i.p (1.3) money (1.2) live (1.2) team (1.1)\n",
        "neg:de (-1.4) y (-1.1) la (-0.89) like (-0.86) and (-0.81)\n",
        "label= latin\n",
        "pos:de (3.1) y (2.5) que (1.6) un (1.5) en (1.5)\n",
        "neg:for (-1.5) of (-1.3) the (-1.1) and (-1) you (-1)\n",
        "label= white\n",
        "pos:and (1.4) like (1.2) 9/9 (0.95) not (0.94) am (0.83)\n",
        "neg:de (-1.8) y (-1.3) live (-1) me (-1) instagram (-0.98)\n",
        "245 retained of 744 total using threshold 0.5\n",
        "             precision    recall  f1-score   support\n",
        "\n",
        "      black       0.52      0.48      0.50        71\n",
        "      latin       0.96      0.76      0.84        86\n",
        "      white       0.60      0.76      0.67        88\n",
        "\n",
        "avg / total       0.70      0.68      0.68       245\n",
        "\n",
        "John is"
       ]
      },
      {
       "output_type": "stream",
       "stream": "stdout",
       "text": [
        " black\n",
        "Jane is latin\n",
        "Joe is white\n",
        "Jesse is n\n"
       ]
      },
      {
       "metadata": {},
       "output_type": "display_data",
       "png": "[encoded data removed]",
       "text": [
        "<matplotlib.figure.Figure at 0x1151afbd0>"
       ]
      }
     ],
     "prompt_number": 36
    },
    {
     "cell_type": "code",
     "collapsed": false,
     "input": [
      "# Read in Twitter json files, classifying each by gender and/or race.\n",
      "from collections import Counter\n",
      "import io\n",
      "import glob\n",
      "import json\n",
      "import os\n",
      "import re\n",
      "import sys\n",
      "import tok.unicode_props\n",
      "\n",
      "import tweet\n",
      "import json2tsv\n",
      "\n",
      "JSON_D='/data/twcounty/json/'  # Directory containing one json file per county, named according to FIPS.\n",
      "    \n",
      "def iter_jsons(f):\n",
      "    \"\"\" Iterate tweet json objects from a file, appending county information from file name.\"\"\"\n",
      "    fp = io.open(f, mode='rt', encoding='utf8')\n",
      "    county = os.path.basename(f)\n",
      "    count = 0    \n",
      "    for line in fp:\n",
      "        try:\n",
      "            line = re.sub('\\t', '     ', line)\n",
      "            js = json.loads(line)\n",
      "            if json2tsv.valid_line(js):\n",
      "                js['county'] = county\n",
      "                yield js\n",
      "                count += 1\n",
      "                if count >= 10000:  # FIXME: limiting to first 1000 users per county for testing.\n",
      "                    return\n",
      "        except:\n",
      "            pass\n",
      "\n",
      "def iter_files(path):\n",
      "    \"\"\" Iterate tweets in directory of json files. \"\"\"\n",
      "    fcount = 1\n",
      "    for fname in glob.glob(path + '/*'):\n",
      "        print 'parsing', fname, '(#', fcount, ')'\n",
      "        fcount += 1\n",
      "        for js in iter_jsons(fname):\n",
      "            yield js\n",
      "\n",
      "def iter_gender(jss):\n",
      "    for js in jss:\n",
      "        labelGender(js, males, females)\n",
      "        yield js\n",
      "\n",
      "def iter_race(jss, race_clf):\n",
      "    for js in jss:\n",
      "        label_race_clf(js, race_clf)\n",
      "        yield js\n",
      "\n",
      "def iter_tokenize(jss):\n",
      "    all_users = set()\n",
      "    for js in jss:\n",
      "        if not js['user']['description']:\n",
      "            js['user']['description'] = ' '\n",
      "        tw = tweet.Tweet(js['county'], js['id'], js['user']['screen_name'],\n",
      "                            json2tsv.tokenize(js['text'], tokenizer),\n",
      "                            json2tsv.tokenize(js['user']['description'], tokenizer))\n",
      "        tw.gender = js['user']['gender']\n",
      "        tw.race = js['user']['race']\n",
      "        if tw.screen_name not in all_users:\n",
      "            county2gender[js['county']][tw.gender] += 1\n",
      "            county2race[js['county']][tw.race] += 1\n",
      "            all_users.add(tw.screen_name)\n",
      "        gender_counts.update([tw.gender])\n",
      "        race_counts.update([tw.race])\n",
      "        yield tw\n"
     ],
     "language": "python",
     "metadata": {},
     "outputs": [],
     "prompt_number": 37
    },
    {
     "cell_type": "code",
     "collapsed": false,
     "input": [
      "def do_featurize(feats, words, prefix, alpha, unigrams=True, liwc=False, perma=False):\n",
      "    lexi = tsv2feats.lexicons(words, liwc, perma)\n",
      "    if unigrams:\n",
      "        lexi.extend(words)\n",
      "    for t in lexi:\n",
      "        feats[alpha[prefix + t]] += 1\n",
      "    return feats\n",
      "\n",
      "\n",
      "# def featurize(tw, alpha, unigrams, liwc, perma):\n",
      "#     feats = defaultdict(lambda: 0)\n",
      "#    if tw.text:\n",
      "#        do_featurize(feats, tw.text.split(' '), '', alpha, unigrams, liwc, perma)\n",
      "#        if tw.gender != 'n':\n",
      "#            do_featurize(feats, tw.text.split(' '), tw.gender + \"_\", alpha, unigrams, liwc, perma)\n",
      "#    if tw.description:\n",
      "#        do_featurize(feats, tw.description.split(' '), 'd=', alpha, unigrams, liwc, perma)\n",
      "#        if tw.gender != 'n':\n",
      "#            do_featurize(feats, tw.description.split(' '), tw.gender + '_d=', alpha, unigrams, liwc, perma)\n",
      "#    return feats\n",
      "\n",
      "def featurize(tw, alpha, unigrams, liwc, perma):\n",
      "    \"\"\"\n",
      "    >>> alpha = defaultdict(lambda: len(alpha))\n",
      "    >>> feats = featurize(tweet.Tweet('cty1', '123', 'joe', 'i', 'abject'), alpha, True, True, True)\n",
      "    >>> all(feats[alpha[word]] == 1 for word in [u'd=P-', u'Pronoun', u'I', u'Self', 'i', 'd=abject'])\n",
      "    True\n",
      "    \"\"\"\n",
      "    feats = defaultdict(lambda: 0)\n",
      "    if tw.text:\n",
      "        toks = tw.text.split(' ')\n",
      "        do_featurize(feats, toks, '', alpha, unigrams, liwc, perma)\n",
      "        if tw.race != 'n':\n",
      "            do_featurize(feats, toks, 'race=' + tw.race + \"_\", alpha, unigrams, liwc, perma)\n",
      "        if tw.gender != 'n':\n",
      "            do_featurize(feats, toks, 'gender=' + tw.gender + \"_\", alpha, unigrams, liwc, perma)\n",
      "    if tw.description:\n",
      "        toks = tw.description.split(' ')\n",
      "        do_featurize(feats, toks, 'd=', alpha, unigrams, liwc, perma)\n",
      "        if tw.gender != 'n':\n",
      "            do_featurize(feats, toks, 'gender=' + tw.gender + '_d=', alpha, unigrams, liwc, perma)\n",
      "        if tw.race != 'n':\n",
      "            do_featurize(feats, toks, 'race=' + tw.race + '_d=', alpha, unigrams, liwc, perma)\n",
      "    return feats\n",
      "\n",
      "def read_tweets(tweets, user_norm=False, unigrams=True, liwc=False, perma=False):\n",
      "    alpha = defaultdict(lambda: len(alpha))\n",
      "    # county -> tweets\n",
      "    tweets_by_county = defaultdict(lambda: defaultdict(lambda: 0))\n",
      "    users_by_county = defaultdict(lambda: set())\n",
      "    tweets_by_user = defaultdict(lambda: defaultdict(lambda: set()))\n",
      "    i = 0\n",
      "    for tw in tweets:\n",
      "        users_by_county[tw.county].add(tw.screen_name)\n",
      "        feats = featurize(tw, alpha, unigrams, liwc, perma)\n",
      "        for k, v in feats.iteritems():\n",
      "            if user_norm:\n",
      "                if k not in tweets_by_user[tw.county][tw.screen_name]:\n",
      "                    tweets_by_county[tw.county][k] += 1\n",
      "                    tweets_by_user[tw.county][tw.screen_name].add(k)\n",
      "            else:\n",
      "                tweets_by_county[tw.county][k] += v\n",
      "        i += 1\n",
      "    return tsv2feats.default_dict_to_dict(tweets_by_county), users_by_county, alpha"
     ],
     "language": "python",
     "metadata": {},
     "outputs": [],
     "prompt_number": 38
    },
    {
     "cell_type": "code",
     "collapsed": false,
     "input": [
      "# READ DATA\n",
      "# Parse all json files. This takes a while.\n",
      "import data\n",
      "import expt\n",
      "import tsv2feats\n",
      "\n",
      "tokenizer = tok.unicode_props.UP_Tiny(1)\n",
      "\n",
      "gender_counts = Counter()\n",
      "race_counts = Counter()\n",
      "county2race = defaultdict(lambda: {'black': 0., 'latin': 0., 'white':0., 'n': 0.})\n",
      "county2gender = defaultdict(lambda: {'m': 0., 'f': 0., 'n':0.})\n",
      "race_clf = train_race_clf()\n",
      "\n",
      "features_og, users_by_county_og, alpha_og = tsv2feats.read_tweets(iter_tokenize(iter_race(iter_gender(iter_files(JSON_D)), race_clf)),\n",
      "                                                                               user_norm=True, unigrams=False, liwc=True, perma=True)\n",
      "features_og_gender, users_by_county_og_gender, alpha_og_gender = read_tweets(iter_tokenize(iter_race(iter_gender(iter_files(JSON_D)), race_clf)), user_norm=True, unigrams=False, liwc=True, perma=True)\n",
      "print 'genders:', gender_counts\n",
      "print 'races:', race_counts\n"
     ],
     "language": "python",
     "metadata": {},
     "outputs": [
      {
       "output_type": "stream",
       "stream": "stdout",
       "text": [
        "training race classifier\n",
        "             precision    recall  f1-score   support\n",
        "\n",
        "      black       0.53      0.47      0.50       263\n",
        "      latin       0.81      0.51      0.62       157\n",
        "      white       0.56      0.72      0.63       324\n",
        "\n",
        "avg / total       0.60      0.59      0.58       744\n"
       ]
      },
      {
       "output_type": "stream",
       "stream": "stdout",
       "text": [
        "\n",
        "label= black\n",
        "pos:for (1.5) r.i.p (1.3) money (1.2) live (1.2) team (1.1)\n",
        "neg:de (-1.4) y (-1.1) la (-0.89) like (-0.86) and (-0.81)\n",
        "label= latin\n",
        "pos:de (3.1) y (2.5) que (1.6) un (1.5) en (1.5)\n",
        "neg:for (-1.5) of (-1.3) the (-1.1) and (-1) you (-1)\n",
        "label= white\n",
        "pos:and (1.4) like (1.2) 9/9 (0.95) not (0.94) am (0.83)\n",
        "neg:de (-1.8) y (-1.3) live (-1) me (-1) instagram (-0.98)\n",
        "245 retained of 744 total using threshold 0.5\n",
        "             precision    recall  f1-score   support\n",
        "\n",
        "      black       0.52      0.48      0.50        71\n",
        "      latin       0.96      0.76      0.84        86\n",
        "      white       0.60      0.76      0.67        88\n",
        "\n",
        "avg / total       0.70      0.68      0.68       245\n",
        "\n",
        "parsing"
       ]
      },
      {
       "output_type": "stream",
       "stream": "stdout",
       "text": [
        " /data/twcounty/json/01073 (# 1 )\n",
        "parsing"
       ]
      },
      {
       "output_type": "stream",
       "stream": "stdout",
       "text": [
        " /data/twcounty/json/04013 (# 2 )\n",
        "parsing"
       ]
      },
      {
       "output_type": "stream",
       "stream": "stdout",
       "text": [
        " /data/twcounty/json/04019 (# 3 )\n",
        "parsing"
       ]
      },
      {
       "output_type": "stream",
       "stream": "stdout",
       "text": [
        " /data/twcounty/json/06001 (# 4 )\n",
        "parsing"
       ]
      },
      {
       "output_type": "stream",
       "stream": "stdout",
       "text": [
        " /data/twcounty/json/06013 (# 5 )\n",
        "parsing"
       ]
      },
      {
       "output_type": "stream",
       "stream": "stdout",
       "text": [
        " /data/twcounty/json/06019 (# 6 )\n",
        "parsing"
       ]
      },
      {
       "output_type": "stream",
       "stream": "stdout",
       "text": [
        " /data/twcounty/json/06029 (# 7 )\n",
        "parsing"
       ]
      },
      {
       "output_type": "stream",
       "stream": "stdout",
       "text": [
        " /data/twcounty/json/06037 (# 8 )\n",
        "parsing"
       ]
      },
      {
       "output_type": "stream",
       "stream": "stdout",
       "text": [
        " /data/twcounty/json/06059 (# 9 )\n",
        "parsing"
       ]
      },
      {
       "output_type": "stream",
       "stream": "stdout",
       "text": [
        " /data/twcounty/json/06065 (# 10 )\n",
        "parsing"
       ]
      },
      {
       "output_type": "stream",
       "stream": "stdout",
       "text": [
        " /data/twcounty/json/06067 (# 11 )\n",
        "parsing"
       ]
      },
      {
       "output_type": "stream",
       "stream": "stdout",
       "text": [
        " /data/twcounty/json/06071 (# 12 )\n",
        "parsing"
       ]
      },
      {
       "output_type": "stream",
       "stream": "stdout",
       "text": [
        " /data/twcounty/json/06073 (# 13 )\n",
        "parsing"
       ]
      },
      {
       "output_type": "stream",
       "stream": "stdout",
       "text": [
        " /data/twcounty/json/06075 (# 14 )\n",
        "parsing"
       ]
      },
      {
       "output_type": "stream",
       "stream": "stdout",
       "text": [
        " /data/twcounty/json/06077 (# 15 )\n",
        "parsing"
       ]
      },
      {
       "output_type": "stream",
       "stream": "stdout",
       "text": [
        " /data/twcounty/json/06081 (# 16 )\n",
        "parsing"
       ]
      },
      {
       "output_type": "stream",
       "stream": "stdout",
       "text": [
        " /data/twcounty/json/06085 (# 17 )\n",
        "parsing"
       ]
      },
      {
       "output_type": "stream",
       "stream": "stdout",
       "text": [
        " /data/twcounty/json/06111 (# 18 )\n",
        "parsing"
       ]
      },
      {
       "output_type": "stream",
       "stream": "stdout",
       "text": [
        " /data/twcounty/json/08041 (# 19 )\n",
        "parsing"
       ]
      },
      {
       "output_type": "stream",
       "stream": "stdout",
       "text": [
        " /data/twcounty/json/09001 (# 20 )\n",
        "parsing"
       ]
      },
      {
       "output_type": "stream",
       "stream": "stdout",
       "text": [
        " /data/twcounty/json/09003 (# 21 )\n",
        "parsing"
       ]
      },
      {
       "output_type": "stream",
       "stream": "stdout",
       "text": [
        " /data/twcounty/json/09009 (# 22 )\n",
        "parsing"
       ]
      },
      {
       "output_type": "stream",
       "stream": "stdout",
       "text": [
        " /data/twcounty/json/12011 (# 23 )\n",
        "parsing"
       ]
      },
      {
       "output_type": "stream",
       "stream": "stdout",
       "text": [
        " /data/twcounty/json/12031 (# 24 )\n",
        "parsing"
       ]
      },
      {
       "output_type": "stream",
       "stream": "stdout",
       "text": [
        " /data/twcounty/json/12057 (# 25 )\n",
        "parsing"
       ]
      },
      {
       "output_type": "stream",
       "stream": "stdout",
       "text": [
        " /data/twcounty/json/12086 (# 26 )\n",
        "parsing"
       ]
      },
      {
       "output_type": "stream",
       "stream": "stdout",
       "text": [
        " /data/twcounty/json/12095 (# 27 )\n",
        "parsing"
       ]
      },
      {
       "output_type": "stream",
       "stream": "stdout",
       "text": [
        " /data/twcounty/json/12099 (# 28 )\n",
        "parsing"
       ]
      },
      {
       "output_type": "stream",
       "stream": "stdout",
       "text": [
        " /data/twcounty/json/12103 (# 29 )\n",
        "parsing"
       ]
      },
      {
       "output_type": "stream",
       "stream": "stdout",
       "text": [
        " /data/twcounty/json/13067 (# 30 )\n",
        "parsing"
       ]
      },
      {
       "output_type": "stream",
       "stream": "stdout",
       "text": [
        " /data/twcounty/json/13089 (# 31 )\n",
        "parsing"
       ]
      },
      {
       "output_type": "stream",
       "stream": "stdout",
       "text": [
        " /data/twcounty/json/13121 (# 32 )\n",
        "parsing"
       ]
      },
      {
       "output_type": "stream",
       "stream": "stdout",
       "text": [
        " /data/twcounty/json/13135 (# 33 )\n",
        "parsing"
       ]
      },
      {
       "output_type": "stream",
       "stream": "stdout",
       "text": [
        " /data/twcounty/json/15003 (# 34 )\n",
        "parsing"
       ]
      },
      {
       "output_type": "stream",
       "stream": "stdout",
       "text": [
        " /data/twcounty/json/17031 (# 35 )\n",
        "parsing"
       ]
      },
      {
       "output_type": "stream",
       "stream": "stdout",
       "text": [
        " /data/twcounty/json/17043 (# 36 )\n",
        "parsing"
       ]
      },
      {
       "output_type": "stream",
       "stream": "stdout",
       "text": [
        " /data/twcounty/json/17097 (# 37 )\n",
        "parsing"
       ]
      },
      {
       "output_type": "stream",
       "stream": "stdout",
       "text": [
        " /data/twcounty/json/17197 (# 38 )\n",
        "parsing"
       ]
      },
      {
       "output_type": "stream",
       "stream": "stdout",
       "text": [
        " /data/twcounty/json/18097 (# 39 )\n",
        "parsing"
       ]
      },
      {
       "output_type": "stream",
       "stream": "stdout",
       "text": [
        " /data/twcounty/json/21111 (# 40 )\n",
        "parsing"
       ]
      },
      {
       "output_type": "stream",
       "stream": "stdout",
       "text": [
        " /data/twcounty/json/24005 (# 41 )\n",
        "parsing"
       ]
      },
      {
       "output_type": "stream",
       "stream": "stdout",
       "text": [
        " /data/twcounty/json/24031 (# 42 )\n",
        "parsing"
       ]
      },
      {
       "output_type": "stream",
       "stream": "stdout",
       "text": [
        " /data/twcounty/json/24033 (# 43 )\n",
        "parsing"
       ]
      },
      {
       "output_type": "stream",
       "stream": "stdout",
       "text": [
        " /data/twcounty/json/24510 (# 44 )\n",
        "parsing"
       ]
      },
      {
       "output_type": "stream",
       "stream": "stdout",
       "text": [
        " /data/twcounty/json/25009 (# 45 )\n",
        "parsing"
       ]
      },
      {
       "output_type": "stream",
       "stream": "stdout",
       "text": [
        " /data/twcounty/json/25017 (# 46 )\n",
        "parsing"
       ]
      },
      {
       "output_type": "stream",
       "stream": "stdout",
       "text": [
        " /data/twcounty/json/25021 (# 47 )\n",
        "parsing"
       ]
      },
      {
       "output_type": "stream",
       "stream": "stdout",
       "text": [
        " /data/twcounty/json/25025 (# 48 )\n",
        "parsing"
       ]
      },
      {
       "output_type": "stream",
       "stream": "stdout",
       "text": [
        " /data/twcounty/json/25027 (# 49 )\n",
        "parsing"
       ]
      },
      {
       "output_type": "stream",
       "stream": "stdout",
       "text": [
        " /data/twcounty/json/26099 (# 50 )\n",
        "parsing"
       ]
      },
      {
       "output_type": "stream",
       "stream": "stdout",
       "text": [
        " /data/twcounty/json/26125 (# 51 )\n",
        "parsing"
       ]
      },
      {
       "output_type": "stream",
       "stream": "stdout",
       "text": [
        " /data/twcounty/json/26163 (# 52 )\n",
        "parsing"
       ]
      },
      {
       "output_type": "stream",
       "stream": "stdout",
       "text": [
        " /data/twcounty/json/27053 (# 53 )\n",
        "parsing"
       ]
      },
      {
       "output_type": "stream",
       "stream": "stdout",
       "text": [
        " /data/twcounty/json/29095 (# 54 )\n",
        "parsing"
       ]
      },
      {
       "output_type": "stream",
       "stream": "stdout",
       "text": [
        " /data/twcounty/json/29189 (# 55 )\n",
        "parsing"
       ]
      },
      {
       "output_type": "stream",
       "stream": "stdout",
       "text": [
        " /data/twcounty/json/32003 (# 56 )\n",
        "parsing"
       ]
      },
      {
       "output_type": "stream",
       "stream": "stdout",
       "text": [
        " /data/twcounty/json/34003 (# 57 )\n",
        "parsing"
       ]
      },
      {
       "output_type": "stream",
       "stream": "stdout",
       "text": [
        " /data/twcounty/json/34013 (# 58 )\n",
        "parsing"
       ]
      },
      {
       "output_type": "stream",
       "stream": "stdout",
       "text": [
        " /data/twcounty/json/34017 (# 59 )\n",
        "parsing"
       ]
      },
      {
       "output_type": "stream",
       "stream": "stdout",
       "text": [
        " /data/twcounty/json/34023 (# 60 )\n",
        "parsing"
       ]
      },
      {
       "output_type": "stream",
       "stream": "stdout",
       "text": [
        " /data/twcounty/json/34025 (# 61 )\n",
        "parsing"
       ]
      },
      {
       "output_type": "stream",
       "stream": "stdout",
       "text": [
        " /data/twcounty/json/35001 (# 62 )\n",
        "parsing"
       ]
      },
      {
       "output_type": "stream",
       "stream": "stdout",
       "text": [
        " /data/twcounty/json/36005 (# 63 )\n",
        "parsing"
       ]
      },
      {
       "output_type": "stream",
       "stream": "stdout",
       "text": [
        " /data/twcounty/json/36029 (# 64 )\n",
        "parsing"
       ]
      },
      {
       "output_type": "stream",
       "stream": "stdout",
       "text": [
        " /data/twcounty/json/36047 (# 65 )\n",
        "parsing"
       ]
      },
      {
       "output_type": "stream",
       "stream": "stdout",
       "text": [
        " /data/twcounty/json/36055 (# 66 )\n",
        "parsing"
       ]
      },
      {
       "output_type": "stream",
       "stream": "stdout",
       "text": [
        " /data/twcounty/json/36059 (# 67 )\n",
        "parsing"
       ]
      },
      {
       "output_type": "stream",
       "stream": "stdout",
       "text": [
        " /data/twcounty/json/36061 (# 68 )\n",
        "parsing"
       ]
      },
      {
       "output_type": "stream",
       "stream": "stdout",
       "text": [
        " /data/twcounty/json/36081 (# 69 )\n",
        "parsing"
       ]
      },
      {
       "output_type": "stream",
       "stream": "stdout",
       "text": [
        " /data/twcounty/json/36103 (# 70 )\n",
        "parsing"
       ]
      },
      {
       "output_type": "stream",
       "stream": "stdout",
       "text": [
        " /data/twcounty/json/36119 (# 71 )\n",
        "parsing"
       ]
      },
      {
       "output_type": "stream",
       "stream": "stdout",
       "text": [
        " /data/twcounty/json/37119 (# 72 )\n",
        "parsing"
       ]
      },
      {
       "output_type": "stream",
       "stream": "stdout",
       "text": [
        " /data/twcounty/json/37183 (# 73 )\n",
        "parsing"
       ]
      },
      {
       "output_type": "stream",
       "stream": "stdout",
       "text": [
        " /data/twcounty/json/39035 (# 74 )\n",
        "parsing"
       ]
      },
      {
       "output_type": "stream",
       "stream": "stdout",
       "text": [
        " /data/twcounty/json/39049 (# 75 )\n",
        "parsing"
       ]
      },
      {
       "output_type": "stream",
       "stream": "stdout",
       "text": [
        " /data/twcounty/json/39061 (# 76 )\n",
        "parsing"
       ]
      },
      {
       "output_type": "stream",
       "stream": "stdout",
       "text": [
        " /data/twcounty/json/40109 (# 77 )\n",
        "parsing"
       ]
      },
      {
       "output_type": "stream",
       "stream": "stdout",
       "text": [
        " /data/twcounty/json/41051 (# 78 )\n",
        "parsing"
       ]
      },
      {
       "output_type": "stream",
       "stream": "stdout",
       "text": [
        " /data/twcounty/json/42003 (# 79 )\n",
        "parsing"
       ]
      },
      {
       "output_type": "stream",
       "stream": "stdout",
       "text": [
        " /data/twcounty/json/42017 (# 80 )\n",
        "parsing"
       ]
      },
      {
       "output_type": "stream",
       "stream": "stdout",
       "text": [
        " /data/twcounty/json/42091 (# 81 )\n",
        "parsing"
       ]
      },
      {
       "output_type": "stream",
       "stream": "stdout",
       "text": [
        " /data/twcounty/json/42101 (# 82 )\n",
        "parsing"
       ]
      },
      {
       "output_type": "stream",
       "stream": "stdout",
       "text": [
        " /data/twcounty/json/44007 (# 83 )\n",
        "parsing"
       ]
      },
      {
       "output_type": "stream",
       "stream": "stdout",
       "text": [
        " /data/twcounty/json/47037 (# 84 )\n",
        "parsing"
       ]
      },
      {
       "output_type": "stream",
       "stream": "stdout",
       "text": [
        " /data/twcounty/json/47157 (# 85 )\n",
        "parsing"
       ]
      },
      {
       "output_type": "stream",
       "stream": "stdout",
       "text": [
        " /data/twcounty/json/48029 (# 86 )\n",
        "parsing"
       ]
      },
      {
       "output_type": "stream",
       "stream": "stdout",
       "text": [
        " /data/twcounty/json/48085 (# 87 )\n",
        "parsing"
       ]
      },
      {
       "output_type": "stream",
       "stream": "stdout",
       "text": [
        " /data/twcounty/json/48113 (# 88 )\n",
        "parsing"
       ]
      },
      {
       "output_type": "stream",
       "stream": "stdout",
       "text": [
        " /data/twcounty/json/48121 (# 89 )\n",
        "parsing"
       ]
      },
      {
       "output_type": "stream",
       "stream": "stdout",
       "text": [
        " /data/twcounty/json/48141 (# 90 )\n",
        "parsing"
       ]
      },
      {
       "output_type": "stream",
       "stream": "stdout",
       "text": [
        " /data/twcounty/json/48201 (# 91 )\n",
        "parsing"
       ]
      },
      {
       "output_type": "stream",
       "stream": "stdout",
       "text": [
        " /data/twcounty/json/48215 (# 92 )\n",
        "parsing"
       ]
      },
      {
       "output_type": "stream",
       "stream": "stdout",
       "text": [
        " /data/twcounty/json/48439 (# 93 )\n",
        "parsing"
       ]
      },
      {
       "output_type": "stream",
       "stream": "stdout",
       "text": [
        " /data/twcounty/json/48453 (# 94 )\n",
        "parsing"
       ]
      },
      {
       "output_type": "stream",
       "stream": "stdout",
       "text": [
        " /data/twcounty/json/49035 (# 95 )\n",
        "parsing"
       ]
      },
      {
       "output_type": "stream",
       "stream": "stdout",
       "text": [
        " /data/twcounty/json/51059 (# 96 )\n",
        "parsing"
       ]
      },
      {
       "output_type": "stream",
       "stream": "stdout",
       "text": [
        " /data/twcounty/json/53033 (# 97 )\n",
        "parsing"
       ]
      },
      {
       "output_type": "stream",
       "stream": "stdout",
       "text": [
        " /data/twcounty/json/53053 (# 98 )\n",
        "parsing"
       ]
      },
      {
       "output_type": "stream",
       "stream": "stdout",
       "text": [
        " /data/twcounty/json/53061 (# 99 )\n",
        "parsing"
       ]
      },
      {
       "output_type": "stream",
       "stream": "stdout",
       "text": [
        " /data/twcounty/json/55079 (# 100 )\n",
        "parsing"
       ]
      },
      {
       "output_type": "stream",
       "stream": "stdout",
       "text": [
        " /data/twcounty/json/01073 (# 1 )\n",
        "parsing"
       ]
      },
      {
       "output_type": "stream",
       "stream": "stdout",
       "text": [
        " /data/twcounty/json/04013 (# 2 )\n",
        "parsing"
       ]
      },
      {
       "output_type": "stream",
       "stream": "stdout",
       "text": [
        " /data/twcounty/json/04019 (# 3 )\n",
        "parsing"
       ]
      },
      {
       "output_type": "stream",
       "stream": "stdout",
       "text": [
        " /data/twcounty/json/06001 (# 4 )\n",
        "parsing"
       ]
      },
      {
       "output_type": "stream",
       "stream": "stdout",
       "text": [
        " /data/twcounty/json/06013 (# 5 )\n",
        "parsing"
       ]
      },
      {
       "output_type": "stream",
       "stream": "stdout",
       "text": [
        " /data/twcounty/json/06019 (# 6 )\n",
        "parsing"
       ]
      },
      {
       "output_type": "stream",
       "stream": "stdout",
       "text": [
        " /data/twcounty/json/06029 (# 7 )\n",
        "parsing"
       ]
      },
      {
       "output_type": "stream",
       "stream": "stdout",
       "text": [
        " /data/twcounty/json/06037 (# 8 )\n",
        "parsing"
       ]
      },
      {
       "output_type": "stream",
       "stream": "stdout",
       "text": [
        " /data/twcounty/json/06059 (# 9 )\n",
        "parsing"
       ]
      },
      {
       "output_type": "stream",
       "stream": "stdout",
       "text": [
        " /data/twcounty/json/06065 (# 10 )\n",
        "parsing"
       ]
      },
      {
       "output_type": "stream",
       "stream": "stdout",
       "text": [
        " /data/twcounty/json/06067 (# 11 )\n",
        "parsing"
       ]
      },
      {
       "output_type": "stream",
       "stream": "stdout",
       "text": [
        " /data/twcounty/json/06071 (# 12 )\n",
        "parsing"
       ]
      },
      {
       "output_type": "stream",
       "stream": "stdout",
       "text": [
        " /data/twcounty/json/06073 (# 13 )\n",
        "parsing"
       ]
      },
      {
       "output_type": "stream",
       "stream": "stdout",
       "text": [
        " /data/twcounty/json/06075 (# 14 )\n",
        "parsing"
       ]
      },
      {
       "output_type": "stream",
       "stream": "stdout",
       "text": [
        " /data/twcounty/json/06077 (# 15 )\n",
        "parsing"
       ]
      },
      {
       "output_type": "stream",
       "stream": "stdout",
       "text": [
        " /data/twcounty/json/06081 (# 16 )\n",
        "parsing"
       ]
      },
      {
       "output_type": "stream",
       "stream": "stdout",
       "text": [
        " /data/twcounty/json/06085 (# 17 )\n",
        "parsing"
       ]
      },
      {
       "output_type": "stream",
       "stream": "stdout",
       "text": [
        " /data/twcounty/json/06111 (# 18 )\n",
        "parsing"
       ]
      },
      {
       "output_type": "stream",
       "stream": "stdout",
       "text": [
        " /data/twcounty/json/08041 (# 19 )\n",
        "parsing"
       ]
      },
      {
       "output_type": "stream",
       "stream": "stdout",
       "text": [
        " /data/twcounty/json/09001 (# 20 )\n",
        "parsing"
       ]
      },
      {
       "output_type": "stream",
       "stream": "stdout",
       "text": [
        " /data/twcounty/json/09003 (# 21 )\n",
        "parsing"
       ]
      },
      {
       "output_type": "stream",
       "stream": "stdout",
       "text": [
        " /data/twcounty/json/09009 (# 22 )\n",
        "parsing"
       ]
      },
      {
       "output_type": "stream",
       "stream": "stdout",
       "text": [
        " /data/twcounty/json/12011 (# 23 )\n",
        "parsing"
       ]
      },
      {
       "output_type": "stream",
       "stream": "stdout",
       "text": [
        " /data/twcounty/json/12031 (# 24 )\n",
        "parsing"
       ]
      },
      {
       "output_type": "stream",
       "stream": "stdout",
       "text": [
        " /data/twcounty/json/12057 (# 25 )\n",
        "parsing"
       ]
      },
      {
       "output_type": "stream",
       "stream": "stdout",
       "text": [
        " /data/twcounty/json/12086 (# 26 )\n",
        "parsing"
       ]
      },
      {
       "output_type": "stream",
       "stream": "stdout",
       "text": [
        " /data/twcounty/json/12095 (# 27 )\n",
        "parsing"
       ]
      },
      {
       "output_type": "stream",
       "stream": "stdout",
       "text": [
        " /data/twcounty/json/12099 (# 28 )\n",
        "parsing"
       ]
      },
      {
       "output_type": "stream",
       "stream": "stdout",
       "text": [
        " /data/twcounty/json/12103 (# 29 )\n",
        "parsing"
       ]
      },
      {
       "output_type": "stream",
       "stream": "stdout",
       "text": [
        " /data/twcounty/json/13067 (# 30 )\n",
        "parsing"
       ]
      },
      {
       "output_type": "stream",
       "stream": "stdout",
       "text": [
        " /data/twcounty/json/13089 (# 31 )\n",
        "parsing"
       ]
      },
      {
       "output_type": "stream",
       "stream": "stdout",
       "text": [
        " /data/twcounty/json/13121 (# 32 )\n",
        "parsing"
       ]
      },
      {
       "output_type": "stream",
       "stream": "stdout",
       "text": [
        " /data/twcounty/json/13135 (# 33 )\n",
        "parsing"
       ]
      },
      {
       "output_type": "stream",
       "stream": "stdout",
       "text": [
        " /data/twcounty/json/15003 (# 34 )\n",
        "parsing"
       ]
      },
      {
       "output_type": "stream",
       "stream": "stdout",
       "text": [
        " /data/twcounty/json/17031 (# 35 )\n",
        "parsing"
       ]
      },
      {
       "output_type": "stream",
       "stream": "stdout",
       "text": [
        " /data/twcounty/json/17043 (# 36 )\n",
        "parsing"
       ]
      },
      {
       "output_type": "stream",
       "stream": "stdout",
       "text": [
        " /data/twcounty/json/17097 (# 37 )\n",
        "parsing"
       ]
      },
      {
       "output_type": "stream",
       "stream": "stdout",
       "text": [
        " /data/twcounty/json/17197 (# 38 )\n",
        "parsing"
       ]
      },
      {
       "output_type": "stream",
       "stream": "stdout",
       "text": [
        " /data/twcounty/json/18097 (# 39 )\n",
        "parsing"
       ]
      },
      {
       "output_type": "stream",
       "stream": "stdout",
       "text": [
        " /data/twcounty/json/21111 (# 40 )\n",
        "parsing"
       ]
      },
      {
       "output_type": "stream",
       "stream": "stdout",
       "text": [
        " /data/twcounty/json/24005 (# 41 )\n",
        "parsing"
       ]
      },
      {
       "output_type": "stream",
       "stream": "stdout",
       "text": [
        " /data/twcounty/json/24031 (# 42 )\n",
        "parsing"
       ]
      },
      {
       "output_type": "stream",
       "stream": "stdout",
       "text": [
        " /data/twcounty/json/24033 (# 43 )\n",
        "parsing"
       ]
      },
      {
       "output_type": "stream",
       "stream": "stdout",
       "text": [
        " /data/twcounty/json/24510 (# 44 )\n",
        "parsing"
       ]
      },
      {
       "output_type": "stream",
       "stream": "stdout",
       "text": [
        " /data/twcounty/json/25009 (# 45 )\n",
        "parsing"
       ]
      },
      {
       "output_type": "stream",
       "stream": "stdout",
       "text": [
        " /data/twcounty/json/25017 (# 46 )\n",
        "parsing"
       ]
      },
      {
       "output_type": "stream",
       "stream": "stdout",
       "text": [
        " /data/twcounty/json/25021 (# 47 )\n",
        "parsing"
       ]
      },
      {
       "output_type": "stream",
       "stream": "stdout",
       "text": [
        " /data/twcounty/json/25025 (# 48 )\n",
        "parsing"
       ]
      },
      {
       "output_type": "stream",
       "stream": "stdout",
       "text": [
        " /data/twcounty/json/25027 (# 49 )\n",
        "parsing"
       ]
      },
      {
       "output_type": "stream",
       "stream": "stdout",
       "text": [
        " /data/twcounty/json/26099 (# 50 )\n",
        "parsing"
       ]
      },
      {
       "output_type": "stream",
       "stream": "stdout",
       "text": [
        " /data/twcounty/json/26125 (# 51 )\n",
        "parsing"
       ]
      },
      {
       "output_type": "stream",
       "stream": "stdout",
       "text": [
        " /data/twcounty/json/26163 (# 52 )\n",
        "parsing"
       ]
      },
      {
       "output_type": "stream",
       "stream": "stdout",
       "text": [
        " /data/twcounty/json/27053 (# 53 )\n",
        "parsing"
       ]
      },
      {
       "output_type": "stream",
       "stream": "stdout",
       "text": [
        " /data/twcounty/json/29095 (# 54 )\n",
        "parsing"
       ]
      },
      {
       "output_type": "stream",
       "stream": "stdout",
       "text": [
        " /data/twcounty/json/29189 (# 55 )\n",
        "parsing"
       ]
      },
      {
       "output_type": "stream",
       "stream": "stdout",
       "text": [
        " /data/twcounty/json/32003 (# 56 )\n",
        "parsing"
       ]
      },
      {
       "output_type": "stream",
       "stream": "stdout",
       "text": [
        " /data/twcounty/json/34003 (# 57 )\n",
        "parsing"
       ]
      },
      {
       "output_type": "stream",
       "stream": "stdout",
       "text": [
        " /data/twcounty/json/34013 (# 58 )\n",
        "parsing"
       ]
      },
      {
       "output_type": "stream",
       "stream": "stdout",
       "text": [
        " /data/twcounty/json/34017 (# 59 )\n",
        "parsing"
       ]
      },
      {
       "output_type": "stream",
       "stream": "stdout",
       "text": [
        " /data/twcounty/json/34023 (# 60 )\n",
        "parsing"
       ]
      },
      {
       "output_type": "stream",
       "stream": "stdout",
       "text": [
        " /data/twcounty/json/34025 (# 61 )\n",
        "parsing"
       ]
      },
      {
       "output_type": "stream",
       "stream": "stdout",
       "text": [
        " /data/twcounty/json/35001 (# 62 )\n",
        "parsing"
       ]
      },
      {
       "output_type": "stream",
       "stream": "stdout",
       "text": [
        " /data/twcounty/json/36005 (# 63 )\n",
        "parsing"
       ]
      },
      {
       "output_type": "stream",
       "stream": "stdout",
       "text": [
        " /data/twcounty/json/36029 (# 64 )\n",
        "parsing"
       ]
      },
      {
       "output_type": "stream",
       "stream": "stdout",
       "text": [
        " /data/twcounty/json/36047 (# 65 )\n",
        "parsing"
       ]
      },
      {
       "output_type": "stream",
       "stream": "stdout",
       "text": [
        " /data/twcounty/json/36055 (# 66 )\n",
        "parsing"
       ]
      },
      {
       "output_type": "stream",
       "stream": "stdout",
       "text": [
        " /data/twcounty/json/36059 (# 67 )\n",
        "parsing"
       ]
      },
      {
       "output_type": "stream",
       "stream": "stdout",
       "text": [
        " /data/twcounty/json/36061 (# 68 )\n",
        "parsing"
       ]
      },
      {
       "output_type": "stream",
       "stream": "stdout",
       "text": [
        " /data/twcounty/json/36081 (# 69 )\n",
        "parsing"
       ]
      },
      {
       "output_type": "stream",
       "stream": "stdout",
       "text": [
        " /data/twcounty/json/36103 (# 70 )\n",
        "parsing"
       ]
      },
      {
       "output_type": "stream",
       "stream": "stdout",
       "text": [
        " /data/twcounty/json/36119 (# 71 )\n",
        "parsing"
       ]
      },
      {
       "output_type": "stream",
       "stream": "stdout",
       "text": [
        " /data/twcounty/json/37119 (# 72 )\n",
        "parsing"
       ]
      },
      {
       "output_type": "stream",
       "stream": "stdout",
       "text": [
        " /data/twcounty/json/37183 (# 73 )\n",
        "parsing"
       ]
      },
      {
       "output_type": "stream",
       "stream": "stdout",
       "text": [
        " /data/twcounty/json/39035 (# 74 )\n",
        "parsing"
       ]
      },
      {
       "output_type": "stream",
       "stream": "stdout",
       "text": [
        " /data/twcounty/json/39049 (# 75 )\n",
        "parsing"
       ]
      },
      {
       "output_type": "stream",
       "stream": "stdout",
       "text": [
        " /data/twcounty/json/39061 (# 76 )\n",
        "parsing"
       ]
      },
      {
       "output_type": "stream",
       "stream": "stdout",
       "text": [
        " /data/twcounty/json/40109 (# 77 )\n",
        "parsing"
       ]
      },
      {
       "output_type": "stream",
       "stream": "stdout",
       "text": [
        " /data/twcounty/json/41051 (# 78 )\n",
        "parsing"
       ]
      },
      {
       "output_type": "stream",
       "stream": "stdout",
       "text": [
        " /data/twcounty/json/42003 (# 79 )\n",
        "parsing"
       ]
      },
      {
       "output_type": "stream",
       "stream": "stdout",
       "text": [
        " /data/twcounty/json/42017 (# 80 )\n",
        "parsing"
       ]
      },
      {
       "output_type": "stream",
       "stream": "stdout",
       "text": [
        " /data/twcounty/json/42091 (# 81 )\n",
        "parsing"
       ]
      },
      {
       "output_type": "stream",
       "stream": "stdout",
       "text": [
        " /data/twcounty/json/42101 (# 82 )\n",
        "parsing"
       ]
      },
      {
       "output_type": "stream",
       "stream": "stdout",
       "text": [
        " /data/twcounty/json/44007 (# 83 )\n",
        "parsing"
       ]
      },
      {
       "output_type": "stream",
       "stream": "stdout",
       "text": [
        " /data/twcounty/json/47037 (# 84 )\n",
        "parsing"
       ]
      },
      {
       "output_type": "stream",
       "stream": "stdout",
       "text": [
        " /data/twcounty/json/47157 (# 85 )\n",
        "parsing"
       ]
      },
      {
       "output_type": "stream",
       "stream": "stdout",
       "text": [
        " /data/twcounty/json/48029 (# 86 )\n",
        "parsing"
       ]
      },
      {
       "output_type": "stream",
       "stream": "stdout",
       "text": [
        " /data/twcounty/json/48085 (# 87 )\n",
        "parsing"
       ]
      },
      {
       "output_type": "stream",
       "stream": "stdout",
       "text": [
        " /data/twcounty/json/48113 (# 88 )\n",
        "parsing"
       ]
      },
      {
       "output_type": "stream",
       "stream": "stdout",
       "text": [
        " /data/twcounty/json/48121 (# 89 )\n",
        "parsing"
       ]
      },
      {
       "output_type": "stream",
       "stream": "stdout",
       "text": [
        " /data/twcounty/json/48141 (# 90 )\n",
        "parsing"
       ]
      },
      {
       "output_type": "stream",
       "stream": "stdout",
       "text": [
        " /data/twcounty/json/48201 (# 91 )\n",
        "parsing"
       ]
      },
      {
       "output_type": "stream",
       "stream": "stdout",
       "text": [
        " /data/twcounty/json/48215 (# 92 )\n",
        "parsing"
       ]
      },
      {
       "output_type": "stream",
       "stream": "stdout",
       "text": [
        " /data/twcounty/json/48439 (# 93 )\n",
        "parsing"
       ]
      },
      {
       "output_type": "stream",
       "stream": "stdout",
       "text": [
        " /data/twcounty/json/48453 (# 94 )\n",
        "parsing"
       ]
      },
      {
       "output_type": "stream",
       "stream": "stdout",
       "text": [
        " /data/twcounty/json/49035 (# 95 )\n",
        "parsing"
       ]
      },
      {
       "output_type": "stream",
       "stream": "stdout",
       "text": [
        " /data/twcounty/json/51059 (# 96 )\n",
        "parsing"
       ]
      },
      {
       "output_type": "stream",
       "stream": "stdout",
       "text": [
        " /data/twcounty/json/53033 (# 97 )\n",
        "parsing"
       ]
      },
      {
       "output_type": "stream",
       "stream": "stdout",
       "text": [
        " /data/twcounty/json/53053 (# 98 )\n",
        "parsing"
       ]
      },
      {
       "output_type": "stream",
       "stream": "stdout",
       "text": [
        " /data/twcounty/json/53061 (# 99 )\n",
        "parsing"
       ]
      },
      {
       "output_type": "stream",
       "stream": "stdout",
       "text": [
        " /data/twcounty/json/55079 (# 100 )\n",
        "genders:"
       ]
      },
      {
       "output_type": "stream",
       "stream": "stdout",
       "text": [
        " Counter({'n': 1031916, 'f': 540666, 'm': 422118})\n",
        "races: Counter({'n': 1358642, 'white': 385108, 'black': 200316, 'latin': 50634})\n"
       ]
      },
      {
       "metadata": {},
       "output_type": "display_data",
       "png": "[encoded data removed]",
       "text": [
        "<matplotlib.figure.Figure at 0x112635150>"
       ]
      }
     ],
     "prompt_number": 39
    },
    {
     "cell_type": "code",
     "collapsed": false,
     "input": [
      "def norm_by_gender(tweets_by_county, users_by_county, alpha, include_og_feature):\n",
      "    \"\"\" Each county is represented by the fraction of users who use a particular word\n",
      "    >>> alpha = {'dog': 0, 'cat': 1}\n",
      "    >>> counties = {'cty1': {0: 2, 1: 1}}\n",
      "    >>> norm_by_user(counties, {'cty1': set(['u1', 'u2'])}, alpha)\n",
      "    >>> counties['cty1']\n",
      "    {0: 1.0, 1: 0.5}\n",
      "    \"\"\"\n",
      "    alpha = defaultdict(lambda: len(alpha), alpha)\n",
      "    rev_alpha = tsv2feats.reverse_dict(alpha)\n",
      "    for cty_id in tweets_by_county:\n",
      "        nusers = len(users_by_county[cty_id])\n",
      "        features = tweets_by_county[cty_id]\n",
      "        for feature, value in features.items():\n",
      "            feat_name = rev_alpha[feature]\n",
      "            # if include_og_feature:\n",
      "            #     features[feature] = 1. * value / nusers            \n",
      "            # Divide by the number of that gender (m,f,n), which prefixes the feature\n",
      "            if feat_name[0:2] == 'm_' or feat_name == 'f_':\n",
      "                features[feature] = 1. * value / county2demo[cty_id][feat_name[0]]\n",
      "            else:\n",
      "                features[feature] = 1. * value / nusers\n",
      "                # features[feature] = 1.\n",
      "    return alpha\n",
      "\n",
      "def norm_by_demo(tweets_by_county, users_by_county, alpha, include_og_feature, include_race, include_gender):\n",
      "    alpha = defaultdict(lambda: len(alpha), alpha)\n",
      "    rev_alpha = tsv2feats.reverse_dict(alpha)\n",
      "    for cty_id in tweets_by_county:\n",
      "        nusers = len(users_by_county[cty_id])\n",
      "        features = tweets_by_county[cty_id]\n",
      "        for feature, value in features.items():\n",
      "            feat_name = rev_alpha[feature]\n",
      "            # Divide by the number of that race (m,f,n), which prefixes the feature\n",
      "            if feat_name[0:5] == 'race=':\n",
      "                if include_race:\n",
      "                    if county2race[cty_id][feat_name[5:10]] == 0:\n",
      "                        county2race[cty_id][feat_name[5:10]] = 1.\n",
      "                    features[feature] = 1. * value / county2race[cty_id][feat_name[5:10]]\n",
      "                else:\n",
      "                    features[feature] = 0.\n",
      "            elif feat_name[0:7] == 'gender=':\n",
      "                if include_gender:\n",
      "                    features[feature] = 1. * value / county2gender[cty_id][feat_name[7:8]]\n",
      "                else:\n",
      "                    features[feature] = 0.\n",
      "            else:\n",
      "                if include_og_feature:\n",
      "                    features[feature] = 1. * value / nusers            \n",
      "                else:\n",
      "                    features[feature] = 0.\n",
      "    return alpha"
     ],
     "language": "python",
     "metadata": {},
     "outputs": [],
     "prompt_number": 74
    },
    {
     "cell_type": "code",
     "collapsed": false,
     "input": [
      "def get_results(train_folds, test_folds, m, vocab, target_name, coords):\n",
      "    \"\"\" Write prediction results to disk. \"\"\"\n",
      "    target_name = expt.fmt_target(target_name)\n",
      "    train_results = expt.evaluate(train_folds, coords)\n",
      "    test_results = expt.evaluate(test_folds, coords)\n",
      "    # print('%20s:\\ttrain\\t%s' % (target_name[:20], expt.fmt_eval(train_results, ['smape_m', 'correl', 'correl_a'])))\n",
      "    # print('%20s:\\ttest\\t%s' % (target_name[:20], expt.fmt_eval(test_results, ['smape_m', 'correl', 'correl_a'])))\n",
      "    return test_results"
     ],
     "language": "python",
     "metadata": {},
     "outputs": [],
     "prompt_number": 41
    },
    {
     "cell_type": "code",
     "collapsed": false,
     "input": [
      "import copy\n",
      "import numpy as np\n",
      "\n",
      "from scipy.stats import pearsonr\n",
      "from sklearn import linear_model\n",
      "from sklearn.feature_selection import f_regression, SelectKBest\n",
      "\n",
      "def print_top_feats(m, feature_names, n=10):\n",
      "    srted = np.argsort(m.coef_)\n",
      "    topi = srted[::-1][:n]\n",
      "    boti = srted[:n]\n",
      "    print 'pos:' + ' '.join('%s (%.2g)' % (n, c) for n, c in zip(feature_names[topi], m.coef_[topi]))\n",
      "    print 'neg:' + ' '.join('%s (%.2g)' % (n, c) for n, c in zip(feature_names[boti], m.coef_[boti]))\n",
      "\n",
      "def avg_results(all_results):\n",
      "    \"\"\" Average all_results. \"\"\"\n",
      "    result = {}\n",
      "    for key in all_results[0].keys():\n",
      "        result[key] = np.mean([d[key] for d in all_results])\n",
      "    return result\n",
      "\n",
      "def myridge(x, y, train, test, alpha=1):\n",
      "    fsel = SelectKBest(f_regression, k=min(160, len(x[0])))\n",
      "    m = linear_model.Ridge(alpha)\n",
      "    xtrain = fsel.fit_transform(x[train], y[train])\n",
      "    xtest = fsel.transform(x[test])\n",
      "    m.fit(xtrain, y[train])\n",
      "    return (m, m.predict(xtrain), m.predict(xtest), fsel)\n",
      "    #m.fit(x[train], y[train])\n",
      "    #return (m, m.predict(x[train]), m.predict(x[test]))\n",
      "\n",
      "def run_expt(features_og, users_by_county_og, alpha_og, use_race, use_gender, use_og_feature, ridge_alpha):\n",
      "    features = copy.deepcopy(features_og)\n",
      "    users_by_county = copy.deepcopy(users_by_county_og)\n",
      "    alpha = copy.deepcopy(alpha_og)\n",
      "    features, alpha = tsv2feats.filter_by_count(features, alpha, min_df=20)\n",
      "    if use_gender or use_race:\n",
      "        alpha = norm_by_demo(features, users_by_county, alpha, include_og_feature=use_og_feature, include_race=use_race, include_gender=use_gender)\n",
      "    else:\n",
      "        tsv2feats.norm_by_user(features, users_by_county, alpha)\n",
      "    features = tsv2feats.densify(features, alpha)  # default_dict_to_dict(features)\n",
      "    # print('last 10 features from first county: %s' % features.values()[0][-10:])\n",
      "    # print('last 10 words from alpha: %s' % alpha.keys()[-10:])\n",
      "    county_data = data.Data(None, features, alpha)\n",
      "    coords = expt.read_coords('/data/twcounty/stats2/counties/counties.top100.bounding.txt')\n",
      "    counties = county_data.features\n",
      "    data_alpha = np.array(sorted(county_data.alpha.keys(), key=lambda k: county_data.alpha[k]))\n",
      "    targets, target_alpha = expt.read_targets('/data/twcounty/targets.tsv', counties.keys())\n",
      "    states = expt.read_states('/data/twcounty/states.tsv', counties.keys())\n",
      " \n",
      "    \n",
      "    cv = expt.make_state_cv(counties, states, 5)\n",
      "    X, Y = expt.to_matrices(counties, targets)\n",
      "    county_ids = np.array(sorted(counties))\n",
      "    all_results = []\n",
      "    all_smapes = []\n",
      "    for yi, ylabel in enumerate(target_alpha):\n",
      "        y = Y[:, yi]\n",
      "        # XX = fsel.fit_transform(X, y)\n",
      "        train_folds = []\n",
      "        test_folds = []\n",
      "        for train, test in cv:\n",
      "            m, train_pred, test_pred, fsel = myridge(X, y, train, test, alpha=ridge_alpha)\n",
      "            train_folds.append((y[train], train_pred, county_ids[train]))\n",
      "            test_folds.append((y[test], test_pred, county_ids[test]))\n",
      "        m, train_pred, test_pred, fsel = myridge(X, y, range(len(y)), range(len(y)), alpha=ridge_alpha)\n",
      "        #fvals, pvals = expt.feature_correls(X, y, [coords[cty] for cty in county_ids])\n",
      "        all_results.append(get_results(train_folds, test_folds, m, data_alpha, ylabel, coords))\n",
      "        smapes = [expt.smape(t[0], t[1]) for t in test_folds]\n",
      "        all_smapes.append(smapes)\n",
      "        # smapes = [pearsonr(t[0], t[1])[0] for t in test_folds]\n",
      "        # all_smapes.append(smapes)\n",
      "        if ylabel == '% Obese':\n",
      "            print_top_feats(m, np.array(data_alpha[fsel.get_support(True)]))\n",
      "    summary = avg_results(all_results)\n",
      "    print(u'\\t'.join(str(k) for k in sorted(summary.keys())) + '\\n')\n",
      "    print(u'\\t'.join(str(summary[k]) for k in sorted(summary.keys())) + '\\n')\n",
      "    return target_alpha, np.array(all_smapes)"
     ],
     "language": "python",
     "metadata": {},
     "outputs": [],
     "prompt_number": 71
    },
    {
     "cell_type": "code",
     "collapsed": false,
     "input": [
      "targets, gender_results = run_expt(features_og_gender, users_by_county_og_gender, alpha_og_gender, use_gender=True, use_og_feature=True, use_race=True, ridge_alpha=.3)"
     ],
     "language": "python",
     "metadata": {},
     "outputs": [
      {
       "output_type": "stream",
       "stream": "stdout",
       "text": [
        "pos:race=latin_Humans (6.4) race=latin_Tentat (4.1) d=School (3.6) race=latin_R+ (3.2) race=latin_Down (3.1) d=Social (3.1) race=latin_Hear (2.8) d=I (2.7) race=latin_Sad (2.7) Othref (2.6)\n",
        "neg:gender=m_d=Job (-3.4) race=black_d=Job (-2.9) gender=f_d=Job (-2.5) race=latin_Social (-2.5) Preps (-2.3) race=latin_Incl (-2.3) race=latin_Excl (-2) race=white_d=TV (-1.9) Posemo (-1.4) d=Job (-1.3)\n",
        "correl\tcorrel_a\tmse_m\tmse_std\tsmape_m\tsmape_std\n"
       ]
      },
      {
       "output_type": "stream",
       "stream": "stdout",
       "text": [
        "\n",
        "0.157665983524\t0.252281760086\t5436.63276819\t2173.04247218\t0.0968472937582\t0.017244801786\n",
        "\n"
       ]
      }
     ],
     "prompt_number": 63
    },
    {
     "cell_type": "code",
     "collapsed": false,
     "input": [
      "targets, og_results = run_expt(features_og, users_by_county_og, alpha_og, use_gender=False, use_og_feature=True, ridge_alpha=.1)"
     ],
     "language": "python",
     "metadata": {},
     "outputs": [
      {
       "output_type": "stream",
       "stream": "stdout",
       "text": [
        "pos:Othref (7) d=School (6.8) Social (5.4) d=Posfeel (4.7) d=Social (4.7) Self (4.6) I (4.5) You (4.4) Negate (4.3) d=Relig (4.3)\n",
        "neg:Preps (-6.8) d=Motion (-6) P+ (-4.5) Article (-4) Posemo (-3.9) d=Incl (-3.7) d=Job (-3.4) d=Achieve (-3.4) d=Up (-3.4) Anger (-2.9)\n",
        "correl\tcorrel_a\tmse_m\tmse_std\tsmape_m\tsmape_std\n"
       ]
      },
      {
       "output_type": "stream",
       "stream": "stdout",
       "text": [
        "\n",
        "0.282496541688\t0.127283925635\t4482.95334488\t1758.82312904\t0.0901934834871\t0.0165386842068\n",
        "\n"
       ]
      }
     ],
     "prompt_number": 44
    },
    {
     "cell_type": "code",
     "collapsed": false,
     "input": [
      "# Search for best alpha\n",
      "def avg_results_alpha(my_results):\n",
      "    return np.mean([np.mean(r) for r in my_results])\n",
      "\n",
      "def best_alpha(features_og_gender, users_by_county_og_gender, alpha_og_gender,\n",
      "               use_gender, use_race, use_og_feature):\n",
      "    \"\"\" Hill climb to find best alpha. \"\"\"\n",
      "    values = [.1 * (i+1) for i in range(25)]\n",
      "    i = len(values) / 2\n",
      "    print 'ALPHA=', values[i], 'i=', i\n",
      "    direction = -1\n",
      "    _, my_results = run_expt(features_og_gender, users_by_county_og_gender, alpha_og_gender, use_gender=use_gender, use_race=use_race, use_og_feature=use_og_feature, ridge_alpha=values[i])\n",
      "    while True:\n",
      "        newi = i + direction\n",
      "        if newi > 0 and newi < len(values):\n",
      "            print 'ALPHA=', values[newi], 'i=', newi\n",
      "            t, new_results = run_expt(features_og_gender, users_by_county_og_gender, alpha_og_gender, use_gender=use_gender, use_race=use_race, use_og_feature=use_og_feature, ridge_alpha=values[newi])\n",
      "            if avg_results_alpha(new_results) < avg_results_alpha(my_results):\n",
      "                i = newi\n",
      "                print 'accepting new alpha'\n",
      "                my_results = new_results\n",
      "                continue\n",
      "            else:\n",
      "                direction *= -1\n",
      "                newi = i + direction\n",
      "                print 'ALPHA=', values[newi], 'i=', newi\n",
      "                t, new_results = run_expt(features_og_gender, users_by_county_og_gender, alpha_og_gender, use_gender=use_gender, use_race=use_race, use_og_feature=use_og_feature, ridge_alpha=values[newi])\n",
      "                if avg_results_alpha(new_results) < avg_results_alpha(my_results):\n",
      "                    i = newi\n",
      "                    print 'accepting new alpha'\n",
      "                    my_results = new_results\n",
      "                    continue\n",
      "        # No better direction. Stop.\n",
      "        print 'stopping.'\n",
      "        return values[i], avg_results_alpha(my_results)\n",
      "\n",
      "print best_alpha(features_og_gender, users_by_county_og_gender, alpha_og_gender, use_gender=True, use_race=True, use_og_feature=False)"
     ],
     "language": "python",
     "metadata": {},
     "outputs": [
      {
       "output_type": "stream",
       "stream": "stdout",
       "text": [
        "ALPHA= 1.3 i= 12\n",
        "pos:race=latin_Tentat (2.5) race=latin_Past (2.2) race=latin_Humans (2.2) race=white_d=School (1.5) gender=f_d=Relig (1.4) race=latin_Space (1.4) gender=m_d=School (1.4) race=latin_Senses (1.3) race=latin_Present (1.3) race=latin_You (1.3)"
       ]
      },
      {
       "output_type": "stream",
       "stream": "stdout",
       "text": [
        "\n",
        "neg:race=latin_Preps (-2.5) race=black_d=Optim (-1.9) race=black_d=Job (-1.7) race=white_d=Job (-1.5) gender=m_d=Job (-1.5) race=latin_Insight (-1.4) race=latin_d=Motion (-1.4) race=black_d=Cause (-1.3) gender=m_d=Achieve (-1.2) race=black_d=See (-1.2)\n",
        "correl\tcorrel_a\tmse_m\tmse_std\tsmape_m\tsmape_std\n"
       ]
      },
      {
       "output_type": "stream",
       "stream": "stdout",
       "text": [
        "\n",
        "-0.0120611782217\t0.323858607837\t5460.7658207\t2101.70776671\t0.100535235231\t0.0181222573394\n",
        "\n",
        "ALPHA= 1.2 i= 11\n",
        "pos:race=latin_Tentat (2.7) race=latin_Humans (2.3) race=latin_Past (2.3) race=white_d=School (1.6) gender=f_d=Relig (1.5) race=latin_Space (1.4) gender=m_d=School (1.4) race=latin_Present (1.4) race=latin_Senses (1.4) gender=f_d=Metaph (1.4)"
       ]
      },
      {
       "output_type": "stream",
       "stream": "stdout",
       "text": [
        "\n",
        "neg:race=latin_Preps (-2.7) race=black_d=Optim (-2) race=black_d=Job (-1.8) race=white_d=Job (-1.6) gender=m_d=Job (-1.6) race=latin_Insight (-1.5) race=latin_d=Motion (-1.5) race=black_d=Cause (-1.4) race=black_d=See (-1.3) gender=m_d=Achieve (-1.3)\n",
        "correl\tcorrel_a\tmse_m\tmse_std\tsmape_m\tsmape_std\n"
       ]
      },
      {
       "output_type": "stream",
       "stream": "stdout",
       "text": [
        "\n",
        "-0.00688619387822\t0.323697804165\t5476.95094526\t2105.73205994\t0.100441310588\t0.0180970006999\n",
        "\n",
        "accepting new alpha\n",
        "ALPHA= 1.1 i= 10\n",
        "pos:race=latin_Tentat (2.8) race=latin_Humans (2.5) race=latin_Past (2.4) race=white_d=School (1.6) gender=f_d=Relig (1.6) gender=m_d=School (1.5) race=latin_Space (1.5) race=latin_Present (1.5) gender=f_d=Metaph (1.4) race=latin_Senses (1.4)"
       ]
      },
      {
       "output_type": "stream",
       "stream": "stdout",
       "text": [
        "\n",
        "neg:race=latin_Preps (-2.9) race=black_d=Optim (-2.1) race=black_d=Job (-1.9) race=white_d=Job (-1.7) gender=m_d=Job (-1.7) race=latin_Insight (-1.7) race=latin_d=Motion (-1.5) race=black_d=Cause (-1.5) race=black_d=See (-1.4) gender=m_d=Achieve (-1.4)\n",
        "correl\tcorrel_a\tmse_m\tmse_std\tsmape_m\tsmape_std\n"
       ]
      },
      {
       "output_type": "stream",
       "stream": "stdout",
       "text": [
        "\n",
        "-0.00120895654487\t0.324935792912\t5495.59500893\t2110.49464457\t0.100341969671\t0.0180666823676\n",
        "\n",
        "accepting new alpha\n",
        "ALPHA= 1.0 i= 9\n",
        "pos:race=latin_Tentat (3) race=latin_Humans (2.7) race=latin_Past (2.6) race=white_d=School (1.7) gender=f_d=Relig (1.7) gender=m_d=School (1.6) race=latin_Present (1.6) race=latin_Space (1.6) gender=f_d=Metaph (1.5) race=latin_R+ (1.5)"
       ]
      },
      {
       "output_type": "stream",
       "stream": "stdout",
       "text": [
        "\n",
        "neg:race=latin_Preps (-3.1) race=black_d=Optim (-2.3) race=black_d=Job (-2) race=latin_Insight (-1.8) gender=m_d=Job (-1.8) race=white_d=Job (-1.8) race=latin_d=Motion (-1.6) race=black_d=Cause (-1.5) race=black_d=See (-1.5) gender=m_d=Achieve (-1.5)\n",
        "correl\tcorrel_a\tmse_m\tmse_std\tsmape_m\tsmape_std\n"
       ]
      },
      {
       "output_type": "stream",
       "stream": "stdout",
       "text": [
        "\n",
        "0.00504925635792\t0.327962127264\t5517.35643352\t2116.24287114\t0.100237756014\t0.0180285635634\n",
        "\n",
        "accepting new alpha\n",
        "ALPHA= 0.9 i= 8\n",
        "pos:race=latin_Tentat (3.2) race=latin_Humans (2.9) race=latin_Past (2.7) race=white_d=School (1.8) gender=f_d=Relig (1.8) gender=m_d=School (1.7) race=latin_Present (1.7) race=latin_Space (1.7) gender=f_d=Metaph (1.6) race=latin_R+ (1.6)"
       ]
      },
      {
       "output_type": "stream",
       "stream": "stdout",
       "text": [
        "\n",
        "neg:race=latin_Preps (-3.4) race=black_d=Optim (-2.4) race=black_d=Job (-2.2) race=latin_Insight (-2) gender=m_d=Job (-1.9) race=white_d=Job (-1.9) race=latin_d=Motion (-1.7) race=black_d=Cause (-1.6) race=black_d=See (-1.6) gender=m_d=Achieve (-1.5)\n",
        "correl\tcorrel_a\tmse_m\tmse_std\tsmape_m\tsmape_std\n"
       ]
      },
      {
       "output_type": "stream",
       "stream": "stdout",
       "text": [
        "\n",
        "0.0119852282664\t0.33324509568\t5543.15572095\t2123.3480168\t0.1001353825\t0.0179753400634\n",
        "\n",
        "accepting new alpha\n",
        "ALPHA= 0.8 i= 7\n",
        "pos:race=latin_Tentat (3.4) race=latin_Humans (3.1) race=latin_Past (2.9) gender=f_d=Relig (2) race=white_d=School (1.9) race=latin_Present (1.8) gender=m_d=School (1.8) race=latin_Space (1.8) gender=f_d=Metaph (1.8) race=latin_R+ (1.7)"
       ]
      },
      {
       "output_type": "stream",
       "stream": "stdout",
       "text": [
        "\n",
        "neg:race=latin_Preps (-3.7) race=black_d=Optim (-2.6) race=black_d=Job (-2.3) race=latin_Insight (-2.3) gender=m_d=Job (-2.1) race=white_d=Job (-2.1) race=latin_d=Motion (-1.8) race=black_d=See (-1.7) race=black_d=Cause (-1.7) gender=m_d=Achieve (-1.7)\n",
        "correl\tcorrel_a\tmse_m\tmse_std\tsmape_m\tsmape_std\n"
       ]
      },
      {
       "output_type": "stream",
       "stream": "stdout",
       "text": [
        "\n",
        "0.0197201039011\t0.341400412436\t5574.32166226\t2132.38919735\t0.100032830156\t0.0179187767604\n",
        "\n",
        "accepting new alpha\n",
        "ALPHA= 0.7 i= 6\n",
        "pos:race=latin_Tentat (3.7) race=latin_Humans (3.4) race=latin_Past (3.1) gender=f_d=Relig (2.1) race=white_d=School (2) race=latin_Present (2) gender=m_d=School (2) gender=f_d=Metaph (1.9) race=latin_Space (1.9) race=latin_Affect (1.9)"
       ]
      },
      {
       "output_type": "stream",
       "stream": "stdout",
       "text": [
        "\n",
        "neg:race=latin_Preps (-4) race=black_d=Optim (-2.9) race=latin_Insight (-2.6) race=black_d=Job (-2.5) gender=m_d=Job (-2.3) race=white_d=Job (-2.2) race=latin_d=Motion (-2) race=black_d=See (-1.9) race=black_d=Cause (-1.8) gender=m_d=Achieve (-1.8)\n",
        "correl\tcorrel_a\tmse_m\tmse_std\tsmape_m\tsmape_std\n"
       ]
      },
      {
       "output_type": "stream",
       "stream": "stdout",
       "text": [
        "\n",
        "0.0284090428191\t0.353288645743\t5612.84918813\t2144.31111756\t0.0999220858624\t0.0178587185832\n",
        "\n",
        "accepting new alpha\n",
        "ALPHA= 0.6 i= 5\n",
        "pos:race=latin_Tentat (4) race=latin_Humans (3.8) race=latin_Past (3.3) gender=f_d=Relig (2.3) race=latin_Present (2.2) race=white_d=School (2.2) gender=m_d=School (2.2) gender=f_d=Metaph (2.1) race=latin_Affect (2.1) race=latin_Space (2.1)"
       ]
      },
      {
       "output_type": "stream",
       "stream": "stdout",
       "text": [
        "\n",
        "neg:race=latin_Preps (-4.4) race=black_d=Optim (-3.2) race=latin_Insight (-3) race=black_d=Job (-2.7) gender=m_d=Job (-2.5) race=white_d=Job (-2.4) race=latin_d=Motion (-2.2) race=black_d=See (-2.1) race=black_d=We (-1.9) race=latin_d=Time (-1.9)\n",
        "correl\tcorrel_a\tmse_m\tmse_std\tsmape_m\tsmape_std\n"
       ]
      },
      {
       "output_type": "stream",
       "stream": "stdout",
       "text": [
        "\n",
        "0.0382566756373\t0.357586398207\t5661.88482609\t2160.73957342\t0.0998078596217\t0.0177954843589\n",
        "\n",
        "accepting new alpha\n",
        "ALPHA= 0.5 i= 4\n",
        "pos:race=latin_Tentat (4.4) race=latin_Humans (4.3) race=latin_Past (3.6) gender=f_d=Relig (2.6) race=latin_Present (2.5) race=latin_Affect (2.4) gender=m_d=School (2.4) gender=f_d=Metaph (2.4) race=white_d=School (2.3) race=latin_Space (2.3)"
       ]
      },
      {
       "output_type": "stream",
       "stream": "stdout",
       "text": [
        "\n",
        "neg:race=latin_Preps (-4.9) race=black_d=Optim (-3.5) race=latin_Insight (-3.4) race=black_d=Job (-2.9) gender=m_d=Job (-2.8) race=white_d=Job (-2.6) race=black_d=See (-2.4) race=latin_d=Motion (-2.4) race=latin_d=Time (-2.2) race=black_d=We (-2.2)\n",
        "correl\tcorrel_a\tmse_m\tmse_std\tsmape_m\tsmape_std\n"
       ]
      },
      {
       "output_type": "stream",
       "stream": "stdout",
       "text": [
        "\n",
        "0.0495429913999\t0.356510610186\t5726.72081892\t2184.66305005\t0.0996859697813\t0.0177244633368\n",
        "\n",
        "accepting new alpha\n",
        "ALPHA= 0.4 i= 3\n",
        "pos:race=latin_Humans (5) race=latin_Tentat (4.9) race=latin_Past (4) gender=f_d=Relig (3) race=latin_Affect (2.8) race=latin_Present (2.8) race=latin_Eating (2.7) gender=f_d=Metaph (2.7) gender=m_d=School (2.7) race=latin_Space (2.6)"
       ]
      },
      {
       "output_type": "stream",
       "stream": "stdout",
       "text": [
        "\n",
        "neg:race=latin_Preps (-5.6) race=latin_Insight (-4.1) race=black_d=Optim (-4) race=black_d=Job (-3.2) gender=m_d=Job (-3.1) race=white_d=Job (-2.9) race=black_d=See (-2.7) race=latin_d=Motion (-2.6) race=latin_d=Time (-2.6) race=black_d=We (-2.5)\n",
        "correl\tcorrel_a\tmse_m\tmse_std\tsmape_m\tsmape_std\n"
       ]
      },
      {
       "output_type": "stream",
       "stream": "stdout",
       "text": [
        "\n",
        "0.0626685055691\t0.362303144752\t5817.07369119\t2222.06003355\t0.0995720113762\t0.0176677028652\n",
        "\n",
        "accepting new alpha\n",
        "ALPHA= 0.3 i= 2\n",
        "pos:race=latin_Humans (6.1) race=latin_Tentat (5.7) race=latin_Past (4.4) gender=f_d=Relig (3.6) race=latin_Eating (3.5) race=latin_Affect (3.4) gender=f_d=Metaph (3.2) race=latin_Present (3.2) race=latin_Space (3) gender=m_d=School (3)"
       ]
      },
      {
       "output_type": "stream",
       "stream": "stdout",
       "text": [
        "\n",
        "neg:race=latin_Preps (-6.4) race=latin_Insight (-5) race=black_d=Optim (-4.7) gender=m_d=Job (-3.6) race=black_d=Job (-3.5) race=black_d=See (-3.2) race=white_d=Job (-3.2) race=latin_d=Time (-3.1) race=black_d=We (-2.9) race=latin_d=Motion (-2.9)\n",
        "correl\tcorrel_a\tmse_m\tmse_std\tsmape_m\tsmape_std\n"
       ]
      },
      {
       "output_type": "stream",
       "stream": "stdout",
       "text": [
        "\n",
        "0.0782342237091\t0.371590782261\t5953.21540024\t2286.35750088\t0.0995460241921\t0.0176120944707\n",
        "\n",
        "accepting new alpha\n",
        "ALPHA= 0.2 i= 1\n",
        "pos:race=latin_Humans (7.9) race=latin_Tentat (6.8) race=latin_Eating (5.1) race=latin_Past (5) gender=f_d=Relig (4.5) race=latin_Affect (4.4) gender=f_d=Metaph (4) race=latin_Space (3.8) race=latin_Present (3.7) gender=m_d=School (3.6)"
       ]
      },
      {
       "output_type": "stream",
       "stream": "stdout",
       "text": [
        "\n",
        "neg:race=latin_Preps (-7.6) race=latin_Insight (-6.3) race=black_d=Optim (-5.7) gender=m_d=Job (-4.3) race=latin_Motion (-4.1) race=black_d=Job (-4) race=latin_d=Time (-3.9) race=black_d=See (-3.9) race=latin_Cogmech (-3.6) race=black_d=We (-3.6)\n",
        "correl\tcorrel_a\tmse_m\tmse_std\tsmape_m\tsmape_std\n"
       ]
      },
      {
       "output_type": "stream",
       "stream": "stdout",
       "text": [
        "\n",
        "0.0971631485561\t0.323854887952\t6187.1841491\t2413.50274285\t0.0997353533493\t0.017645123901\n",
        "\n",
        "ALPHA= 0.4 i= 3\n",
        "pos:race=latin_Humans (5) race=latin_Tentat (4.9) race=latin_Past (4) gender=f_d=Relig (3) race=latin_Affect (2.8) race=latin_Present (2.8) race=latin_Eating (2.7) gender=f_d=Metaph (2.7) gender=m_d=School (2.7) race=latin_Space (2.6)"
       ]
      },
      {
       "output_type": "stream",
       "stream": "stdout",
       "text": [
        "\n",
        "neg:race=latin_Preps (-5.6) race=latin_Insight (-4.1) race=black_d=Optim (-4) race=black_d=Job (-3.2) gender=m_d=Job (-3.1) race=white_d=Job (-2.9) race=black_d=See (-2.7) race=latin_d=Motion (-2.6) race=latin_d=Time (-2.6) race=black_d=We (-2.5)\n",
        "correl\tcorrel_a\tmse_m\tmse_std\tsmape_m\tsmape_std\n"
       ]
      },
      {
       "output_type": "stream",
       "stream": "stdout",
       "text": [
        "\n",
        "0.0626685055691\t0.362303144752\t5817.07369119\t2222.06003355\t0.0995720113762\t0.0176677028652\n",
        "\n",
        "stopping.\n",
        "(0.30000000000000004, 0.099546024192066984)\n"
       ]
      }
     ],
     "prompt_number": 79
    },
    {
     "cell_type": "code",
     "collapsed": false,
     "input": [
      "smape  alpha  use_gender  use_race  use_og\n",
      ".0969   .3     t            t         t\n",
      ".0973   .4     f            t         t\n",
      ".1002   .4     f            t         f\n",
      ".0934   .2     t            f         t\n",
      ".0938   .2     t            f         f"
     ],
     "language": "python",
     "metadata": {},
     "outputs": []
    },
    {
     "cell_type": "code",
     "collapsed": false,
     "input": [
      "def pct_impr(old, new):\n",
      "    return 100. * (old - new) / old\n",
      "\n",
      "improvements = []\n",
      "impr_err = []\n",
      "target_pr = []\n",
      "for target, gender_r, og_r in sorted(zip(targets, gender_results, og_results),\n",
      "                                     key=lambda x:np.mean(pct_impr(x[2], x[1]))):\n",
      "    imprs = pct_impr(og_r, gender_r)\n",
      "    print target, np.mean(imprs), np.std(imprs), np.mean(og_r), np.mean(gender_r)\n",
      "    improvements.append(np.mean(imprs))\n",
      "    impr_err.append(np.std(imprs) / sqrt(len(imprs)) / 2)\n",
      "    target_pr.append(target)\n",
      "    \n",
      "y_pos = np.arange(len(targets))\n",
      "\n",
      "plt.barh(y_pos, improvements, xerr=impr_err, align='center', alpha=0.8)\n",
      "plt.yticks(y_pos, target_pr)\n",
      "plt.xlabel('% change')\n",
      "print 'mean improvement=', np.mean(improvements)"
     ],
     "language": "python",
     "metadata": {},
     "outputs": [
      {
       "output_type": "stream",
       "stream": "stdout",
       "text": [
        "Ambulatory Care Sensitive Conditions -21.7493117798 7.56754432868 0.092579423776 0.112265614855\n",
        "% Low Birth Weight -14.7715544058 11.5697833975 0.0550947681135 0.0626167531407\n",
        "Female -14.7694100395 14.5841336889 0.00632227888775 0.00727881913054\n",
        "Violent Crime Rate -13.264928796 11.4660309186 0.193001841866 0.217515932097\n",
        "Teen Birth Rate -12.4558524483 7.01888472304 0.153350168343 0.173508600598\n",
        "% fair/poor health -12.4376296697 8.94142565264 0.0886478321782 0.0977895433961\n",
        "65 and over -12.1384031471 5.97703275162 0.0705191131531 0.0780359546046\n",
        "% Excessive Drinking -11.8005391071 9.26024538491 0.0547361201709 0.061051399341\n",
        "% Unemployed -11.4775354637 6.29681384921 0.0987429762632 0.109041566858\n",
        "MV Mortality Rate -11.4688100765 21.9594360636 0.130339067332 0.140015230081\n",
        "Rec Facility Rate -10.2996780108 3.88444936996 0.145277692888 0.159580821882\n",
        "< 18 -9.56257121002 11.9954509753 0.0440854431499 0.0485606078264\n",
        "% Single-Parent Households -8.62592454649 11.9035752702 0.105568591986 0.115007189262\n",
        "Chlamydia Rate -8.07076525736 6.1811735189 0.195793207447 0.21294062445\n",
        "Afro-hispanic -8.0300314838 10.9620739096 0.16385252933 0.178570940047\n",
        "% Some College -7.81652528254 9.44478883549 0.0496563987303 0.0536055081946\n",
        "% Children in Poverty -7.46177806254 5.72371045892 0.142176729761 0.152819729631\n",
        "Dentist Ratio -5.8406848725 3.60195562567 0.099925851381 0.105676541278\n",
        "% Physically Inactive -5.72680498078 5.61576687458 0.0762597405436 0.0803456007337\n",
        "% Limited Access to healthy foods -5.49245548542 6.56579510542 0.214646412436 0.225311508668\n",
        "med_income -4.25254816529 5.18241754866 0.00911157642033 0.00952208863977\n",
        "% No Social-Emotional Support -3.8583621189 5.36642644314 0.0661920354153 0.0684382464258\n",
        "% Obese -2.82269740343 11.7720554009 0.0615182155071 0.061953788484\n",
        "% Fast Foods -2.66912047125 12.7569150218 0.0435062579698 0.043343188228\n",
        "% HbA1c -1.96180647294 2.497292934 0.0140222322401 0.0142790158608\n",
        "% Smokers -1.41828714327 4.11848682561 0.088470914613 0.0896280042473\n",
        "% Mammography -1.20847252897 7.36614018025 0.030333243509 0.0306085195594\n",
        "% Uninsured -0.74959339814 13.1205614764 0.110324377552 0.109985789904\n",
        "Physically Unhealthy Days -0.0170061764374 6.81526467018 0.0596104137037 0.0593930391711\n",
        "Primary Care Phys 0.404796969399 5.45993603124 0.115055082879 0.114327698853\n",
        "Mentally Unhealthy Days 0.686503622032 9.09537426669 0.0580400336468 0.0570610324465\n",
        "% high school grad rate (AFGR) 2.10722474458 16.1274465344 0.0494309003943 0.0490345023675\n",
        "mean improvement="
       ]
      },
      {
       "output_type": "stream",
       "stream": "stdout",
       "text": [
        " -7.15689258338\n"
       ]
      },
      {
       "metadata": {},
       "output_type": "display_data",
       "png": "[encoded data removed]",
       "text": [
        "<matplotlib.figure.Figure at 0x11525af10>"
       ]
      }
     ],
     "prompt_number": 46
    },
    {
     "cell_type": "code",
     "collapsed": false,
     "input": [
      "%pylab inline --no-import-all\n",
      "\n",
      "import spatial\n",
      "# Plot discrepancy between estimated %female and census\n",
      "# Print gender by county.\n",
      "targets, target_alpha = expt.read_targets('/data/twcounty/targets.tsv', county2gender.keys())\n",
      "female_idx = target_alpha.index('Female')\n",
      "female_true = dict((fips, target[female_idx]) for fips, target in targets.iteritems())\n",
      "female_pred = dict((fips, 100. * v['f'] / (v['m'] + v['f'])) for fips, v in county2gender.iteritems())\n",
      "\n",
      "coords = expt.read_coords('/data/twcounty/stats2/counties/counties.top100.bounding.txt')\n",
      "\n",
      "truths = []\n",
      "errs = []\n",
      "preds = []\n",
      "coords_fips = []\n",
      "for fips, f_true in sorted(female_true.items(), key=lambda x: x[1]):\n",
      "    truths.append(f_true)\n",
      "    errs.append(female_pred[fips] - f_true)\n",
      "    preds.append(female_pred[fips])\n",
      "    coords_fips = coords[fips]\n",
      "\n",
      "# Plot truth vs error.\n",
      "scatter(truths, errs)\n",
      "axhline(y=0)\n",
      "xlabel(\"% Female (truth)\")\n",
      "ylabel(\"Error (Predicted - Truth)\")\n",
      "\n",
      "# Plot truth vs predicted.\n",
      "figure()\n",
      "scatter(truths,preds)\n",
      "ylabel(\"% Female (predicted)\")\n",
      "xlabel(\"% Female (truth)\")\n",
      "\n",
      "from scipy.stats import pearsonr\n",
      "print 'correlation is', pearsonr(truths, preds)\n"
     ],
     "language": "python",
     "metadata": {},
     "outputs": [
      {
       "output_type": "stream",
       "stream": "stdout",
       "text": [
        "Populating the interactive namespace from numpy and matplotlib\n",
        "correlation is"
       ]
      },
      {
       "output_type": "stream",
       "stream": "stdout",
       "text": [
        " (0.022023865153150676, 0.82782176638194449)\n"
       ]
      },
      {
       "metadata": {},
       "output_type": "display_data",
       "png": "[encoded data removed]",
       "text": [
        "<matplotlib.figure.Figure at 0x112635690>"
       ]
      },
      {
       "metadata": {},
       "output_type": "display_data",
       "png": "[encoded data removed]",
       "text": [
        "<matplotlib.figure.Figure at 0x10fec3090>"
       ]
      }
     ],
     "prompt_number": 48
    },
    {
     "cell_type": "code",
     "collapsed": false,
     "input": [
      "%pylab inline --no-import-all\n",
      "\n",
      "import spatial\n",
      "# Plot discrepancy between estimated race and census\n",
      "targets, target_alpha = expt.read_targets('/data/twcounty/targets.tsv', county2race.keys())\n",
      "race_idx = target_alpha.index('Afro-hispanic')\n",
      "race_true = dict((fips, target[race_idx]) for fips, target in targets.iteritems())\n",
      "race_pred = dict((fips, 100. * (v['black'] + v['latin']) / (v['black'] + v['latin'] + v['white'])) for fips, v in county2race.iteritems())\n",
      "\n",
      "coords = expt.read_coords('/data/twcounty/stats2/counties/counties.top100.bounding.txt')\n",
      "\n",
      "truths = []\n",
      "errs = []\n",
      "preds = []\n",
      "coords_fips = []\n",
      "for fips, f_true in sorted(race_true.items(), key=lambda x: x[1]):\n",
      "    if race_pred[fips] > 70:\n",
      "        print fips, f_true, race_pred[fips], county2race[fips]\n",
      "    truths.append(f_true)\n",
      "    errs.append(race_pred[fips] - f_true)\n",
      "    preds.append(race_pred[fips])\n",
      "    coords_fips = coords[fips]\n",
      "\n",
      "# Plot truth vs error.\n",
      "scatter(truths, errs)\n",
      "axhline(y=0)\n",
      "xlabel(\"% Afro-hispanic (truth)\")\n",
      "ylabel(\"Error (Predicted - Truth)\")\n",
      "\n",
      "# Plot truth vs predicted.\n",
      "figure()\n",
      "scatter(truths,preds)\n",
      "ylabel(\"% Afro-hispanic (predicted)\")\n",
      "xlabel(\"% Afro-hispanic(truth)\")\n",
      "\n",
      "from scipy.stats import pearsonr\n",
      "print 'correlation is', pearsonr(truths, preds)"
     ],
     "language": "python",
     "metadata": {},
     "outputs": [
      {
       "output_type": "stream",
       "stream": "stdout",
       "text": [
        "Populating the interactive namespace from numpy and matplotlib\n",
        "04019 38.3 78.7941787942 {'white': 612.0, 'latin': 2036.0, 'black': 238.0, 'n': 3386.0}\n",
        "correlation is"
       ]
      },
      {
       "output_type": "stream",
       "stream": "stdout",
       "text": [
        " (0.45357887191682816, 2.1452941652125027e-06)\n"
       ]
      },
      {
       "metadata": {},
       "output_type": "display_data",
       "png": "[encoded data removed]",
       "text": [
        "<matplotlib.figure.Figure at 0x10fe46610>"
       ]
      },
      {
       "metadata": {},
       "output_type": "display_data",
       "png": "[encoded data removed]",
       "text": [
        "<matplotlib.figure.Figure at 0x1151cd650>"
       ]
      }
     ],
     "prompt_number": 56
    }
   ],
   "metadata": {}
  }
 ]
}