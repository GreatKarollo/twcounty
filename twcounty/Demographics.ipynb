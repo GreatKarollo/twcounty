{
 "metadata": {
  "name": "",
  "signature": "sha256:819277316a7d049ece008e2e9d4c9b4c2025d3e00c83d602ad02ccc6e1c46788"
 },
 "nbformat": 3,
 "nbformat_minor": 0,
 "worksheets": [
  {
   "cells": [
    {
     "cell_type": "markdown",
     "metadata": {},
     "source": [
      "# Addressing selection bias in social media data for estimating county health statistics\n",
      "\n",
      "In [prior work](http://tapilab.github.io/public%20health/2014/04/26/twcounty/), we estimated many county health statistics from Twitter activity.\n",
      "\n",
      "In this work, we adjust for the sample bias of Twitter by stratifying data by gender and race. We show improvements in held-out prediction accuracy using this approach."
     ]
    },
    {
     "cell_type": "code",
     "collapsed": false,
     "input": [
      "# Classify users as male or female based on first names based on Census name frequency.\n",
      "from collections import defaultdict\n",
      "import re\n",
      "import requests\n",
      "\n",
      "def names2dict(url):\n",
      "    \"\"\" Fetch data from census and parse into dict mapping name to frequency. \"\"\"\n",
      "    names = defaultdict(lambda: 0)\n",
      "    for line in requests.get(url).text.split('\\n'):\n",
      "        parts = line.lower().split()\n",
      "        if len(parts) >= 2:\n",
      "            names[parts[0]] = float(parts[1])\n",
      "    return names\n",
      "\n",
      "def getCensusNames():\n",
      "    \"\"\" Fetch census name data and remove ambiguous names. \"\"\"\n",
      "    males = names2dict('http://www.census.gov/genealogy/www/data/1990surnames/dist.male.first')\n",
      "    females = names2dict('http://www.census.gov/genealogy/www/data/1990surnames/dist.female.first')\n",
      "    print len(set(males.keys() + females.keys())), 'total names'\n",
      "    eps = 10.  # keep names that are eps times more frequent in one gender than the other.\n",
      "    tokeep = []\n",
      "    for name in set(males.keys() + females.keys()):\n",
      "        mscore = males[name]\n",
      "        fscore = females[name]\n",
      "        if mscore == 0 or fscore == 0 or mscore / fscore > eps or fscore / mscore > eps:\n",
      "            tokeep.append(name)\n",
      "    print 'keeping', len(tokeep)\n",
      "    m = set([n for n in tokeep if males[n] > females[n]])\n",
      "    f = set([n for n in tokeep if females[n] > males[n]])\n",
      "    return m, f\n",
      "\n",
      "males, females = getCensusNames()\n",
      "print 'found', len(males), 'males and', len(females), 'females'\n",
      "\n",
      "def labelGender(tweet, males, females):\n",
      "    \"\"\" Classify a tweet as male (m) female (f) or neutral (n) based on first token in name field. \"\"\"\n",
      "    name = tweet['user']['name'].lower().split()\n",
      "    if len(name) == 0:\n",
      "        name = ['']\n",
      "    name = re.findall('\\w+', name[0])\n",
      "    if len(name) == 0:\n",
      "        name = ''\n",
      "    else:\n",
      "        name = name[0]\n",
      "    if name in males:\n",
      "        tweet['user']['gender'] = 'm'\n",
      "    elif name in females:\n",
      "        tweet['user']['gender'] = 'f'\n",
      "    else:\n",
      "        tweet['user']['gender'] = 'n'\n",
      "    return tweet\n",
      "\n",
      "print 'John is', labelGender({'user':{'name':'John smith'}}, males, females)['user']['gender']\n",
      "print 'Jane is', labelGender({'user':{'name':'jane doe'}}, males, females)['user']['gender']\n",
      "print 'kris is', labelGender({'user':{'name':'Kris doe'}}, males, females)['user']['gender']"
     ],
     "language": "python",
     "metadata": {},
     "outputs": [
      {
       "output_type": "stream",
       "stream": "stdout",
       "text": [
        "5163 total names\n",
        "keeping 5008\n",
        "found 1048 males and 3960 females\n",
        "John is m\n",
        "Jane is f\n",
        "kris is n\n"
       ]
      }
     ],
     "prompt_number": 34
    },
    {
     "cell_type": "code",
     "collapsed": false,
     "input": [
      "def labelRace(tweet):\n",
      "    \n",
      "    desc = tweet['user']['description']\n",
      "    if not desc:\n",
      "        desc = ''\n",
      "    toks = set(re.findall('\\w+', desc.lower()))\n",
      "    \n",
      "    if len(set(['african', 'black', 'aa', 'sbm', 'sbf']) & toks) > 0:\n",
      "        tweet['user']['race'] = 'b'\n",
      "        print 'black:', desc\n",
      "    elif len(set(['latin', 'latino', 'latina', 'hispanic']) & toks) > 0:\n",
      "        tweet['user']['race'] = 'l'\n",
      "        print 'latino:', desc\n",
      "    else:\n",
      "        tweet['user']['race'] = 'n'\n",
      "    return tweet\n",
      "\n",
      "print 'John is', labelRace({'user':{'description':'african-american'}})['user']['race']\n",
      "print 'Jane is', labelRace({'user':{'description':'black man'}})['user']['race']\n",
      "print 'kris is', labelRace({'user':{'description':'a latino'}})['user']['race']\n",
      "print 'foo is', labelRace({'user':{'description':'blah'}})['user']['race']"
     ],
     "language": "python",
     "metadata": {},
     "outputs": [
      {
       "output_type": "stream",
       "stream": "stdout",
       "text": [
        "John is black: african-american\n",
        "b\n",
        "Jane is black: black man\n",
        "b\n",
        "kris is latino: a latino\n",
        "l\n",
        "foo is n\n"
       ]
      }
     ],
     "prompt_number": 35
    },
    {
     "cell_type": "code",
     "collapsed": false,
     "input": [
      "%pylab inline\n",
      "# Train a race classifier based on description field.\n",
      "import glob\n",
      "import io\n",
      "import json\n",
      "import os\n",
      "import re\n",
      "\n",
      "import numpy as np\n",
      "\n",
      "from sklearn.cross_validation import KFold\n",
      "from sklearn.feature_extraction.text import CountVectorizer, TfidfVectorizer\n",
      "from sklearn.linear_model import LogisticRegression\n",
      "from sklearn.metrics import classification_report, precision_recall_curve\n",
      "from sklearn.preprocessing import label_binarize, scale\n",
      "\n",
      "from twutil import preprocess\n",
      "\n",
      "def print_top_feats_cl(m, feature_names, labels, n=10):\n",
      "    for i, coef in enumerate(m.coef_):\n",
      "        srted = np.argsort(coef)\n",
      "        topi = srted[::-1][:n]\n",
      "        boti = srted[:n]\n",
      "        print 'label=', labels[i]\n",
      "        print 'pos:' + ' '.join('%s (%.2g)' % (n, c) for n, c in zip(feature_names[topi], coef[topi]))\n",
      "        print 'neg:' + ' '.join('%s (%.2g)' % (n, c) for n, c in zip(feature_names[boti], coef[boti]))\n",
      "\n",
      "def prec_rec(truths_bin, probs, races):\n",
      "    truths_bin = np.array(truths_bin)\n",
      "    probs = np.array(probs)\n",
      "    precision = dict()\n",
      "    recall = dict()\n",
      "    for i in range(len(races)):\n",
      "        precision[i], recall[i], _ = precision_recall_curve(truths_bin[:, i],\n",
      "                                                            probs[:, i])\n",
      "        \n",
      "    # Plot Precision-Recall curve for each class\n",
      "    for i in range(len(races)):\n",
      "        plot(recall[i], precision[i], label=races[i])\n",
      "    xlabel('Recall')\n",
      "    ylabel('Precision')\n",
      "    legend(loc=\"lower right\")\n",
      "    \n",
      "def prec_rec_afro_hisp(truths_bin, probs, races):\n",
      "    truths_bin = np.array(truths_bin)\n",
      "    probs = np.array(probs)\n",
      "    truths_ah = np.array(truths_bin[:, 0] + truths_bin[:, 1])\n",
      "    probs_ah = np.array([max(i, j) for i, j in zip(probs[:, 0], probs[:, 1])])\n",
      "    precision, recall, _ = precision_recall_curve(truths_ah,  probs_ah)\n",
      "    plot(recall, precision)\n",
      "    xlabel('Recall')\n",
      "    ylabel('Precision')\n",
      "    legend(loc=\"lower right\")\n",
      "    plt.savefig('race.pdf', bbox_inches='tight')\n",
      "    \n",
      "def read_race_data(race_path, tzer, races):\n",
      "    tokens = []\n",
      "    labels = []\n",
      "    for fname in glob.glob(race_path + '/*.*'):\n",
      "        label = os.path.splitext(os.path.basename(fname))[0]\n",
      "        for line in io.open(fname, encoding='utf8'):\n",
      "            js = json.loads(line)\n",
      "            toks = tzer.do_tokenize(js['description'])\n",
      "            if len(toks) > 0:\n",
      "                labels.append(races.index(label))\n",
      "                tokens.append(' '.join(toks))\n",
      "    return tokens, labels\n",
      "\n",
      "races = ['black', 'latin', 'white']\n",
      "\n",
      "def train_race_clf():\n",
      "    print 'training race classifier'\n",
      "    tzer = preprocess.Tokenizer(fields='description', retain_punc_toks=False, collapse_digits=True)\n",
      "    tokens, labels = read_race_data('/data/twcounty/labeled_users/race', tzer, races)\n",
      "    vec = TfidfVectorizer(token_pattern='\\S+', min_df=2, binary=True)\n",
      "    X = vec.fit_transform(tokens)    \n",
      "    y = np.array(labels)\n",
      "    print 'vocab size=', len(vec.get_feature_names())\n",
      "\n",
      "    cv = KFold(len(y), 10, shuffle=True, random_state=123456)\n",
      "    m = LogisticRegression(class_weight='auto')\n",
      "    preds = []\n",
      "    truths = []\n",
      "    probs = [] \n",
      "    y_bin = label_binarize(y, classes=range(len(races)))\n",
      "    truths_bin = []\n",
      "    for train, test in cv:\n",
      "        m.fit(X[train], y[train])\n",
      "        preds.extend(m.predict(X[test]))\n",
      "        truths.extend(y[test])\n",
      "        probs.extend(m.predict_proba(X[test]))\n",
      "        truths_bin.extend(y_bin[test])\n",
      "        \n",
      "    print classification_report(truths, preds, target_names=races)\n",
      "    m.fit(X, y)\n",
      "    m.tzer = tzer\n",
      "    m.vec = vec\n",
      "    print_top_feats_cl(m, np.array(vec.get_feature_names()), races, 5)\n",
      "    # What is precision of classifications with probability > .5?\n",
      "    threshold = 0.5\n",
      "    y_filtered = [i for i, pred in enumerate(preds) if probs[i][pred] > threshold]\n",
      "    print len(y_filtered), 'retained of', len(preds), 'total using threshold', threshold\n",
      "    print classification_report(np.array(truths)[y_filtered], np.array(preds)[y_filtered], target_names=races)\n",
      "    prec_rec_afro_hisp(truths_bin, probs, races)\n",
      "    return m\n",
      "    \n",
      "    \n",
      "def label_race_clf(tweet, clf):\n",
      "    desc = tweet['user']['description']\n",
      "    if not desc:\n",
      "        desc = ''\n",
      "    preds = clf.predict_proba(clf.vec.transform([' '.join(clf.tzer.do_tokenize(desc))]))[0]\n",
      "    if max(preds) > 0.5:\n",
      "        # print 'predicting', races[np.argmax(preds)], 'for', tweet['user']['screen_name'], desc\n",
      "        tweet['user']['race'] = races[np.argmax(preds)]\n",
      "    else:\n",
      "        tweet['user']['race'] = 'n'\n",
      "    return tweet\n",
      "\n",
      "race_clf = train_race_clf()\n",
      "print 'John is', label_race_clf({'user':{'description':'r.i.p.', 'screen_name':'john'}}, race_clf)['user']['race']\n",
      "print 'Jane is', label_race_clf({'user':{'description':'que', 'screen_name':'jane'}}, race_clf)['user']['race']\n",
      "print 'Joe is', label_race_clf({'user':{'description':'like', 'screen_name':'joe'}}, race_clf)['user']['race']\n",
      "print 'Jesse is', label_race_clf({'user':{'description':'asdf', 'screen_name':'jesse'}}, race_clf)['user']['race']"
     ],
     "language": "python",
     "metadata": {},
     "outputs": [
      {
       "output_type": "stream",
       "stream": "stdout",
       "text": [
        "Populating the interactive namespace from numpy and matplotlib\n",
        "training race classifier\n",
        "vocab size="
       ]
      },
      {
       "output_type": "stream",
       "stream": "stdout",
       "text": [
        " 766\n",
        "             precision    recall  f1-score   support\n",
        "\n",
        "      black       0.53      0.47      0.50       263\n",
        "      latin       0.81      0.51      0.62       157\n",
        "      white       0.56      0.72      0.63       324\n",
        "\n",
        "avg / total       0.60      0.59      0.58       744\n",
        "\n",
        "label= black\n",
        "pos:for (1.5) r.i.p (1.3) money (1.2) live (1.2) team (1.1)\n",
        "neg:de (-1.4) y (-1.1) la (-0.89) like (-0.86) and (-0.81)\n",
        "label= latin\n",
        "pos:de (3.1) y (2.5) que (1.6) un (1.5) en (1.5)\n",
        "neg:for (-1.5) of (-1.3) the (-1.1) and (-1) you (-1)\n",
        "label= white\n",
        "pos:and (1.4) like (1.2) 9/9 (0.95) not (0.94) am (0.83)\n",
        "neg:de (-1.8) y (-1.3) live (-1) me (-1) instagram (-0.98)\n",
        "245 retained of 744 total using threshold 0.5\n",
        "             precision    recall  f1-score   support\n",
        "\n",
        "      black       0.52      0.48      0.50        71\n",
        "      latin       0.96      0.76      0.84        86\n",
        "      white       0.60      0.76      0.67        88\n",
        "\n",
        "avg / total       0.70      0.68      0.68       245\n"
       ]
      },
      {
       "output_type": "stream",
       "stream": "stdout",
       "text": [
        "\n",
        "John is"
       ]
      },
      {
       "output_type": "stream",
       "stream": "stdout",
       "text": [
        " black\n",
        "Jane is latin\n",
        "Joe is white\n",
        "Jesse is n\n"
       ]
      },
      {
       "metadata": {},
       "output_type": "display_data",
       "png": "[encoded data removed]",
       "text": [
        "<matplotlib.figure.Figure at 0x11510f3d0>"
       ]
      }
     ],
     "prompt_number": 173
    },
    {
     "cell_type": "code",
     "collapsed": false,
     "input": [
      "# Read in Twitter json files, classifying each by gender and/or race.\n",
      "from collections import Counter\n",
      "import io\n",
      "import glob\n",
      "import json\n",
      "import os\n",
      "import re\n",
      "import sys\n",
      "import tok.unicode_props\n",
      "\n",
      "import tweet\n",
      "import json2tsv\n",
      "\n",
      "JSON_D='/data/twcounty/json/'  # Directory containing one json file per county, named according to FIPS.\n",
      "    \n",
      "def iter_jsons(f):\n",
      "    \"\"\" Iterate tweet json objects from a file, appending county information from file name.\"\"\"\n",
      "    fp = io.open(f, mode='rt', encoding='utf8')\n",
      "    county = os.path.basename(f)\n",
      "    count = 0    \n",
      "    for line in fp:\n",
      "        try:\n",
      "            line = re.sub('\\t', '     ', line)\n",
      "            js = json.loads(line)\n",
      "            if json2tsv.valid_line(js):\n",
      "                js['county'] = county\n",
      "                yield js\n",
      "                count += 1\n",
      "                if count >= 10000:  # FIXME: limiting to first 1000 users per county for testing.\n",
      "                    return\n",
      "        except:\n",
      "            pass\n",
      "\n",
      "def iter_files(path):\n",
      "    \"\"\" Iterate tweets in directory of json files. \"\"\"\n",
      "    fcount = 1\n",
      "    for fname in glob.glob(path + '/*'):\n",
      "        print 'parsing', fname, '(#', fcount, ')'\n",
      "        fcount += 1\n",
      "        for js in iter_jsons(fname):\n",
      "            yield js\n",
      "\n",
      "def iter_gender(jss):\n",
      "    for js in jss:\n",
      "        labelGender(js, males, females)\n",
      "        yield js\n",
      "\n",
      "def iter_race(jss, race_clf):\n",
      "    for js in jss:\n",
      "        label_race_clf(js, race_clf)\n",
      "        yield js\n",
      "\n",
      "def iter_tokenize(jss):\n",
      "    all_users = set()\n",
      "    for js in jss:\n",
      "        if not js['user']['description']:\n",
      "            js['user']['description'] = ' '\n",
      "        tw = tweet.Tweet(js['county'], js['id'], js['user']['screen_name'],\n",
      "                            json2tsv.tokenize(js['text'], tokenizer),\n",
      "                            json2tsv.tokenize(js['user']['description'], tokenizer))\n",
      "        tw.gender = js['user']['gender']\n",
      "        tw.race = js['user']['race']\n",
      "        if tw.screen_name not in all_users:\n",
      "            county2gender[js['county']][tw.gender] += 1\n",
      "            county2race[js['county']][tw.race] += 1\n",
      "            all_users.add(tw.screen_name)\n",
      "        gender_counts.update([tw.gender])\n",
      "        race_counts.update([tw.race])\n",
      "        yield tw\n"
     ],
     "language": "python",
     "metadata": {},
     "outputs": [],
     "prompt_number": 37
    },
    {
     "cell_type": "code",
     "collapsed": false,
     "input": [
      "def do_featurize(feats, words, prefix, alpha, unigrams=True, liwc=False, perma=False):\n",
      "    lexi = tsv2feats.lexicons(words, liwc, perma)\n",
      "    if unigrams:\n",
      "        lexi.extend(words)\n",
      "    for t in lexi:\n",
      "        feats[alpha[prefix + t]] += 1\n",
      "    return feats\n",
      "\n",
      "\n",
      "# def featurize(tw, alpha, unigrams, liwc, perma):\n",
      "#     feats = defaultdict(lambda: 0)\n",
      "#    if tw.text:\n",
      "#        do_featurize(feats, tw.text.split(' '), '', alpha, unigrams, liwc, perma)\n",
      "#        if tw.gender != 'n':\n",
      "#            do_featurize(feats, tw.text.split(' '), tw.gender + \"_\", alpha, unigrams, liwc, perma)\n",
      "#    if tw.description:\n",
      "#        do_featurize(feats, tw.description.split(' '), 'd=', alpha, unigrams, liwc, perma)\n",
      "#        if tw.gender != 'n':\n",
      "#            do_featurize(feats, tw.description.split(' '), tw.gender + '_d=', alpha, unigrams, liwc, perma)\n",
      "#    return feats\n",
      "\n",
      "def featurize(tw, alpha, unigrams, liwc, perma):\n",
      "    \"\"\"\n",
      "    >>> alpha = defaultdict(lambda: len(alpha))\n",
      "    >>> feats = featurize(tweet.Tweet('cty1', '123', 'joe', 'i', 'abject'), alpha, True, True, True)\n",
      "    >>> all(feats[alpha[word]] == 1 for word in [u'd=P-', u'Pronoun', u'I', u'Self', 'i', 'd=abject'])\n",
      "    True\n",
      "    \"\"\"\n",
      "    feats = defaultdict(lambda: 0)\n",
      "    if tw.text:\n",
      "        toks = tw.text.split(' ')\n",
      "        do_featurize(feats, toks, '', alpha, unigrams, liwc, perma)\n",
      "        if tw.race != 'n':\n",
      "            do_featurize(feats, toks, 'race=' + tw.race + \"_\", alpha, unigrams, liwc, perma)\n",
      "        if tw.gender != 'n':\n",
      "            do_featurize(feats, toks, 'gender=' + tw.gender + \"_\", alpha, unigrams, liwc, perma)\n",
      "    if tw.description:\n",
      "        toks = tw.description.split(' ')\n",
      "        do_featurize(feats, toks, 'd=', alpha, unigrams, liwc, perma)\n",
      "        if tw.gender != 'n':\n",
      "            do_featurize(feats, toks, 'gender=' + tw.gender + '_d=', alpha, unigrams, liwc, perma)\n",
      "        if tw.race != 'n':\n",
      "            do_featurize(feats, toks, 'race=' + tw.race + '_d=', alpha, unigrams, liwc, perma)\n",
      "    return feats\n",
      "\n",
      "def read_tweets(tweets, user_norm=False, unigrams=True, liwc=False, perma=False):\n",
      "    alpha = defaultdict(lambda: len(alpha))\n",
      "    # county -> tweets\n",
      "    tweets_by_county = defaultdict(lambda: defaultdict(lambda: 0))\n",
      "    users_by_county = defaultdict(lambda: set())\n",
      "    tweets_by_user = defaultdict(lambda: defaultdict(lambda: set()))\n",
      "    i = 0\n",
      "    for tw in tweets:\n",
      "        users_by_county[tw.county].add(tw.screen_name)\n",
      "        feats = featurize(tw, alpha, unigrams, liwc, perma)\n",
      "        for k, v in feats.iteritems():\n",
      "            if user_norm:\n",
      "                if k not in tweets_by_user[tw.county][tw.screen_name]:\n",
      "                    tweets_by_county[tw.county][k] += 1\n",
      "                    tweets_by_user[tw.county][tw.screen_name].add(k)\n",
      "            else:\n",
      "                tweets_by_county[tw.county][k] += v\n",
      "        i += 1\n",
      "    return tsv2feats.default_dict_to_dict(tweets_by_county), users_by_county, alpha"
     ],
     "language": "python",
     "metadata": {},
     "outputs": [],
     "prompt_number": 38
    },
    {
     "cell_type": "code",
     "collapsed": false,
     "input": [
      "# READ DATA\n",
      "# Parse all json files. This takes a while.\n",
      "import data\n",
      "import expt\n",
      "import tsv2feats\n",
      "\n",
      "tokenizer = tok.unicode_props.UP_Tiny(1)\n",
      "\n",
      "gender_counts = Counter()\n",
      "race_counts = Counter()\n",
      "county2race = defaultdict(lambda: {'black': 0., 'latin': 0., 'white':0., 'n': 0.})\n",
      "county2gender = defaultdict(lambda: {'m': 0., 'f': 0., 'n':0.})\n",
      "race_clf = train_race_clf()\n",
      "\n",
      "features_og, users_by_county_og, alpha_og = tsv2feats.read_tweets(iter_tokenize(iter_race(iter_gender(iter_files(JSON_D)), race_clf)),\n",
      "                                                                               user_norm=True, unigrams=False, liwc=True, perma=True)\n",
      "features_og_gender, users_by_county_og_gender, alpha_og_gender = read_tweets(iter_tokenize(iter_race(iter_gender(iter_files(JSON_D)), race_clf)), user_norm=True, unigrams=False, liwc=True, perma=True)\n",
      "print 'genders:', gender_counts\n",
      "print 'races:', race_counts\n"
     ],
     "language": "python",
     "metadata": {},
     "outputs": [
      {
       "output_type": "stream",
       "stream": "stdout",
       "text": [
        "training race classifier\n",
        "             precision    recall  f1-score   support\n",
        "\n",
        "      black       0.53      0.47      0.50       263\n",
        "      latin       0.81      0.51      0.62       157\n",
        "      white       0.56      0.72      0.63       324\n",
        "\n",
        "avg / total       0.60      0.59      0.58       744\n"
       ]
      },
      {
       "output_type": "stream",
       "stream": "stdout",
       "text": [
        "\n",
        "label= black\n",
        "pos:for (1.5) r.i.p (1.3) money (1.2) live (1.2) team (1.1)\n",
        "neg:de (-1.4) y (-1.1) la (-0.89) like (-0.86) and (-0.81)\n",
        "label= latin\n",
        "pos:de (3.1) y (2.5) que (1.6) un (1.5) en (1.5)\n",
        "neg:for (-1.5) of (-1.3) the (-1.1) and (-1) you (-1)\n",
        "label= white\n",
        "pos:and (1.4) like (1.2) 9/9 (0.95) not (0.94) am (0.83)\n",
        "neg:de (-1.8) y (-1.3) live (-1) me (-1) instagram (-0.98)\n",
        "245 retained of 744 total using threshold 0.5\n",
        "             precision    recall  f1-score   support\n",
        "\n",
        "      black       0.52      0.48      0.50        71\n",
        "      latin       0.96      0.76      0.84        86\n",
        "      white       0.60      0.76      0.67        88\n",
        "\n",
        "avg / total       0.70      0.68      0.68       245\n",
        "\n",
        "parsing"
       ]
      },
      {
       "output_type": "stream",
       "stream": "stdout",
       "text": [
        " /data/twcounty/json/01073 (# 1 )\n",
        "parsing"
       ]
      },
      {
       "output_type": "stream",
       "stream": "stdout",
       "text": [
        " /data/twcounty/json/04013 (# 2 )\n",
        "parsing"
       ]
      },
      {
       "output_type": "stream",
       "stream": "stdout",
       "text": [
        " /data/twcounty/json/04019 (# 3 )\n",
        "parsing"
       ]
      },
      {
       "output_type": "stream",
       "stream": "stdout",
       "text": [
        " /data/twcounty/json/06001 (# 4 )\n",
        "parsing"
       ]
      },
      {
       "output_type": "stream",
       "stream": "stdout",
       "text": [
        " /data/twcounty/json/06013 (# 5 )\n",
        "parsing"
       ]
      },
      {
       "output_type": "stream",
       "stream": "stdout",
       "text": [
        " /data/twcounty/json/06019 (# 6 )\n",
        "parsing"
       ]
      },
      {
       "output_type": "stream",
       "stream": "stdout",
       "text": [
        " /data/twcounty/json/06029 (# 7 )\n",
        "parsing"
       ]
      },
      {
       "output_type": "stream",
       "stream": "stdout",
       "text": [
        " /data/twcounty/json/06037 (# 8 )\n",
        "parsing"
       ]
      },
      {
       "output_type": "stream",
       "stream": "stdout",
       "text": [
        " /data/twcounty/json/06059 (# 9 )\n",
        "parsing"
       ]
      },
      {
       "output_type": "stream",
       "stream": "stdout",
       "text": [
        " /data/twcounty/json/06065 (# 10 )\n",
        "parsing"
       ]
      },
      {
       "output_type": "stream",
       "stream": "stdout",
       "text": [
        " /data/twcounty/json/06067 (# 11 )\n",
        "parsing"
       ]
      },
      {
       "output_type": "stream",
       "stream": "stdout",
       "text": [
        " /data/twcounty/json/06071 (# 12 )\n",
        "parsing"
       ]
      },
      {
       "output_type": "stream",
       "stream": "stdout",
       "text": [
        " /data/twcounty/json/06073 (# 13 )\n",
        "parsing"
       ]
      },
      {
       "output_type": "stream",
       "stream": "stdout",
       "text": [
        " /data/twcounty/json/06075 (# 14 )\n",
        "parsing"
       ]
      },
      {
       "output_type": "stream",
       "stream": "stdout",
       "text": [
        " /data/twcounty/json/06077 (# 15 )\n",
        "parsing"
       ]
      },
      {
       "output_type": "stream",
       "stream": "stdout",
       "text": [
        " /data/twcounty/json/06081 (# 16 )\n",
        "parsing"
       ]
      },
      {
       "output_type": "stream",
       "stream": "stdout",
       "text": [
        " /data/twcounty/json/06085 (# 17 )\n",
        "parsing"
       ]
      },
      {
       "output_type": "stream",
       "stream": "stdout",
       "text": [
        " /data/twcounty/json/06111 (# 18 )\n",
        "parsing"
       ]
      },
      {
       "output_type": "stream",
       "stream": "stdout",
       "text": [
        " /data/twcounty/json/08041 (# 19 )\n",
        "parsing"
       ]
      },
      {
       "output_type": "stream",
       "stream": "stdout",
       "text": [
        " /data/twcounty/json/09001 (# 20 )\n",
        "parsing"
       ]
      },
      {
       "output_type": "stream",
       "stream": "stdout",
       "text": [
        " /data/twcounty/json/09003 (# 21 )\n",
        "parsing"
       ]
      },
      {
       "output_type": "stream",
       "stream": "stdout",
       "text": [
        " /data/twcounty/json/09009 (# 22 )\n",
        "parsing"
       ]
      },
      {
       "output_type": "stream",
       "stream": "stdout",
       "text": [
        " /data/twcounty/json/12011 (# 23 )\n",
        "parsing"
       ]
      },
      {
       "output_type": "stream",
       "stream": "stdout",
       "text": [
        " /data/twcounty/json/12031 (# 24 )\n",
        "parsing"
       ]
      },
      {
       "output_type": "stream",
       "stream": "stdout",
       "text": [
        " /data/twcounty/json/12057 (# 25 )\n",
        "parsing"
       ]
      },
      {
       "output_type": "stream",
       "stream": "stdout",
       "text": [
        " /data/twcounty/json/12086 (# 26 )\n",
        "parsing"
       ]
      },
      {
       "output_type": "stream",
       "stream": "stdout",
       "text": [
        " /data/twcounty/json/12095 (# 27 )\n",
        "parsing"
       ]
      },
      {
       "output_type": "stream",
       "stream": "stdout",
       "text": [
        " /data/twcounty/json/12099 (# 28 )\n",
        "parsing"
       ]
      },
      {
       "output_type": "stream",
       "stream": "stdout",
       "text": [
        " /data/twcounty/json/12103 (# 29 )\n",
        "parsing"
       ]
      },
      {
       "output_type": "stream",
       "stream": "stdout",
       "text": [
        " /data/twcounty/json/13067 (# 30 )\n",
        "parsing"
       ]
      },
      {
       "output_type": "stream",
       "stream": "stdout",
       "text": [
        " /data/twcounty/json/13089 (# 31 )\n",
        "parsing"
       ]
      },
      {
       "output_type": "stream",
       "stream": "stdout",
       "text": [
        " /data/twcounty/json/13121 (# 32 )\n",
        "parsing"
       ]
      },
      {
       "output_type": "stream",
       "stream": "stdout",
       "text": [
        " /data/twcounty/json/13135 (# 33 )\n",
        "parsing"
       ]
      },
      {
       "output_type": "stream",
       "stream": "stdout",
       "text": [
        " /data/twcounty/json/15003 (# 34 )\n",
        "parsing"
       ]
      },
      {
       "output_type": "stream",
       "stream": "stdout",
       "text": [
        " /data/twcounty/json/17031 (# 35 )\n",
        "parsing"
       ]
      },
      {
       "output_type": "stream",
       "stream": "stdout",
       "text": [
        " /data/twcounty/json/17043 (# 36 )\n",
        "parsing"
       ]
      },
      {
       "output_type": "stream",
       "stream": "stdout",
       "text": [
        " /data/twcounty/json/17097 (# 37 )\n",
        "parsing"
       ]
      },
      {
       "output_type": "stream",
       "stream": "stdout",
       "text": [
        " /data/twcounty/json/17197 (# 38 )\n",
        "parsing"
       ]
      },
      {
       "output_type": "stream",
       "stream": "stdout",
       "text": [
        " /data/twcounty/json/18097 (# 39 )\n",
        "parsing"
       ]
      },
      {
       "output_type": "stream",
       "stream": "stdout",
       "text": [
        " /data/twcounty/json/21111 (# 40 )\n",
        "parsing"
       ]
      },
      {
       "output_type": "stream",
       "stream": "stdout",
       "text": [
        " /data/twcounty/json/24005 (# 41 )\n",
        "parsing"
       ]
      },
      {
       "output_type": "stream",
       "stream": "stdout",
       "text": [
        " /data/twcounty/json/24031 (# 42 )\n",
        "parsing"
       ]
      },
      {
       "output_type": "stream",
       "stream": "stdout",
       "text": [
        " /data/twcounty/json/24033 (# 43 )\n",
        "parsing"
       ]
      },
      {
       "output_type": "stream",
       "stream": "stdout",
       "text": [
        " /data/twcounty/json/24510 (# 44 )\n",
        "parsing"
       ]
      },
      {
       "output_type": "stream",
       "stream": "stdout",
       "text": [
        " /data/twcounty/json/25009 (# 45 )\n",
        "parsing"
       ]
      },
      {
       "output_type": "stream",
       "stream": "stdout",
       "text": [
        " /data/twcounty/json/25017 (# 46 )\n",
        "parsing"
       ]
      },
      {
       "output_type": "stream",
       "stream": "stdout",
       "text": [
        " /data/twcounty/json/25021 (# 47 )\n",
        "parsing"
       ]
      },
      {
       "output_type": "stream",
       "stream": "stdout",
       "text": [
        " /data/twcounty/json/25025 (# 48 )\n",
        "parsing"
       ]
      },
      {
       "output_type": "stream",
       "stream": "stdout",
       "text": [
        " /data/twcounty/json/25027 (# 49 )\n",
        "parsing"
       ]
      },
      {
       "output_type": "stream",
       "stream": "stdout",
       "text": [
        " /data/twcounty/json/26099 (# 50 )\n",
        "parsing"
       ]
      },
      {
       "output_type": "stream",
       "stream": "stdout",
       "text": [
        " /data/twcounty/json/26125 (# 51 )\n",
        "parsing"
       ]
      },
      {
       "output_type": "stream",
       "stream": "stdout",
       "text": [
        " /data/twcounty/json/26163 (# 52 )\n",
        "parsing"
       ]
      },
      {
       "output_type": "stream",
       "stream": "stdout",
       "text": [
        " /data/twcounty/json/27053 (# 53 )\n",
        "parsing"
       ]
      },
      {
       "output_type": "stream",
       "stream": "stdout",
       "text": [
        " /data/twcounty/json/29095 (# 54 )\n",
        "parsing"
       ]
      },
      {
       "output_type": "stream",
       "stream": "stdout",
       "text": [
        " /data/twcounty/json/29189 (# 55 )\n",
        "parsing"
       ]
      },
      {
       "output_type": "stream",
       "stream": "stdout",
       "text": [
        " /data/twcounty/json/32003 (# 56 )\n",
        "parsing"
       ]
      },
      {
       "output_type": "stream",
       "stream": "stdout",
       "text": [
        " /data/twcounty/json/34003 (# 57 )\n",
        "parsing"
       ]
      },
      {
       "output_type": "stream",
       "stream": "stdout",
       "text": [
        " /data/twcounty/json/34013 (# 58 )\n",
        "parsing"
       ]
      },
      {
       "output_type": "stream",
       "stream": "stdout",
       "text": [
        " /data/twcounty/json/34017 (# 59 )\n",
        "parsing"
       ]
      },
      {
       "output_type": "stream",
       "stream": "stdout",
       "text": [
        " /data/twcounty/json/34023 (# 60 )\n",
        "parsing"
       ]
      },
      {
       "output_type": "stream",
       "stream": "stdout",
       "text": [
        " /data/twcounty/json/34025 (# 61 )\n",
        "parsing"
       ]
      },
      {
       "output_type": "stream",
       "stream": "stdout",
       "text": [
        " /data/twcounty/json/35001 (# 62 )\n",
        "parsing"
       ]
      },
      {
       "output_type": "stream",
       "stream": "stdout",
       "text": [
        " /data/twcounty/json/36005 (# 63 )\n",
        "parsing"
       ]
      },
      {
       "output_type": "stream",
       "stream": "stdout",
       "text": [
        " /data/twcounty/json/36029 (# 64 )\n",
        "parsing"
       ]
      },
      {
       "output_type": "stream",
       "stream": "stdout",
       "text": [
        " /data/twcounty/json/36047 (# 65 )\n",
        "parsing"
       ]
      },
      {
       "output_type": "stream",
       "stream": "stdout",
       "text": [
        " /data/twcounty/json/36055 (# 66 )\n",
        "parsing"
       ]
      },
      {
       "output_type": "stream",
       "stream": "stdout",
       "text": [
        " /data/twcounty/json/36059 (# 67 )\n",
        "parsing"
       ]
      },
      {
       "output_type": "stream",
       "stream": "stdout",
       "text": [
        " /data/twcounty/json/36061 (# 68 )\n",
        "parsing"
       ]
      },
      {
       "output_type": "stream",
       "stream": "stdout",
       "text": [
        " /data/twcounty/json/36081 (# 69 )\n",
        "parsing"
       ]
      },
      {
       "output_type": "stream",
       "stream": "stdout",
       "text": [
        " /data/twcounty/json/36103 (# 70 )\n",
        "parsing"
       ]
      },
      {
       "output_type": "stream",
       "stream": "stdout",
       "text": [
        " /data/twcounty/json/36119 (# 71 )\n",
        "parsing"
       ]
      },
      {
       "output_type": "stream",
       "stream": "stdout",
       "text": [
        " /data/twcounty/json/37119 (# 72 )\n",
        "parsing"
       ]
      },
      {
       "output_type": "stream",
       "stream": "stdout",
       "text": [
        " /data/twcounty/json/37183 (# 73 )\n",
        "parsing"
       ]
      },
      {
       "output_type": "stream",
       "stream": "stdout",
       "text": [
        " /data/twcounty/json/39035 (# 74 )\n",
        "parsing"
       ]
      },
      {
       "output_type": "stream",
       "stream": "stdout",
       "text": [
        " /data/twcounty/json/39049 (# 75 )\n",
        "parsing"
       ]
      },
      {
       "output_type": "stream",
       "stream": "stdout",
       "text": [
        " /data/twcounty/json/39061 (# 76 )\n",
        "parsing"
       ]
      },
      {
       "output_type": "stream",
       "stream": "stdout",
       "text": [
        " /data/twcounty/json/40109 (# 77 )\n",
        "parsing"
       ]
      },
      {
       "output_type": "stream",
       "stream": "stdout",
       "text": [
        " /data/twcounty/json/41051 (# 78 )\n",
        "parsing"
       ]
      },
      {
       "output_type": "stream",
       "stream": "stdout",
       "text": [
        " /data/twcounty/json/42003 (# 79 )\n",
        "parsing"
       ]
      },
      {
       "output_type": "stream",
       "stream": "stdout",
       "text": [
        " /data/twcounty/json/42017 (# 80 )\n",
        "parsing"
       ]
      },
      {
       "output_type": "stream",
       "stream": "stdout",
       "text": [
        " /data/twcounty/json/42091 (# 81 )\n",
        "parsing"
       ]
      },
      {
       "output_type": "stream",
       "stream": "stdout",
       "text": [
        " /data/twcounty/json/42101 (# 82 )\n",
        "parsing"
       ]
      },
      {
       "output_type": "stream",
       "stream": "stdout",
       "text": [
        " /data/twcounty/json/44007 (# 83 )\n",
        "parsing"
       ]
      },
      {
       "output_type": "stream",
       "stream": "stdout",
       "text": [
        " /data/twcounty/json/47037 (# 84 )\n",
        "parsing"
       ]
      },
      {
       "output_type": "stream",
       "stream": "stdout",
       "text": [
        " /data/twcounty/json/47157 (# 85 )\n",
        "parsing"
       ]
      },
      {
       "output_type": "stream",
       "stream": "stdout",
       "text": [
        " /data/twcounty/json/48029 (# 86 )\n",
        "parsing"
       ]
      },
      {
       "output_type": "stream",
       "stream": "stdout",
       "text": [
        " /data/twcounty/json/48085 (# 87 )\n",
        "parsing"
       ]
      },
      {
       "output_type": "stream",
       "stream": "stdout",
       "text": [
        " /data/twcounty/json/48113 (# 88 )\n",
        "parsing"
       ]
      },
      {
       "output_type": "stream",
       "stream": "stdout",
       "text": [
        " /data/twcounty/json/48121 (# 89 )\n",
        "parsing"
       ]
      },
      {
       "output_type": "stream",
       "stream": "stdout",
       "text": [
        " /data/twcounty/json/48141 (# 90 )\n",
        "parsing"
       ]
      },
      {
       "output_type": "stream",
       "stream": "stdout",
       "text": [
        " /data/twcounty/json/48201 (# 91 )\n",
        "parsing"
       ]
      },
      {
       "output_type": "stream",
       "stream": "stdout",
       "text": [
        " /data/twcounty/json/48215 (# 92 )\n",
        "parsing"
       ]
      },
      {
       "output_type": "stream",
       "stream": "stdout",
       "text": [
        " /data/twcounty/json/48439 (# 93 )\n",
        "parsing"
       ]
      },
      {
       "output_type": "stream",
       "stream": "stdout",
       "text": [
        " /data/twcounty/json/48453 (# 94 )\n",
        "parsing"
       ]
      },
      {
       "output_type": "stream",
       "stream": "stdout",
       "text": [
        " /data/twcounty/json/49035 (# 95 )\n",
        "parsing"
       ]
      },
      {
       "output_type": "stream",
       "stream": "stdout",
       "text": [
        " /data/twcounty/json/51059 (# 96 )\n",
        "parsing"
       ]
      },
      {
       "output_type": "stream",
       "stream": "stdout",
       "text": [
        " /data/twcounty/json/53033 (# 97 )\n",
        "parsing"
       ]
      },
      {
       "output_type": "stream",
       "stream": "stdout",
       "text": [
        " /data/twcounty/json/53053 (# 98 )\n",
        "parsing"
       ]
      },
      {
       "output_type": "stream",
       "stream": "stdout",
       "text": [
        " /data/twcounty/json/53061 (# 99 )\n",
        "parsing"
       ]
      },
      {
       "output_type": "stream",
       "stream": "stdout",
       "text": [
        " /data/twcounty/json/55079 (# 100 )\n",
        "parsing"
       ]
      },
      {
       "output_type": "stream",
       "stream": "stdout",
       "text": [
        " /data/twcounty/json/01073 (# 1 )\n",
        "parsing"
       ]
      },
      {
       "output_type": "stream",
       "stream": "stdout",
       "text": [
        " /data/twcounty/json/04013 (# 2 )\n",
        "parsing"
       ]
      },
      {
       "output_type": "stream",
       "stream": "stdout",
       "text": [
        " /data/twcounty/json/04019 (# 3 )\n",
        "parsing"
       ]
      },
      {
       "output_type": "stream",
       "stream": "stdout",
       "text": [
        " /data/twcounty/json/06001 (# 4 )\n",
        "parsing"
       ]
      },
      {
       "output_type": "stream",
       "stream": "stdout",
       "text": [
        " /data/twcounty/json/06013 (# 5 )\n",
        "parsing"
       ]
      },
      {
       "output_type": "stream",
       "stream": "stdout",
       "text": [
        " /data/twcounty/json/06019 (# 6 )\n",
        "parsing"
       ]
      },
      {
       "output_type": "stream",
       "stream": "stdout",
       "text": [
        " /data/twcounty/json/06029 (# 7 )\n",
        "parsing"
       ]
      },
      {
       "output_type": "stream",
       "stream": "stdout",
       "text": [
        " /data/twcounty/json/06037 (# 8 )\n",
        "parsing"
       ]
      },
      {
       "output_type": "stream",
       "stream": "stdout",
       "text": [
        " /data/twcounty/json/06059 (# 9 )\n",
        "parsing"
       ]
      },
      {
       "output_type": "stream",
       "stream": "stdout",
       "text": [
        " /data/twcounty/json/06065 (# 10 )\n",
        "parsing"
       ]
      },
      {
       "output_type": "stream",
       "stream": "stdout",
       "text": [
        " /data/twcounty/json/06067 (# 11 )\n",
        "parsing"
       ]
      },
      {
       "output_type": "stream",
       "stream": "stdout",
       "text": [
        " /data/twcounty/json/06071 (# 12 )\n",
        "parsing"
       ]
      },
      {
       "output_type": "stream",
       "stream": "stdout",
       "text": [
        " /data/twcounty/json/06073 (# 13 )\n",
        "parsing"
       ]
      },
      {
       "output_type": "stream",
       "stream": "stdout",
       "text": [
        " /data/twcounty/json/06075 (# 14 )\n",
        "parsing"
       ]
      },
      {
       "output_type": "stream",
       "stream": "stdout",
       "text": [
        " /data/twcounty/json/06077 (# 15 )\n",
        "parsing"
       ]
      },
      {
       "output_type": "stream",
       "stream": "stdout",
       "text": [
        " /data/twcounty/json/06081 (# 16 )\n",
        "parsing"
       ]
      },
      {
       "output_type": "stream",
       "stream": "stdout",
       "text": [
        " /data/twcounty/json/06085 (# 17 )\n",
        "parsing"
       ]
      },
      {
       "output_type": "stream",
       "stream": "stdout",
       "text": [
        " /data/twcounty/json/06111 (# 18 )\n",
        "parsing"
       ]
      },
      {
       "output_type": "stream",
       "stream": "stdout",
       "text": [
        " /data/twcounty/json/08041 (# 19 )\n",
        "parsing"
       ]
      },
      {
       "output_type": "stream",
       "stream": "stdout",
       "text": [
        " /data/twcounty/json/09001 (# 20 )\n",
        "parsing"
       ]
      },
      {
       "output_type": "stream",
       "stream": "stdout",
       "text": [
        " /data/twcounty/json/09003 (# 21 )\n",
        "parsing"
       ]
      },
      {
       "output_type": "stream",
       "stream": "stdout",
       "text": [
        " /data/twcounty/json/09009 (# 22 )\n",
        "parsing"
       ]
      },
      {
       "output_type": "stream",
       "stream": "stdout",
       "text": [
        " /data/twcounty/json/12011 (# 23 )\n",
        "parsing"
       ]
      },
      {
       "output_type": "stream",
       "stream": "stdout",
       "text": [
        " /data/twcounty/json/12031 (# 24 )\n",
        "parsing"
       ]
      },
      {
       "output_type": "stream",
       "stream": "stdout",
       "text": [
        " /data/twcounty/json/12057 (# 25 )\n",
        "parsing"
       ]
      },
      {
       "output_type": "stream",
       "stream": "stdout",
       "text": [
        " /data/twcounty/json/12086 (# 26 )\n",
        "parsing"
       ]
      },
      {
       "output_type": "stream",
       "stream": "stdout",
       "text": [
        " /data/twcounty/json/12095 (# 27 )\n",
        "parsing"
       ]
      },
      {
       "output_type": "stream",
       "stream": "stdout",
       "text": [
        " /data/twcounty/json/12099 (# 28 )\n",
        "parsing"
       ]
      },
      {
       "output_type": "stream",
       "stream": "stdout",
       "text": [
        " /data/twcounty/json/12103 (# 29 )\n",
        "parsing"
       ]
      },
      {
       "output_type": "stream",
       "stream": "stdout",
       "text": [
        " /data/twcounty/json/13067 (# 30 )\n",
        "parsing"
       ]
      },
      {
       "output_type": "stream",
       "stream": "stdout",
       "text": [
        " /data/twcounty/json/13089 (# 31 )\n",
        "parsing"
       ]
      },
      {
       "output_type": "stream",
       "stream": "stdout",
       "text": [
        " /data/twcounty/json/13121 (# 32 )\n",
        "parsing"
       ]
      },
      {
       "output_type": "stream",
       "stream": "stdout",
       "text": [
        " /data/twcounty/json/13135 (# 33 )\n",
        "parsing"
       ]
      },
      {
       "output_type": "stream",
       "stream": "stdout",
       "text": [
        " /data/twcounty/json/15003 (# 34 )\n",
        "parsing"
       ]
      },
      {
       "output_type": "stream",
       "stream": "stdout",
       "text": [
        " /data/twcounty/json/17031 (# 35 )\n",
        "parsing"
       ]
      },
      {
       "output_type": "stream",
       "stream": "stdout",
       "text": [
        " /data/twcounty/json/17043 (# 36 )\n",
        "parsing"
       ]
      },
      {
       "output_type": "stream",
       "stream": "stdout",
       "text": [
        " /data/twcounty/json/17097 (# 37 )\n",
        "parsing"
       ]
      },
      {
       "output_type": "stream",
       "stream": "stdout",
       "text": [
        " /data/twcounty/json/17197 (# 38 )\n",
        "parsing"
       ]
      },
      {
       "output_type": "stream",
       "stream": "stdout",
       "text": [
        " /data/twcounty/json/18097 (# 39 )\n",
        "parsing"
       ]
      },
      {
       "output_type": "stream",
       "stream": "stdout",
       "text": [
        " /data/twcounty/json/21111 (# 40 )\n",
        "parsing"
       ]
      },
      {
       "output_type": "stream",
       "stream": "stdout",
       "text": [
        " /data/twcounty/json/24005 (# 41 )\n",
        "parsing"
       ]
      },
      {
       "output_type": "stream",
       "stream": "stdout",
       "text": [
        " /data/twcounty/json/24031 (# 42 )\n",
        "parsing"
       ]
      },
      {
       "output_type": "stream",
       "stream": "stdout",
       "text": [
        " /data/twcounty/json/24033 (# 43 )\n",
        "parsing"
       ]
      },
      {
       "output_type": "stream",
       "stream": "stdout",
       "text": [
        " /data/twcounty/json/24510 (# 44 )\n",
        "parsing"
       ]
      },
      {
       "output_type": "stream",
       "stream": "stdout",
       "text": [
        " /data/twcounty/json/25009 (# 45 )\n",
        "parsing"
       ]
      },
      {
       "output_type": "stream",
       "stream": "stdout",
       "text": [
        " /data/twcounty/json/25017 (# 46 )\n",
        "parsing"
       ]
      },
      {
       "output_type": "stream",
       "stream": "stdout",
       "text": [
        " /data/twcounty/json/25021 (# 47 )\n",
        "parsing"
       ]
      },
      {
       "output_type": "stream",
       "stream": "stdout",
       "text": [
        " /data/twcounty/json/25025 (# 48 )\n",
        "parsing"
       ]
      },
      {
       "output_type": "stream",
       "stream": "stdout",
       "text": [
        " /data/twcounty/json/25027 (# 49 )\n",
        "parsing"
       ]
      },
      {
       "output_type": "stream",
       "stream": "stdout",
       "text": [
        " /data/twcounty/json/26099 (# 50 )\n",
        "parsing"
       ]
      },
      {
       "output_type": "stream",
       "stream": "stdout",
       "text": [
        " /data/twcounty/json/26125 (# 51 )\n",
        "parsing"
       ]
      },
      {
       "output_type": "stream",
       "stream": "stdout",
       "text": [
        " /data/twcounty/json/26163 (# 52 )\n",
        "parsing"
       ]
      },
      {
       "output_type": "stream",
       "stream": "stdout",
       "text": [
        " /data/twcounty/json/27053 (# 53 )\n",
        "parsing"
       ]
      },
      {
       "output_type": "stream",
       "stream": "stdout",
       "text": [
        " /data/twcounty/json/29095 (# 54 )\n",
        "parsing"
       ]
      },
      {
       "output_type": "stream",
       "stream": "stdout",
       "text": [
        " /data/twcounty/json/29189 (# 55 )\n",
        "parsing"
       ]
      },
      {
       "output_type": "stream",
       "stream": "stdout",
       "text": [
        " /data/twcounty/json/32003 (# 56 )\n",
        "parsing"
       ]
      },
      {
       "output_type": "stream",
       "stream": "stdout",
       "text": [
        " /data/twcounty/json/34003 (# 57 )\n",
        "parsing"
       ]
      },
      {
       "output_type": "stream",
       "stream": "stdout",
       "text": [
        " /data/twcounty/json/34013 (# 58 )\n",
        "parsing"
       ]
      },
      {
       "output_type": "stream",
       "stream": "stdout",
       "text": [
        " /data/twcounty/json/34017 (# 59 )\n",
        "parsing"
       ]
      },
      {
       "output_type": "stream",
       "stream": "stdout",
       "text": [
        " /data/twcounty/json/34023 (# 60 )\n",
        "parsing"
       ]
      },
      {
       "output_type": "stream",
       "stream": "stdout",
       "text": [
        " /data/twcounty/json/34025 (# 61 )\n",
        "parsing"
       ]
      },
      {
       "output_type": "stream",
       "stream": "stdout",
       "text": [
        " /data/twcounty/json/35001 (# 62 )\n",
        "parsing"
       ]
      },
      {
       "output_type": "stream",
       "stream": "stdout",
       "text": [
        " /data/twcounty/json/36005 (# 63 )\n",
        "parsing"
       ]
      },
      {
       "output_type": "stream",
       "stream": "stdout",
       "text": [
        " /data/twcounty/json/36029 (# 64 )\n",
        "parsing"
       ]
      },
      {
       "output_type": "stream",
       "stream": "stdout",
       "text": [
        " /data/twcounty/json/36047 (# 65 )\n",
        "parsing"
       ]
      },
      {
       "output_type": "stream",
       "stream": "stdout",
       "text": [
        " /data/twcounty/json/36055 (# 66 )\n",
        "parsing"
       ]
      },
      {
       "output_type": "stream",
       "stream": "stdout",
       "text": [
        " /data/twcounty/json/36059 (# 67 )\n",
        "parsing"
       ]
      },
      {
       "output_type": "stream",
       "stream": "stdout",
       "text": [
        " /data/twcounty/json/36061 (# 68 )\n",
        "parsing"
       ]
      },
      {
       "output_type": "stream",
       "stream": "stdout",
       "text": [
        " /data/twcounty/json/36081 (# 69 )\n",
        "parsing"
       ]
      },
      {
       "output_type": "stream",
       "stream": "stdout",
       "text": [
        " /data/twcounty/json/36103 (# 70 )\n",
        "parsing"
       ]
      },
      {
       "output_type": "stream",
       "stream": "stdout",
       "text": [
        " /data/twcounty/json/36119 (# 71 )\n",
        "parsing"
       ]
      },
      {
       "output_type": "stream",
       "stream": "stdout",
       "text": [
        " /data/twcounty/json/37119 (# 72 )\n",
        "parsing"
       ]
      },
      {
       "output_type": "stream",
       "stream": "stdout",
       "text": [
        " /data/twcounty/json/37183 (# 73 )\n",
        "parsing"
       ]
      },
      {
       "output_type": "stream",
       "stream": "stdout",
       "text": [
        " /data/twcounty/json/39035 (# 74 )\n",
        "parsing"
       ]
      },
      {
       "output_type": "stream",
       "stream": "stdout",
       "text": [
        " /data/twcounty/json/39049 (# 75 )\n",
        "parsing"
       ]
      },
      {
       "output_type": "stream",
       "stream": "stdout",
       "text": [
        " /data/twcounty/json/39061 (# 76 )\n",
        "parsing"
       ]
      },
      {
       "output_type": "stream",
       "stream": "stdout",
       "text": [
        " /data/twcounty/json/40109 (# 77 )\n",
        "parsing"
       ]
      },
      {
       "output_type": "stream",
       "stream": "stdout",
       "text": [
        " /data/twcounty/json/41051 (# 78 )\n",
        "parsing"
       ]
      },
      {
       "output_type": "stream",
       "stream": "stdout",
       "text": [
        " /data/twcounty/json/42003 (# 79 )\n",
        "parsing"
       ]
      },
      {
       "output_type": "stream",
       "stream": "stdout",
       "text": [
        " /data/twcounty/json/42017 (# 80 )\n",
        "parsing"
       ]
      },
      {
       "output_type": "stream",
       "stream": "stdout",
       "text": [
        " /data/twcounty/json/42091 (# 81 )\n",
        "parsing"
       ]
      },
      {
       "output_type": "stream",
       "stream": "stdout",
       "text": [
        " /data/twcounty/json/42101 (# 82 )\n",
        "parsing"
       ]
      },
      {
       "output_type": "stream",
       "stream": "stdout",
       "text": [
        " /data/twcounty/json/44007 (# 83 )\n",
        "parsing"
       ]
      },
      {
       "output_type": "stream",
       "stream": "stdout",
       "text": [
        " /data/twcounty/json/47037 (# 84 )\n",
        "parsing"
       ]
      },
      {
       "output_type": "stream",
       "stream": "stdout",
       "text": [
        " /data/twcounty/json/47157 (# 85 )\n",
        "parsing"
       ]
      },
      {
       "output_type": "stream",
       "stream": "stdout",
       "text": [
        " /data/twcounty/json/48029 (# 86 )\n",
        "parsing"
       ]
      },
      {
       "output_type": "stream",
       "stream": "stdout",
       "text": [
        " /data/twcounty/json/48085 (# 87 )\n",
        "parsing"
       ]
      },
      {
       "output_type": "stream",
       "stream": "stdout",
       "text": [
        " /data/twcounty/json/48113 (# 88 )\n",
        "parsing"
       ]
      },
      {
       "output_type": "stream",
       "stream": "stdout",
       "text": [
        " /data/twcounty/json/48121 (# 89 )\n",
        "parsing"
       ]
      },
      {
       "output_type": "stream",
       "stream": "stdout",
       "text": [
        " /data/twcounty/json/48141 (# 90 )\n",
        "parsing"
       ]
      },
      {
       "output_type": "stream",
       "stream": "stdout",
       "text": [
        " /data/twcounty/json/48201 (# 91 )\n",
        "parsing"
       ]
      },
      {
       "output_type": "stream",
       "stream": "stdout",
       "text": [
        " /data/twcounty/json/48215 (# 92 )\n",
        "parsing"
       ]
      },
      {
       "output_type": "stream",
       "stream": "stdout",
       "text": [
        " /data/twcounty/json/48439 (# 93 )\n",
        "parsing"
       ]
      },
      {
       "output_type": "stream",
       "stream": "stdout",
       "text": [
        " /data/twcounty/json/48453 (# 94 )\n",
        "parsing"
       ]
      },
      {
       "output_type": "stream",
       "stream": "stdout",
       "text": [
        " /data/twcounty/json/49035 (# 95 )\n",
        "parsing"
       ]
      },
      {
       "output_type": "stream",
       "stream": "stdout",
       "text": [
        " /data/twcounty/json/51059 (# 96 )\n",
        "parsing"
       ]
      },
      {
       "output_type": "stream",
       "stream": "stdout",
       "text": [
        " /data/twcounty/json/53033 (# 97 )\n",
        "parsing"
       ]
      },
      {
       "output_type": "stream",
       "stream": "stdout",
       "text": [
        " /data/twcounty/json/53053 (# 98 )\n",
        "parsing"
       ]
      },
      {
       "output_type": "stream",
       "stream": "stdout",
       "text": [
        " /data/twcounty/json/53061 (# 99 )\n",
        "parsing"
       ]
      },
      {
       "output_type": "stream",
       "stream": "stdout",
       "text": [
        " /data/twcounty/json/55079 (# 100 )\n",
        "genders:"
       ]
      },
      {
       "output_type": "stream",
       "stream": "stdout",
       "text": [
        " Counter({'n': 1031916, 'f': 540666, 'm': 422118})\n",
        "races: Counter({'n': 1358642, 'white': 385108, 'black': 200316, 'latin': 50634})\n"
       ]
      },
      {
       "metadata": {},
       "output_type": "display_data",
       "png": "[encoded data removed]",
       "text": [
        "<matplotlib.figure.Figure at 0x112635150>"
       ]
      }
     ],
     "prompt_number": 39
    },
    {
     "cell_type": "code",
     "collapsed": false,
     "input": [
      "def norm_by_demo(tweets_by_county, users_by_county, alpha, include_og_feature, include_race, include_gender):\n",
      "    \"\"\" Consider various normalization strategies using gender/race info.\"\"\"\n",
      "    alpha = defaultdict(lambda: len(alpha), alpha)\n",
      "    rev_alpha = tsv2feats.reverse_dict(alpha)\n",
      "    for cty_id in tweets_by_county:\n",
      "        nusers = len(users_by_county[cty_id])\n",
      "        features = tweets_by_county[cty_id]\n",
      "        for feature, value in features.items():\n",
      "            feat_name = rev_alpha[feature]\n",
      "            # Divide by the number of that race (m,f,n), which prefixes the feature\n",
      "            if feat_name[0:5] == 'race=':\n",
      "                if include_race:\n",
      "                    if county2race[cty_id][feat_name[5:10]] == 0:\n",
      "                        county2race[cty_id][feat_name[5:10]] = 1.\n",
      "                    features[feature] = 1. * value / county2race[cty_id][feat_name[5:10]]\n",
      "                else:\n",
      "                    features[feature] = 0.\n",
      "            elif feat_name[0:7] == 'gender=':\n",
      "                if include_gender:\n",
      "                    features[feature] = 1. * value / county2gender[cty_id][feat_name[7:8]]\n",
      "                else:\n",
      "                    features[feature] = 0.\n",
      "            else:\n",
      "                if include_og_feature:\n",
      "                    features[feature] = 1. * value / nusers            \n",
      "                else:\n",
      "                    features[feature] = 0.\n",
      "    # return alpha\n",
      "\n",
      "def compute_reweighting():\n",
      "    targets, target_alpha = expt.read_targets('/data/twcounty/targets.tsv', county2gender.keys())\n",
      "    female_idx = target_alpha.index('Female')\n",
      "    female_true = dict((fips, target[female_idx]) for fips, target in targets.iteritems())\n",
      "    female_pred = dict((fips, 100. * v['f'] / (v['m'] + v['f'])) for fips, v in county2gender.iteritems())\n",
      "    female_wt = dict((fips, female_true[fips] / female_pred[fips]) for fips in county2gender)\n",
      "\n",
      "    afro_idx = target_alpha.index('Afro-hispanic')\n",
      "    afro_true = dict((fips, target[afro_idx]) for fips, target in targets.iteritems())\n",
      "    afro_pred = dict((fips, 100. * (v['black'] + v['latin']) / (v['black'] + v['latin'] + v['white'])) for fips, v in county2race.iteritems())\n",
      "    afro_wt = dict((fips, afro_true[fips] / afro_pred[fips]) for fips in county2gender)\n",
      "    return female_wt, afro_wt\n",
      "\n",
      "def norm_by_demo_reweight(tweets_by_county, users_by_county, alpha, include_og_feature, include_race, include_gender):\n",
      "    \"\"\" Consider various reweighting strategies using gender/race info.\"\"\"\n",
      "    female_wt, afro_wt = compute_reweighting()\n",
      "\n",
      "    alpha = defaultdict(lambda: len(alpha), alpha)\n",
      "    rev_alpha = tsv2feats.reverse_dict(alpha)\n",
      "    for cty_id in tweets_by_county:\n",
      "        nusers = len(users_by_county[cty_id])\n",
      "        features = tweets_by_county[cty_id]\n",
      "        for feature, value in features.items():\n",
      "            feat_name = rev_alpha[feature]\n",
      "            # If race or gender is known, reweight\n",
      "            if feat_name[0:5] == 'race=':\n",
      "                if include_race:\n",
      "                    if county2race[cty_id][feat_name[5:10]] == 0:\n",
      "                        county2race[cty_id][feat_name[5:10]] = 1.\n",
      "                    if feat_name[5:10] == 'black' or feat_name[5:10] == 'latin':\n",
      "                        wt = afro_wt[cty_id]\n",
      "                    else:\n",
      "                        wt = 1.\n",
      "                        #wt = 1. / afro_wt[cty_id]\n",
      "                    features[alpha[feat_name[11:]]] += (wt * features[feature] - features[feature])\n",
      "                features[feature] = 0.\n",
      "            elif feat_name[0:7] == 'gender=':\n",
      "                if include_gender:\n",
      "                    if feat_name[7:8] == 'f':\n",
      "                        wt = female_wt[cty_id]\n",
      "                    else:\n",
      "                        wt = 1.\n",
      "                        #wt = 1. / female_wt[cty_id]\n",
      "                    features[alpha[feat_name[9:]]] += (wt * features[feature] - features[feature])\n",
      "                features[feature] = 0.\n",
      "    # Now that we've reweighted, normalize as usual.\n",
      "    tsv2feats.norm_by_user(tweets_by_county, users_by_county, alpha)\n"
     ],
     "language": "python",
     "metadata": {},
     "outputs": [],
     "prompt_number": 152
    },
    {
     "cell_type": "code",
     "collapsed": false,
     "input": [
      "def get_results(train_folds, test_folds, m, vocab, target_name, coords):\n",
      "    \"\"\" Write prediction results to disk. \"\"\"\n",
      "    target_name = expt.fmt_target(target_name)\n",
      "    train_results = expt.evaluate(train_folds, coords)\n",
      "    test_results = expt.evaluate(test_folds, coords)\n",
      "    # print('%20s:\\ttrain\\t%s' % (target_name[:20], expt.fmt_eval(train_results, ['smape_m', 'correl', 'correl_a'])))\n",
      "    # print('%20s:\\ttest\\t%s' % (target_name[:20], expt.fmt_eval(test_results, ['smape_m', 'correl', 'correl_a'])))\n",
      "    return test_results"
     ],
     "language": "python",
     "metadata": {},
     "outputs": [],
     "prompt_number": 41
    },
    {
     "cell_type": "code",
     "collapsed": false,
     "input": [
      "import copy\n",
      "import numpy as np\n",
      "\n",
      "from scipy.stats import pearsonr\n",
      "from sklearn import linear_model\n",
      "from sklearn.feature_selection import f_regression, SelectKBest\n",
      "\n",
      "def print_top_feats(m, feature_names, n=10):\n",
      "    srted = np.argsort(m.coef_)\n",
      "    topi = srted[::-1][:n]\n",
      "    boti = srted[:n]\n",
      "    print 'pos:' + ' '.join('%s (%.2g)' % (n, c) for n, c in zip(feature_names[topi], m.coef_[topi]))\n",
      "    print 'neg:' + ' '.join('%s (%.2g)' % (n, c) for n, c in zip(feature_names[boti], m.coef_[boti]))\n",
      "\n",
      "def avg_results(all_results):\n",
      "    \"\"\" Average all_results. \"\"\"\n",
      "    result = {}\n",
      "    for key in all_results[0].keys():\n",
      "        result[key] = np.mean([d[key] for d in all_results])\n",
      "    return result\n",
      "\n",
      "def myridge(x, y, train, test, alpha=1):\n",
      "    fsel = SelectKBest(f_regression, k=min(160, len(x[0])))\n",
      "    m = linear_model.Ridge(alpha)\n",
      "    xtrain = fsel.fit_transform(x[train], y[train])\n",
      "    xtest = fsel.transform(x[test])\n",
      "    m.fit(xtrain, y[train])\n",
      "    return (m, m.predict(xtrain), m.predict(xtest), fsel)\n",
      "    #m.fit(x[train], y[train])\n",
      "    #return (m, m.predict(x[train]), m.predict(x[test]))\n",
      "\n",
      "def run_expt(features_og, users_by_county_og, alpha_og, use_race, use_gender, use_og_feature, ridge_alpha):\n",
      "    features = copy.deepcopy(features_og)\n",
      "    users_by_county = copy.deepcopy(users_by_county_og)\n",
      "    alpha = copy.deepcopy(alpha_og)\n",
      "    features, alpha = tsv2feats.filter_by_count(features, alpha, min_df=20)\n",
      "    if use_gender or use_race:\n",
      "        norm_by_demo_reweight(features, users_by_county, alpha, include_og_feature=use_og_feature, include_race=use_race, include_gender=use_gender)\n",
      "    else:\n",
      "        tsv2feats.norm_by_user(features, users_by_county, alpha)\n",
      "    features = tsv2feats.densify(features, alpha)  # default_dict_to_dict(features)\n",
      "    # print('last 10 features from first county: %s' % features.values()[0][-10:])\n",
      "    # print('last 10 words from alpha: %s' % alpha.keys()[-10:])\n",
      "    county_data = data.Data(None, features, alpha)\n",
      "    coords = expt.read_coords('/data/twcounty/stats2/counties/counties.top100.bounding.txt')\n",
      "    counties = county_data.features\n",
      "    data_alpha = np.array(sorted(county_data.alpha.keys(), key=lambda k: county_data.alpha[k]))\n",
      "    targets, target_alpha = expt.read_targets('/data/twcounty/targets.tsv', counties.keys())\n",
      "    states = expt.read_states('/data/twcounty/states.tsv', counties.keys())\n",
      " \n",
      "    \n",
      "    cv = expt.make_state_cv(counties, states, 5)\n",
      "    X, Y = expt.to_matrices(counties, targets)\n",
      "    county_ids = np.array(sorted(counties))\n",
      "    all_results = []\n",
      "    all_smapes = []\n",
      "    for yi, ylabel in enumerate(target_alpha):\n",
      "        y = Y[:, yi]\n",
      "        # XX = fsel.fit_transform(X, y)\n",
      "        train_folds = []\n",
      "        test_folds = []\n",
      "        for train, test in cv:\n",
      "            m, train_pred, test_pred, fsel = myridge(X, y, train, test, alpha=ridge_alpha)\n",
      "            train_folds.append((y[train], train_pred, county_ids[train]))\n",
      "            test_folds.append((y[test], test_pred, county_ids[test]))\n",
      "        m, train_pred, test_pred, fsel = myridge(X, y, range(len(y)), range(len(y)), alpha=ridge_alpha)\n",
      "        #fvals, pvals = expt.feature_correls(X, y, [coords[cty] for cty in county_ids])\n",
      "        all_results.append(get_results(train_folds, test_folds, m, data_alpha, ylabel, coords))\n",
      "        smapes = [expt.smape(t[0], t[1]) for t in test_folds]\n",
      "        all_smapes.append(smapes)\n",
      "        # smapes = [pearsonr(t[0], t[1])[0] for t in test_folds]\n",
      "        # all_smapes.append(smapes)\n",
      "        if ylabel in ['% Obese', '% No Social-Emotional Support', 'Teen Birth Rate']:\n",
      "            print ylabel, 'features:'\n",
      "            print_top_feats(m, np.array(data_alpha[fsel.get_support(True)]))\n",
      "    summary = avg_results(all_results)\n",
      "    print(u'\\t'.join(str(k) for k in sorted(summary.keys())) + '\\n')\n",
      "    print(u'\\t'.join(str(summary[k]) for k in sorted(summary.keys())) + '\\n')\n",
      "    return target_alpha, np.array(all_smapes)"
     ],
     "language": "python",
     "metadata": {},
     "outputs": [],
     "prompt_number": 131
    },
    {
     "cell_type": "code",
     "collapsed": false,
     "input": [
      "targets, gender_results = run_expt(features_og_gender, users_by_county_og_gender, alpha_og_gender, use_gender=True, use_og_feature=True, use_race=True, ridge_alpha=.1)"
     ],
     "language": "python",
     "metadata": {},
     "outputs": [
      {
       "output_type": "stream",
       "stream": "stdout",
       "text": [
        "% Obese features:\n",
        "pos:Othref (7.5) Social (6.8) d=Posfeel (5.4) Negate (5.4) You (5.3) d=School (5) d=Social (4.4) Self (4.2) d=You (4.1) d=Posemo (4)\n",
        "neg:Preps (-7.5) d=Motion (-6.4) d=Job (-4.1) d=Incl (-4) d=Achieve (-3.9) P+ (-3.7) d=Preps (-3.5) Posemo (-3.3) d=Senses (-3.2) d=Up (-3)\n",
        "Teen Birth Rate"
       ]
      },
      {
       "output_type": "stream",
       "stream": "stdout",
       "text": [
        " features:\n",
        "pos:d=I (38) d=Relig (37) d=Self (36) d=Metaph (35) Negate (32) d=Home (29) d=Pronoun (24) d=Affect (22) d=Posemo (22) d=Present (22)\n",
        "neg:Preps (-21) d=Cogmech (-19) Cogmech (-18) Incl (-17) Occup (-15) Present (-15) d=Othref (-14) d=Cause (-14) d=Senses (-14) d=Social (-14)\n",
        "% No Social-Emotional Support"
       ]
      },
      {
       "output_type": "stream",
       "stream": "stdout",
       "text": [
        " features:\n",
        "pos:d=Preps (17) Article (9) d=Article (7.2) Preps (6.8) d=Time (6.7) Pronoun (6.7) Self (6.2) I (5.8) d=Up (5.6) d=Home (5.6)\n",
        "neg:d=Relig (-9.1) d=Metaph (-9) d=Sports (-9) d=School (-8.1) Excl (-8) Insight (-6) Achieve (-5.6) Motion (-5.6) Tentat (-5.2) You (-4.9)\n",
        "correl\tcorrel_a\tmse_m\tmse_std\tsmape_m\tsmape_std\n"
       ]
      },
      {
       "output_type": "stream",
       "stream": "stdout",
       "text": [
        "\n",
        "0.405863005572\t0.0551069655178\t3641.86245907\t1149.2435922\t0.0846598559351\t0.015804393834\n",
        "\n"
       ]
      }
     ],
     "prompt_number": 154
    },
    {
     "cell_type": "code",
     "collapsed": false,
     "input": [
      "targets, og_results = run_expt(features_og, users_by_county_og, alpha_og, use_race=False, use_gender=False, use_og_feature=True, ridge_alpha=.1)"
     ],
     "language": "python",
     "metadata": {},
     "outputs": [
      {
       "output_type": "stream",
       "stream": "stdout",
       "text": [
        "% Obese features:\n",
        "pos:Othref (7) d=School (6.8) Social (5.4) d=Posfeel (4.7) d=Social (4.7) Self (4.6) I (4.5) You (4.4) Negate (4.3) d=Relig (4.3)\n",
        "neg:Preps (-6.8) d=Motion (-6) P+ (-4.5) Article (-4) Posemo (-3.9) d=Incl (-3.7) d=Job (-3.4) d=Achieve (-3.4) d=Up (-3.4) Anger (-2.9)\n",
        "Teen Birth Rate"
       ]
      },
      {
       "output_type": "stream",
       "stream": "stdout",
       "text": [
        " features:\n",
        "pos:d=Relig (45) d=Metaph (42) d=I (33) d=Self (28) d=Posemo (19) d=Present (17) d=Home (17) d=Posfeel (17) Othref (17) d=Leisure (17)\n",
        "neg:Article (-32) d=Othref (-27) Occup (-23) d=Cogmech (-21) Preps (-19) Time (-19) Present (-19) Incl (-18) Achieve (-18) Physcal (-17)\n",
        "% No Social-Emotional Support"
       ]
      },
      {
       "output_type": "stream",
       "stream": "stdout",
       "text": [
        " features:\n",
        "pos:d=Preps (10) d=Occup (5.3) Other (4.9) Preps (4.7) d=Time (4.4) d=Leisure (4.1) d=Up (3.7) d=Music (3.4) d=Job (3.2) d=Space (3.1)\n",
        "neg:Article (-8.5) Negate (-8.3) You (-8) Present (-5.7) Achieve (-5.7) Time (-5.3) Occup (-5.2) d=You (-5.2) d=Metaph (-5.1) d=Relig (-5)\n",
        "correl\tcorrel_a\tmse_m\tmse_std\tsmape_m\tsmape_std\n"
       ]
      },
      {
       "output_type": "stream",
       "stream": "stdout",
       "text": [
        "\n",
        "0.282496541688\t0.127283925635\t4482.95334488\t1758.82312904\t0.0901934834871\t0.0165386842068\n",
        "\n"
       ]
      }
     ],
     "prompt_number": 133
    },
    {
     "cell_type": "code",
     "collapsed": false,
     "input": [
      "# Search for best alpha\n",
      "def avg_results_alpha(my_results):\n",
      "    return np.mean([np.mean(r) for r in my_results])\n",
      "\n",
      "def best_alpha(features_og_gender, users_by_county_og_gender, alpha_og_gender,\n",
      "               use_gender, use_race, use_og_feature):\n",
      "    \"\"\" Hill climb to find best alpha. \"\"\"\n",
      "    values = [.1 * (i+1) for i in range(25)]\n",
      "    i = len(values) / 2\n",
      "    print 'ALPHA=', values[i], 'i=', i\n",
      "    direction = -1\n",
      "    _, my_results = run_expt(features_og_gender, users_by_county_og_gender, alpha_og_gender, use_gender=use_gender, use_race=use_race, use_og_feature=use_og_feature, ridge_alpha=values[i])\n",
      "    while True:\n",
      "        newi = i + direction\n",
      "        if newi >= 0 and newi < len(values):\n",
      "            print 'ALPHA=', values[newi], 'i=', newi\n",
      "            t, new_results = run_expt(features_og_gender, users_by_county_og_gender, alpha_og_gender, use_gender=use_gender, use_race=use_race, use_og_feature=use_og_feature, ridge_alpha=values[newi])\n",
      "            if avg_results_alpha(new_results) < avg_results_alpha(my_results):\n",
      "                i = newi\n",
      "                print 'accepting new alpha'\n",
      "                my_results = new_results\n",
      "                continue\n",
      "            else:\n",
      "                direction *= -1\n",
      "                newi = i + direction\n",
      "                print 'ALPHA=', values[newi], 'i=', newi\n",
      "                t, new_results = run_expt(features_og_gender, users_by_county_og_gender, alpha_og_gender, use_gender=use_gender, use_race=use_race, use_og_feature=use_og_feature, ridge_alpha=values[newi])\n",
      "                if avg_results_alpha(new_results) < avg_results_alpha(my_results):\n",
      "                    i = newi\n",
      "                    print 'accepting new alpha'\n",
      "                    my_results = new_results\n",
      "                    continue\n",
      "        # No better direction. Stop.\n",
      "        print 'stopping.'\n",
      "        return values[i], avg_results_alpha(my_results)\n",
      "\n",
      "print best_alpha(features_og_gender, users_by_county_og_gender, alpha_og_gender, use_gender=True, use_race=True, use_og_feature=True)"
     ],
     "language": "python",
     "metadata": {},
     "outputs": [
      {
       "output_type": "stream",
       "stream": "stdout",
       "text": [
        "ALPHA= 1.3 i= 12\n",
        "% Obese"
       ]
      },
      {
       "output_type": "stream",
       "stream": "stdout",
       "text": [
        " features:\n",
        "pos:Othref (2) Social (2) I (1.9) Self (1.8) d=School (1.8) Pronoun (1.8) d=Social (1.6) d=I (1.6) Present (1.5) You (1.5)\n",
        "neg:d=Job (-0.75) d=Incl (-0.59) d=Preps (-0.48) d=Achieve (-0.37) d=TV (-0.33) Preps (-0.32) d=Music (-0.3) d=E+ (-0.27) d=Senses (-0.27) d=Time (-0.26)\n",
        "Teen Birth Rate"
       ]
      },
      {
       "output_type": "stream",
       "stream": "stdout",
       "text": [
        " features:\n",
        "pos:d=I (17) d=Self (17) d=Pronoun (13) d=Present (11) d=Relig (9.3) d=Metaph (9.1) d=Motion (9.1) d=Preps (6.8) d=Affect (6.8) d=Posemo (6.5)\n",
        "neg:Occup (-3) Incl (-2.7) Achieve (-2.2) Time (-1.7) Preps (-1.6) Job (-1.5) Inhib (-1.4) d=Cause (-1.3) Physcal (-1.3) d=Othref (-1.2)\n",
        "% No Social-Emotional Support"
       ]
      },
      {
       "output_type": "stream",
       "stream": "stdout",
       "text": [
        " features:\n",
        "pos:d=Preps (5) d=Article (2.5) d=Pronoun (2.4) d=Self (2.3) d=Incl (2.2) Preps (2) d=I (1.9) d=Cogmech (1.7) d=Affect (1.7) d=Present (1.6)\n",
        "neg:d=Sports (-1.6) You (-1.5) Excl (-1.5) Discrep (-1.5) d=School (-1.4) Tentat (-1.4) Motion (-1.3) Insight (-1.3) Past (-1.2) Future (-1.1)\n",
        "correl\tcorrel_a\tmse_m\tmse_std\tsmape_m\tsmape_std\n"
       ]
      },
      {
       "output_type": "stream",
       "stream": "stdout",
       "text": [
        "\n",
        "0.300960944365\t0.103153274186\t3650.15387542\t1289.67887266\t0.0894398710209\t0.0171663775915\n",
        "\n",
        "ALPHA= 1.2 i= 11\n",
        "% Obese"
       ]
      },
      {
       "output_type": "stream",
       "stream": "stdout",
       "text": [
        " features:\n",
        "pos:Othref (2.1) Social (2) I (2) Self (1.9) d=School (1.9) Pronoun (1.8) d=Social (1.7) d=I (1.7) You (1.6) Present (1.5)\n",
        "neg:d=Job (-0.8) d=Incl (-0.66) d=Preps (-0.57) Preps (-0.41) d=Achieve (-0.41) d=TV (-0.35) d=Music (-0.32) d=Senses (-0.3) d=Time (-0.29) d=E+ (-0.29)\n",
        "Teen Birth Rate"
       ]
      },
      {
       "output_type": "stream",
       "stream": "stdout",
       "text": [
        " features:\n",
        "pos:d=I (18) d=Self (17) d=Pronoun (14) d=Present (11) d=Relig (9.8) d=Metaph (9.6) d=Motion (9.4) d=Affect (7) d=Preps (6.9) d=Posemo (6.7)\n",
        "neg:Occup (-3.2) Incl (-3) Achieve (-2.4) Preps (-1.9) Time (-1.9) Job (-1.6) Inhib (-1.5) d=Cause (-1.5) Physcal (-1.4) d=Othref (-1.4)\n",
        "% No Social-Emotional Support"
       ]
      },
      {
       "output_type": "stream",
       "stream": "stdout",
       "text": [
        " features:\n",
        "pos:d=Preps (5.3) d=Article (2.7) d=Pronoun (2.5) d=Self (2.4) d=Incl (2.3) Preps (2.1) d=I (1.9) d=Cogmech (1.8) d=Affect (1.7) d=Time (1.7)\n",
        "neg:d=Sports (-1.8) Excl (-1.6) You (-1.6) Discrep (-1.6) d=School (-1.5) Tentat (-1.4) Motion (-1.4) Insight (-1.4) Past (-1.2) Future (-1.2)\n",
        "correl\tcorrel_a\tmse_m\tmse_std\tsmape_m\tsmape_std\n"
       ]
      },
      {
       "output_type": "stream",
       "stream": "stdout",
       "text": [
        "\n",
        "0.305281676627\t0.0993053470661\t3639.56337604\t1282.57070421\t0.0892133894468\t0.0171560906803\n",
        "\n",
        "accepting new alpha\n",
        "ALPHA= 1.1 i= 10\n",
        "% Obese"
       ]
      },
      {
       "output_type": "stream",
       "stream": "stdout",
       "text": [
        " features:\n",
        "pos:Othref (2.2) Social (2.1) I (2) Self (2) d=School (1.9) Pronoun (1.8) d=Social (1.7) d=I (1.7) You (1.6) Present (1.6)\n",
        "neg:d=Job (-0.86) d=Incl (-0.74) d=Preps (-0.66) Preps (-0.53) d=Achieve (-0.45) d=TV (-0.38) d=Music (-0.35) d=Senses (-0.33) d=Time (-0.32) d=Up (-0.32)\n",
        "Teen Birth Rate"
       ]
      },
      {
       "output_type": "stream",
       "stream": "stdout",
       "text": [
        " features:\n",
        "pos:d=I (19) d=Self (18) d=Pronoun (14) d=Present (12) d=Relig (10) d=Metaph (10) d=Motion (9.8) d=Affect (7.3) d=Posemo (7) d=Preps (7)\n",
        "neg:Occup (-3.5) Incl (-3.4) Achieve (-2.6) Preps (-2.4) Time (-2.2) Job (-1.7) Physcal (-1.6) d=Cause (-1.6) Inhib (-1.6) d=Othref (-1.6)\n",
        "% No Social-Emotional Support"
       ]
      },
      {
       "output_type": "stream",
       "stream": "stdout",
       "text": [
        " features:\n",
        "pos:d=Preps (5.6) d=Article (2.8) d=Pronoun (2.6) d=Self (2.4) d=Incl (2.4) Preps (2.2) d=I (2) d=Cogmech (1.9) d=Affect (1.8) d=Time (1.8)\n",
        "neg:d=Sports (-1.9) Excl (-1.8) You (-1.7) Discrep (-1.7) d=School (-1.6) Tentat (-1.5) Motion (-1.5) Insight (-1.5) Past (-1.3) Future (-1.3)\n",
        "correl\tcorrel_a\tmse_m\tmse_std\tsmape_m\tsmape_std\n"
       ]
      },
      {
       "output_type": "stream",
       "stream": "stdout",
       "text": [
        "\n",
        "0.309851061798\t0.0956972765867\t3629.30460562\t1275.08881906\t0.0889800093106\t0.017147438922\n",
        "\n",
        "accepting new alpha\n",
        "ALPHA= 1.0 i= 9\n",
        "% Obese"
       ]
      },
      {
       "output_type": "stream",
       "stream": "stdout",
       "text": [
        " features:\n",
        "pos:Othref (2.3) Social (2.2) I (2.1) d=School (2) Self (2) Pronoun (1.9) d=Social (1.8) d=I (1.7) You (1.7) Present (1.6)\n",
        "neg:d=Job (-0.94) d=Incl (-0.83) d=Preps (-0.78) Preps (-0.66) d=Achieve (-0.51) d=TV (-0.41) d=Senses (-0.38) d=Music (-0.37) d=Time (-0.36) d=Up (-0.36)\n",
        "Teen Birth Rate"
       ]
      },
      {
       "output_type": "stream",
       "stream": "stdout",
       "text": [
        " features:\n",
        "pos:d=I (20) d=Self (19) d=Pronoun (15) d=Present (12) d=Relig (11) d=Metaph (11) d=Motion (10) d=Affect (7.6) d=Posemo (7.4) d=Preps (7)\n",
        "neg:Incl (-3.8) Occup (-3.8) Preps (-2.9) Achieve (-2.8) Time (-2.4) Physcal (-1.8) d=Othref (-1.8) Job (-1.8) d=Cause (-1.8) Inhib (-1.7)\n",
        "% No Social-Emotional Support"
       ]
      },
      {
       "output_type": "stream",
       "stream": "stdout",
       "text": [
        " features:\n",
        "pos:d=Preps (5.9) d=Article (3) d=Pronoun (2.7) d=Incl (2.6) d=Self (2.6) Preps (2.4) d=I (2) d=Cogmech (2) d=Time (1.9) d=Affect (1.9)\n",
        "neg:d=Sports (-2.1) Excl (-1.9) You (-1.9) Discrep (-1.8) d=School (-1.8) Tentat (-1.6) Motion (-1.6) Insight (-1.6) Past (-1.4) Future (-1.4)\n",
        "correl\tcorrel_a\tmse_m\tmse_std\tsmape_m\tsmape_std\n"
       ]
      },
      {
       "output_type": "stream",
       "stream": "stdout",
       "text": [
        "\n",
        "0.314717619281\t0.0923836455669\t3619.49019503\t1267.1769492\t0.0887306931273\t0.0171332586801\n",
        "\n",
        "accepting new alpha\n",
        "ALPHA= 0.9 i= 8\n",
        "% Obese"
       ]
      },
      {
       "output_type": "stream",
       "stream": "stdout",
       "text": [
        " features:\n",
        "pos:Othref (2.4) Social (2.3) I (2.2) d=School (2.1) Self (2.1) Pronoun (1.9) d=Social (1.8) You (1.8) d=I (1.8) d=Sports (1.6)\n",
        "neg:d=Job (-1) d=Incl (-0.94) d=Preps (-0.91) Preps (-0.82) d=Achieve (-0.57) d=TV (-0.44) d=Senses (-0.43) d=Up (-0.42) d=Time (-0.41) d=Music (-0.4)\n",
        "Teen Birth Rate"
       ]
      },
      {
       "output_type": "stream",
       "stream": "stdout",
       "text": [
        " features:\n",
        "pos:d=I (21) d=Self (20) d=Pronoun (15) d=Present (13) d=Relig (12) d=Metaph (12) d=Motion (11) d=Affect (8) d=Posemo (7.8) d=R+ (7.1)\n",
        "neg:Incl (-4.2) Occup (-4.1) Preps (-3.5) Achieve (-3) Time (-2.8) d=Othref (-2.1) Physcal (-2.1) d=Cause (-2) Job (-1.9) Inhib (-1.8)\n",
        "% No Social-Emotional Support"
       ]
      },
      {
       "output_type": "stream",
       "stream": "stdout",
       "text": [
        " features:\n",
        "pos:d=Preps (6.3) d=Article (3.2) d=Pronoun (2.8) d=Incl (2.7) d=Self (2.7) Preps (2.6) d=I (2.1) d=Cogmech (2.1) d=Time (2.1) d=Affect (2)\n",
        "neg:d=Sports (-2.3) Excl (-2) You (-2) d=School (-2) Discrep (-1.9) Tentat (-1.8) Motion (-1.7) Insight (-1.7) Past (-1.6) d=Relig (-1.5)\n",
        "correl\tcorrel_a\tmse_m\tmse_std\tsmape_m\tsmape_std\n"
       ]
      },
      {
       "output_type": "stream",
       "stream": "stdout",
       "text": [
        "\n",
        "0.319945488704\t0.0894377413522\t3610.26766628\t1258.76300637\t0.0884664963472\t0.0171154151644\n",
        "\n",
        "accepting new alpha\n",
        "ALPHA= 0.8 i= 7\n",
        "% Obese"
       ]
      },
      {
       "output_type": "stream",
       "stream": "stdout",
       "text": [
        " features:\n",
        "pos:Othref (2.6) Social (2.4) I (2.2) d=School (2.2) Self (2.2) Pronoun (2) You (2) d=Social (1.9) d=I (1.9) d=Sports (1.7)\n",
        "neg:d=Job (-1.1) d=Preps (-1.1) d=Incl (-1.1) Preps (-1) d=Achieve (-0.65) d=Senses (-0.49) d=Up (-0.48) d=TV (-0.48) d=Time (-0.47) P+ (-0.44)\n",
        "Teen Birth Rate"
       ]
      },
      {
       "output_type": "stream",
       "stream": "stdout",
       "text": [
        " features:\n",
        "pos:d=I (22) d=Self (21) d=Pronoun (16) d=Present (13) d=Relig (13) d=Metaph (12) d=Motion (11) d=Affect (8.4) d=Posemo (8.2) d=R+ (7.6)\n",
        "neg:Incl (-4.8) Occup (-4.5) Preps (-4.3) Achieve (-3.3) Time (-3.1) d=Othref (-2.5) Physcal (-2.4) d=Cause (-2.3) Job (-2.1) Present (-2.1)\n",
        "% No Social-Emotional Support"
       ]
      },
      {
       "output_type": "stream",
       "stream": "stdout",
       "text": [
        " features:\n",
        "pos:d=Preps (6.8) d=Article (3.4) d=Pronoun (3) d=Incl (2.9) d=Self (2.8) Preps (2.8) d=Time (2.3) d=Cogmech (2.2) d=I (2.2) Article (2.2)\n",
        "neg:d=Sports (-2.5) Excl (-2.2) d=School (-2.2) You (-2.1) Discrep (-2.1) Tentat (-1.9) Motion (-1.9) Insight (-1.9) Past (-1.7) d=Relig (-1.7)\n",
        "correl\tcorrel_a\tmse_m\tmse_std\tsmape_m\tsmape_std\n"
       ]
      },
      {
       "output_type": "stream",
       "stream": "stdout",
       "text": [
        "\n",
        "0.325621750952\t0.0869604500546\t3601.83576381\t1249.75233025\t0.0881856864126\t0.017087287212\n",
        "\n",
        "accepting new alpha\n",
        "ALPHA= 0.7 i= 6\n",
        "% Obese"
       ]
      },
      {
       "output_type": "stream",
       "stream": "stdout",
       "text": [
        " features:\n",
        "pos:Othref (2.8) Social (2.6) I (2.3) d=School (2.3) Self (2.3) You (2.1) Pronoun (2) d=Social (2) d=I (2) d=Sports (1.8)\n",
        "neg:Preps (-1.3) d=Preps (-1.3) d=Job (-1.2) d=Incl (-1.2) d=Achieve (-0.75) d=Senses (-0.58) d=Up (-0.57) d=Time (-0.53) d=TV (-0.53) P+ (-0.52)\n",
        "Teen Birth Rate"
       ]
      },
      {
       "output_type": "stream",
       "stream": "stdout",
       "text": [
        " features:\n",
        "pos:d=I (23) d=Self (22) d=Pronoun (17) d=Relig (14) d=Present (14) d=Metaph (13) d=Motion (12) d=Affect (8.9) d=Posemo (8.8) d=R+ (8)\n",
        "neg:Incl (-5.4) Preps (-5.2) Occup (-4.9) Achieve (-3.7) Time (-3.6) d=Othref (-2.9) Physcal (-2.8) Present (-2.7) d=Cause (-2.6) Job (-2.3)\n",
        "% No Social-Emotional Support"
       ]
      },
      {
       "output_type": "stream",
       "stream": "stdout",
       "text": [
        " features:\n",
        "pos:d=Preps (7.4) d=Article (3.7) d=Pronoun (3.2) d=Incl (3) Preps (3) d=Self (2.9) d=Time (2.5) Article (2.4) d=Cogmech (2.4) d=Affect (2.3)\n",
        "neg:d=Sports (-2.8) d=School (-2.5) Excl (-2.5) You (-2.3) Discrep (-2.2) Tentat (-2.1) Insight (-2.1) Motion (-2.1) d=Relig (-1.9) d=Metaph (-1.9)\n",
        "correl\tcorrel_a\tmse_m\tmse_std\tsmape_m\tsmape_std\n"
       ]
      },
      {
       "output_type": "stream",
       "stream": "stdout",
       "text": [
        "\n",
        "0.331868437732\t0.08509525174\t3594.4719712\t1240.01696816\t0.0878843485626\t0.0170584288631\n",
        "\n",
        "accepting new alpha\n",
        "ALPHA= 0.6 i= 5\n",
        "% Obese"
       ]
      },
      {
       "output_type": "stream",
       "stream": "stdout",
       "text": [
        " features:\n",
        "pos:Othref (3) Social (2.8) d=School (2.5) I (2.5) Self (2.4) You (2.3) Pronoun (2.1) d=Social (2.1) d=I (2.1) Negate (1.8)\n",
        "neg:Preps (-1.6) d=Preps (-1.5) d=Incl (-1.4) d=Job (-1.4) d=Achieve (-0.87) d=Senses (-0.68) d=Up (-0.67) Article (-0.64) P+ (-0.62) d=Time (-0.62)\n",
        "Teen Birth Rate"
       ]
      },
      {
       "output_type": "stream",
       "stream": "stdout",
       "text": [
        " features:\n",
        "pos:d=I (25) d=Self (24) d=Pronoun (18) d=Relig (15) d=Metaph (15) d=Present (14) d=Motion (12) d=Affect (9.5) d=Posemo (9.4) d=Home (8.8)\n",
        "neg:Preps (-6.3) Incl (-6.3) Occup (-5.5) Achieve (-4.1) Time (-4.1) d=Othref (-3.5) Present (-3.5) Physcal (-3.3) d=Cause (-3.1) Cogmech (-2.9)\n",
        "% No Social-Emotional Support"
       ]
      },
      {
       "output_type": "stream",
       "stream": "stdout",
       "text": [
        " features:\n",
        "pos:d=Preps (8) d=Article (4) d=Pronoun (3.4) Preps (3.3) d=Incl (3.2) d=Self (3.1) Article (2.8) d=Time (2.7) d=Cogmech (2.6) d=Affect (2.5)\n",
        "neg:d=Sports (-3.2) d=School (-2.8) Excl (-2.7) You (-2.5) Discrep (-2.5) Insight (-2.3) Tentat (-2.3) Motion (-2.3) d=Relig (-2.3) d=Metaph (-2.2)\n",
        "correl\tcorrel_a\tmse_m\tmse_std\tsmape_m\tsmape_std\n"
       ]
      },
      {
       "output_type": "stream",
       "stream": "stdout",
       "text": [
        "\n",
        "0.338863186845\t0.0840557112805\t3588.58172653\t1229.37809376\t0.0875584266482\t0.0170223398469\n",
        "\n",
        "accepting new alpha\n",
        "ALPHA= 0.5 i= 4\n",
        "% Obese"
       ]
      },
      {
       "output_type": "stream",
       "stream": "stdout",
       "text": [
        " features:\n",
        "pos:Othref (3.3) Social (3) d=School (2.7) I (2.6) Self (2.5) You (2.5) d=Social (2.2) Pronoun (2.2) d=I (2.2) Negate (2.1)\n",
        "neg:Preps (-2) d=Preps (-1.8) d=Incl (-1.6) d=Job (-1.6) d=Achieve (-1) d=Senses (-0.82) d=Up (-0.81) Article (-0.79) P+ (-0.76) d=Time (-0.73)\n",
        "Teen Birth Rate"
       ]
      },
      {
       "output_type": "stream",
       "stream": "stdout",
       "text": [
        " features:\n",
        "pos:d=I (27) d=Self (25) d=Pronoun (19) d=Relig (17) d=Metaph (16) d=Present (15) d=Motion (13) d=Affect (10) d=Posemo (10) Negate (10)\n",
        "neg:Preps (-7.7) Incl (-7.3) Occup (-6.2) Time (-4.7) Achieve (-4.7) Present (-4.4) d=Othref (-4.3) Physcal (-3.9) Cogmech (-3.8) d=Cause (-3.7)\n",
        "% No Social-Emotional Support"
       ]
      },
      {
       "output_type": "stream",
       "stream": "stdout",
       "text": [
        " features:\n",
        "pos:d=Preps (8.9) d=Article (4.3) Preps (3.7) d=Pronoun (3.6) d=Incl (3.4) d=Self (3.3) Article (3.2) d=Time (3) d=Cogmech (2.8) d=Affect (2.7)\n",
        "neg:d=Sports (-3.6) d=School (-3.2) Excl (-3.1) You (-2.7) Discrep (-2.7) d=Relig (-2.7) d=Metaph (-2.6) Insight (-2.6) Motion (-2.5) Tentat (-2.5)\n",
        "correl\tcorrel_a\tmse_m\tmse_std\tsmape_m\tsmape_std\n"
       ]
      },
      {
       "output_type": "stream",
       "stream": "stdout",
       "text": [
        "\n",
        "0.346876841528\t0.0801537863633\t3584.79329516\t1217.57643202\t0.0871872298688\t0.016965148548\n",
        "\n",
        "accepting new alpha\n",
        "ALPHA= 0.4 i= 3\n",
        "% Obese"
       ]
      },
      {
       "output_type": "stream",
       "stream": "stdout",
       "text": [
        " features:\n",
        "pos:Othref (3.7) Social (3.4) d=School (2.9) You (2.8) I (2.8) Self (2.7) d=Social (2.4) Negate (2.4) d=I (2.3) Pronoun (2.3)\n",
        "neg:Preps (-2.6) d=Preps (-2.1) d=Incl (-1.9) d=Job (-1.9) d=Achieve (-1.3) d=Up (-1) d=Senses (-1) Article (-0.99) P+ (-0.97) d=Time (-0.87)\n",
        "Teen Birth Rate"
       ]
      },
      {
       "output_type": "stream",
       "stream": "stdout",
       "text": [
        " features:\n",
        "pos:d=I (29) d=Self (27) d=Pronoun (20) d=Relig (19) d=Metaph (19) d=Present (16) d=Motion (14) Negate (12) d=Home (12) d=Posemo (11)\n",
        "neg:Preps (-9.5) Incl (-8.6) Occup (-7) Present (-5.7) Time (-5.5) Achieve (-5.4) d=Othref (-5.3) Cogmech (-5) Physcal (-4.7) d=Cause (-4.5)\n",
        "% No Social-Emotional Support"
       ]
      },
      {
       "output_type": "stream",
       "stream": "stdout",
       "text": [
        " features:\n",
        "pos:d=Preps (9.9) d=Article (4.8) Preps (4.2) d=Pronoun (3.9) Article (3.8) d=Incl (3.6) d=Self (3.5) d=Time (3.5) d=Cogmech (3.1) d=Affect (2.9)\n",
        "neg:d=Sports (-4.3) d=School (-3.8) Excl (-3.5) d=Relig (-3.3) d=Metaph (-3.3) You (-3.1) Discrep (-3) Insight (-3) Motion (-2.9) Tentat (-2.9)\n",
        "correl\tcorrel_a\tmse_m\tmse_std\tsmape_m\tsmape_std\n"
       ]
      },
      {
       "output_type": "stream",
       "stream": "stdout",
       "text": [
        "\n",
        "0.356346887614\t0.0748736013706\t3584.15995138\t1204.22266845\t0.086744010756\t0.0168819372168\n",
        "\n",
        "accepting new alpha\n",
        "ALPHA= 0.3 i= 2\n",
        "% Obese"
       ]
      },
      {
       "output_type": "stream",
       "stream": "stdout",
       "text": [
        " features:\n",
        "pos:Othref (4.3) Social (3.9) You (3.3) d=School (3.2) I (3) Self (3) Negate (2.9) d=Social (2.7) d=I (2.5) Pronoun (2.4)\n",
        "neg:Preps (-3.4) d=Preps (-2.5) d=Incl (-2.4) d=Job (-2.2) d=Achieve (-1.6) d=Motion (-1.4) d=Up (-1.3) d=Senses (-1.3) P+ (-1.3) Article (-1.3)\n",
        "Teen Birth Rate"
       ]
      },
      {
       "output_type": "stream",
       "stream": "stdout",
       "text": [
        " features:\n",
        "pos:d=I (32) d=Self (30) d=Relig (22) d=Metaph (22) d=Pronoun (21) d=Present (17) Negate (15) d=Motion (14) d=Home (14) d=Posemo (13)\n",
        "neg:Preps (-12) Incl (-10) Occup (-8.3) Present (-7.5) d=Othref (-6.9) Cogmech (-6.9) Time (-6.6) Achieve (-6.5) Physcal (-5.9) d=Cogmech (-5.9)\n",
        "% No Social-Emotional Support"
       ]
      },
      {
       "output_type": "stream",
       "stream": "stdout",
       "text": [
        " features:\n",
        "pos:d=Preps (11) d=Article (5.4) Preps (4.8) Article (4.6) d=Pronoun (4.2) d=Time (4.1) d=Incl (3.8) d=Self (3.8) d=Cogmech (3.4) Pronoun (3.4)\n",
        "neg:d=Sports (-5.1) d=School (-4.6) d=Relig (-4.2) Excl (-4.2) d=Metaph (-4.2) Insight (-3.5) Discrep (-3.5) You (-3.4) Motion (-3.4) Tentat (-3.3)\n",
        "correl\tcorrel_a\tmse_m\tmse_std\tsmape_m\tsmape_std\n"
       ]
      },
      {
       "output_type": "stream",
       "stream": "stdout",
       "text": [
        "\n",
        "0.368034859058\t0.0713672510742\t3588.65918635\t1188.7248746\t0.0862249469647\t0.0167315364176\n",
        "\n",
        "accepting new alpha\n",
        "ALPHA= 0.2 i= 1\n",
        "% Obese"
       ]
      },
      {
       "output_type": "stream",
       "stream": "stdout",
       "text": [
        " features:\n",
        "pos:Othref (5.3) Social (4.7) You (4) d=School (3.8) Negate (3.7) Self (3.4) I (3.3) d=Posfeel (3.3) d=Social (3.2) d=Relig (2.8)\n",
        "neg:Preps (-4.8) d=Preps (-3) d=Incl (-3) d=Job (-2.9) d=Motion (-2.6) d=Achieve (-2.3) P+ (-1.9) d=Senses (-1.8) d=Up (-1.8) Article (-1.6)\n",
        "Teen Birth Rate"
       ]
      },
      {
       "output_type": "stream",
       "stream": "stdout",
       "text": [
        " features:\n",
        "pos:d=I (35) d=Self (33) d=Relig (27) d=Metaph (26) d=Pronoun (23) Negate (20) d=Present (19) d=Home (19) d=Posemo (16) d=Affect (16)\n",
        "neg:Preps (-16) Incl (-13) Occup (-10) Cogmech (-10) Present (-10) d=Cogmech (-9.8) d=Othref (-9.5) Achieve (-8.3) d=Cause (-8.2) Time (-8.1)\n",
        "% No Social-Emotional Support"
       ]
      },
      {
       "output_type": "stream",
       "stream": "stdout",
       "text": [
        " features:\n",
        "pos:d=Preps (13) d=Article (6.1) Article (6.1) Preps (5.7) d=Time (5) d=Pronoun (4.7) Pronoun (4.5) d=Self (4.2) d=Music (4.1) d=Up (4)\n",
        "neg:d=Sports (-6.5) d=School (-5.9) d=Relig (-5.8) d=Metaph (-5.7) Excl (-5.4) Insight (-4.4) Motion (-4.1) Discrep (-4) Tentat (-4) You (-4)\n",
        "correl\tcorrel_a\tmse_m\tmse_std\tsmape_m\tsmape_std\n"
       ]
      },
      {
       "output_type": "stream",
       "stream": "stdout",
       "text": [
        "\n",
        "0.383413322143\t0.0716615962788\t3602.77079661\t1170.2902801\t0.0855592313586\t0.0164657780642\n",
        "\n",
        "accepting new alpha\n",
        "ALPHA= 0.1 i= 0\n",
        "% Obese"
       ]
      },
      {
       "output_type": "stream",
       "stream": "stdout",
       "text": [
        " features:\n",
        "pos:Othref (7.5) Social (6.8) d=Posfeel (5.4) Negate (5.4) You (5.3) d=School (5) d=Social (4.4) Self (4.2) d=You (4.1) d=Posemo (4)\n",
        "neg:Preps (-7.5) d=Motion (-6.4) d=Job (-4.1) d=Incl (-4) d=Achieve (-3.9) P+ (-3.7) d=Preps (-3.5) Posemo (-3.3) d=Senses (-3.2) d=Up (-3)\n",
        "Teen Birth Rate"
       ]
      },
      {
       "output_type": "stream",
       "stream": "stdout",
       "text": [
        " features:\n",
        "pos:d=I (38) d=Relig (37) d=Self (36) d=Metaph (35) Negate (32) d=Home (29) d=Pronoun (24) d=Affect (22) d=Posemo (22) d=Present (22)\n",
        "neg:Preps (-21) d=Cogmech (-19) Cogmech (-18) Incl (-17) Occup (-15) Present (-15) d=Othref (-14) d=Cause (-14) d=Senses (-14) d=Social (-14)\n",
        "% No Social-Emotional Support"
       ]
      },
      {
       "output_type": "stream",
       "stream": "stdout",
       "text": [
        " features:\n",
        "pos:d=Preps (17) Article (9) d=Article (7.2) Preps (6.8) d=Time (6.7) Pronoun (6.7) Self (6.2) I (5.8) d=Up (5.6) d=Home (5.6)\n",
        "neg:d=Relig (-9.1) d=Metaph (-9) d=Sports (-9) d=School (-8.1) Excl (-8) Insight (-6) Achieve (-5.6) Motion (-5.6) Tentat (-5.2) You (-4.9)\n",
        "correl\tcorrel_a\tmse_m\tmse_std\tsmape_m\tsmape_std\n"
       ]
      },
      {
       "output_type": "stream",
       "stream": "stdout",
       "text": [
        "\n",
        "0.405863005572\t0.0551069655178\t3641.86245907\t1149.2435922\t0.0846598559351\t0.015804393834\n",
        "\n",
        "accepting new alpha\n",
        "stopping.\n",
        "(0.1, 0.084659855935110925)\n"
       ]
      }
     ],
     "prompt_number": 153
    },
    {
     "cell_type": "code",
     "collapsed": false,
     "input": [
      "smape  alpha  use_gender  use_race  use_og\n",
      ".0969   .3     t            t         t\n",
      ".0973   .4     f            t         t\n",
      ".1002   .4     f            t         f\n",
      ".0934   .2     t            f         t\n",
      ".0938   .2     t            f         f"
     ],
     "language": "python",
     "metadata": {},
     "outputs": []
    },
    {
     "cell_type": "code",
     "collapsed": false,
     "input": [
      "import expt\n",
      "import texify_results\n",
      "def pct_impr(old, new):\n",
      "    return 100. * (old - new) / old\n",
      "\n",
      "improvements = []\n",
      "impr_err = []\n",
      "target_pr = []\n",
      "for target, gender_r, og_r in sorted(zip(targets, gender_results, og_results),\n",
      "                                     key=lambda x:np.mean(pct_impr(x[2], x[1]))):\n",
      "    if target not in ['Female', 'Afro-hispanic', '< 18', '65 and over', 'med_income']:\n",
      "        imprs = pct_impr(og_r, gender_r)\n",
      "        print texify_results.label_map[expt.fmt_target(target)], ',', np.mean(imprs), ',', np.std(imprs), ',', np.mean(og_r), np.mean(gender_r)\n",
      "        improvements.append(np.mean(imprs))\n",
      "        impr_err.append(np.std(imprs) / sqrt(len(imprs)) / 2)\n",
      "        target_pr.append(target)\n",
      "    \n",
      "y_pos = np.arange(len(target_pr))\n",
      "\n",
      "fig = plt.figure()\n",
      "ax = fig.add_subplot(111)\n",
      "ax.tick_params(axis='both', labelsize='8')\n",
      "plt.barh(y_pos, improvements, xerr=impr_err, align='center', alpha=0.8)\n",
      "plt.yticks(y_pos, target_pr)\n",
      "plt.xlabel('% SMAPE improvement')\n",
      "plt.savefig('reweight.pdf', bbox_inches='tight')\n",
      "print 'mean improvement=', np.mean(improvements)"
     ],
     "language": "python",
     "metadata": {},
     "outputs": [
      {
       "output_type": "stream",
       "stream": "stdout",
       "text": [
        "Limited Healthy Food , -6.26279572115 , 6.93896446375 , 0.214646412436 0.226660249318\n",
        "Mentally Unhealthy , -2.08727121601 , 5.68961384446 , 0.0580400336468 0.0594413361465\n",
        "Fast Food , -1.81737974757 , 12.922370719 , 0.0435062579698 0.042696507462\n",
        "HS Grad Rate , -1.50370699275 , 10.1212643892 , 0.0494309003943 0.0496813996087\n",
        "Ambulatory Care , -1.20239435188 , 7.06271106102 , 0.092579423776 0.0935698241963\n",
        "Diabetes , 0.00792246146076 , 5.86056128401 , 0.0140222322401 0.0140941136597\n",
        "Smokers , 0.039391319165 , 3.52615899627 , 0.088470914613 0.088462521781\n",
        "Inactivity , 1.06660491389 , 9.2598487747 , 0.0762597405436 0.0750767465762\n",
        "Obesity , 1.41736608513 , 8.83139016646 , 0.0615182155071 0.0599816194404\n",
        "Unhealthy Days , 1.57933731872 , 7.85652812864 , 0.0596104137037 0.0589839787721\n",
        "Unemployment , 1.65451596891 , 4.05028841082 , 0.0987429762632 0.0969544778624\n",
        "Violent Crime , 1.68805845014 , 7.75576279914 , 0.193001841866 0.18729774036\n",
        "Primary Care , 3.71832686037 , 3.73799012902 , 0.115055082879 0.11074972733\n",
        "Dentist Access , 4.47868457842 , 4.46103922432 , 0.099925851381 0.0954952799169\n",
        "Vehicle Mortality , 5.34952762684 , 4.31578010832 , 0.130339067332 0.123610982561\n",
        "Drinking , 5.38334259047 , 6.95457134261 , 0.0547361201709 0.0518692878232\n",
        "Mammography , 6.42192674886 , 4.76670420921 , 0.030333243509 0.0283411792913\n",
        "Rec Facilities , 7.76448617285 , 4.97222874805 , 0.145277692888 0.134613345379\n",
        "Chlamydia , 7.80493552958 , 5.00276863781 , 0.195793207447 0.179428079436\n",
        "Poor Health , 7.85704314545 , 3.47779478975 , 0.0886478321782 0.0814051135286\n",
        "Child Poverty , 7.97424929683 , 10.055518589 , 0.142176729761 0.131564642329\n",
        "Teen Births , 9.24079506023 , 10.656015431 , 0.153350168343 0.139505892289\n",
        "Low Birth Weight , 9.34022580426 , 8.63520070302 , 0.0550947681135 0.0505328749649\n",
        "Single Parent , 9.5974883603 , 4.03828953063 , 0.105568591986 0.0949545712506\n",
        "College , 11.522968503 , 4.35019460909 , 0.0496563987303 0.0436829074588\n",
        "No Insurance , 11.6452729405 , 6.54422839575 , 0.110324377552 0.0978085532269\n",
        "No socio-emotional support , 13.3285569481 , 10.642594913 , 0.0661920354153 0.0572465090837\n",
        "mean improvement="
       ]
      },
      {
       "output_type": "stream",
       "stream": "stdout",
       "text": [
        " 4.29657328348\n"
       ]
      },
      {
       "metadata": {},
       "output_type": "display_data",
       "png": "[encoded data removed]",
       "text": [
        "<matplotlib.figure.Figure at 0x11b6d5450>"
       ]
      }
     ],
     "prompt_number": 158
    },
    {
     "cell_type": "code",
     "collapsed": false,
     "input": [
      "%pylab inline --no-import-all\n",
      "\n",
      "import spatial\n",
      "# Plot discrepancy between estimated %female and census\n",
      "# Print gender by county.\n",
      "targets, target_alpha = expt.read_targets('/data/twcounty/targets.tsv', county2gender.keys())\n",
      "female_idx = target_alpha.index('Female')\n",
      "female_true = dict((fips, target[female_idx]) for fips, target in targets.iteritems())\n",
      "female_pred = dict((fips, 100. * v['f'] / (v['m'] + v['f'])) for fips, v in county2gender.iteritems())\n",
      "\n",
      "coords = expt.read_coords('/data/twcounty/stats2/counties/counties.top100.bounding.txt')\n",
      "\n",
      "truths = []\n",
      "errs = []\n",
      "preds = []\n",
      "coords_fips = []\n",
      "for fips, f_true in sorted(female_true.items(), key=lambda x: x[1]):\n",
      "    truths.append(f_true)\n",
      "    errs.append(female_pred[fips] - f_true)\n",
      "    preds.append(female_pred[fips])\n",
      "    coords_fips = coords[fips]\n",
      "\n",
      "# Plot truth vs error.\n",
      "scatter(truths, errs)\n",
      "axhline(y=0)\n",
      "xlabel(\"% Female (truth)\")\n",
      "ylabel(\"Error (Predicted - Truth)\")\n",
      "\n",
      "# Plot truth vs predicted.\n",
      "figure()\n",
      "scatter(truths,preds)\n",
      "ylabel(\"% Female (predicted)\", size=18)\n",
      "xlabel(\"% Female (truth)\", size=18)\n",
      "title('r=%.2f' % pearsonr(truths, preds)[0], size=18)\n",
      "plt.savefig('gender-scatter.pdf', bbox_inches='tight')\n",
      "\n",
      "from scipy.stats import pearsonr\n",
      "print 'correlation is', pearsonr(truths, preds)\n"
     ],
     "language": "python",
     "metadata": {},
     "outputs": [
      {
       "output_type": "stream",
       "stream": "stdout",
       "text": [
        "Populating the interactive namespace from numpy and matplotlib\n",
        "correlation is"
       ]
      },
      {
       "output_type": "stream",
       "stream": "stdout",
       "text": [
        " (0.022023865153150676, 0.82782176638194449)\n"
       ]
      },
      {
       "metadata": {},
       "output_type": "display_data",
       "png": "[encoded data removed]",
       "text": [
        "<matplotlib.figure.Figure at 0x1157c0290>"
       ]
      },
      {
       "metadata": {},
       "output_type": "display_data",
       "png": "[encoded data removed]",
       "text": [
        "<matplotlib.figure.Figure at 0x120248310>"
       ]
      }
     ],
     "prompt_number": 182
    },
    {
     "cell_type": "heading",
     "level": 1,
     "metadata": {},
     "source": [
      "%pylab inline --no-import-all\n",
      "from scipy.stats import pearsonr\n",
      "import spatial\n",
      "# Plot discrepancy between estimated race and census\n",
      "targets, target_alpha = expt.read_targets('/data/twcounty/targets.tsv', county2race.keys())\n",
      "race_idx = target_alpha.index('Afro-hispanic')\n",
      "race_true = dict((fips, target[race_idx]) for fips, target in targets.iteritems())\n",
      "race_pred = dict((fips, 100. * (v['black'] + v['latin']) / (v['black'] + v['latin'] + v['white'])) for fips, v in county2race.iteritems())\n",
      "\n",
      "coords = expt.read_coords('/data/twcounty/stats2/counties/counties.top100.bounding.txt')\n",
      "\n",
      "truths = []\n",
      "errs = []\n",
      "preds = []\n",
      "coords_fips = []\n",
      "for fips, f_true in sorted(race_true.items(), key=lambda x: x[1]):\n",
      "    if race_pred[fips] > 70:\n",
      "        print fips, f_true, race_pred[fips], county2race[fips]\n",
      "    else:\n",
      "        truths.append(f_true)\n",
      "        errs.append(race_pred[fips] - f_true)\n",
      "        preds.append(race_pred[fips])\n",
      "        coords_fips = coords[fips]\n",
      "\n",
      "# Plot truth vs error.\n",
      "scatter(truths, errs)\n",
      "axhline(y=0)\n",
      "xlabel(\"% Afro-hispanic (truth)\")\n",
      "ylabel(\"Error (Predicted - Truth)\")\n",
      "\n",
      "# Plot truth vs predicted.\n",
      "figure()\n",
      "scatter(truths,preds)\n",
      "ylabel(\"% Afro-hispanic (predicted)\", size='18')\n",
      "xlabel(\"% Afro-hispanic(truth)\", size='18')\n",
      "title('r=%.2f' % pearsonr(truths, preds)[0], size=18)\n",
      "plt.savefig('race-scatter.pdf', bbox_inches='tight')\n",
      "\n",
      "print 'correlation is', pearsonr(truths, preds)"
     ]
    }
   ],
   "metadata": {}
  }
 ]
}